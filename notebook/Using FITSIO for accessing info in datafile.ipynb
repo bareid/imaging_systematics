{
 "metadata": {
  "name": "",
  "signature": "sha256:6ce7023d2fd8ebc6aae44c6712279d553ec1ee3c7b7f8719143ef7b37e72bfa7"
 },
 "nbformat": 3,
 "nbformat_minor": 0,
 "worksheets": [
  {
   "cells": [
    {
     "cell_type": "code",
     "collapsed": false,
     "input": [
      "cd ../../imagingsys/"
     ],
     "language": "python",
     "metadata": {},
     "outputs": [
      {
       "output_type": "stream",
       "stream": "stdout",
       "text": [
        "/Users/dorislee/Desktop/BOSS/imagingsys\n"
       ]
      }
     ],
     "prompt_number": 1
    },
    {
     "cell_type": "code",
     "collapsed": false,
     "input": [
      "import fitsio"
     ],
     "language": "python",
     "metadata": {},
     "outputs": [],
     "prompt_number": 2
    },
    {
     "cell_type": "code",
     "collapsed": false,
     "input": [
      "hdu = fitsio.read(\"cmass-dr12v4-N-Reid-DORIS.fits\")"
     ],
     "language": "python",
     "metadata": {},
     "outputs": [],
     "prompt_number": 12
    },
    {
     "cell_type": "code",
     "collapsed": false,
     "input": [
      "hdu['MODELFLUX_IVAR'][0:10]"
     ],
     "language": "python",
     "metadata": {},
     "outputs": [
      {
       "metadata": {},
       "output_type": "pyout",
       "prompt_number": 13,
       "text": [
        "array([[  2.98920465,  15.61164284,   5.17815542,   2.59975123,\n",
        "          0.20793006],\n",
        "       [  5.97432089,  27.25928116,   9.98053837,   5.2623148 ,\n",
        "          0.34970948],\n",
        "       [  1.81786501,   9.05044651,   3.25487161,   1.488361  ,\n",
        "          0.09044168],\n",
        "       [  4.89426231,  26.76244545,   9.89457417,   4.57839012,\n",
        "          0.25863829],\n",
        "       [  4.28748941,  21.2129364 ,   8.40403652,   3.89145589,\n",
        "          0.23817645],\n",
        "       [  1.53383195,   8.93029308,   3.21474218,   1.57835519,\n",
        "          0.09507854],\n",
        "       [  1.67737865,   9.51132488,   3.22524905,   1.58708668,\n",
        "          0.08797753],\n",
        "       [  1.09174514,   4.54741192,   1.70274425,   0.87708074,\n",
        "          0.06208043],\n",
        "       [  5.40692902,  24.80725479,   8.39618874,   4.47187424,\n",
        "          0.33368656],\n",
        "       [  8.03780174,  36.0099678 ,  11.99447632,   6.13670349,\n",
        "          0.47142377]], dtype=float32)"
       ]
      }
     ],
     "prompt_number": 13
    },
    {
     "cell_type": "code",
     "collapsed": false,
     "input": [],
     "language": "python",
     "metadata": {},
     "outputs": []
    }
   ],
   "metadata": {}
  }
 ]
}