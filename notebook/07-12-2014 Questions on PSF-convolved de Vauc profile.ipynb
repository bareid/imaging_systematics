{
 "metadata": {
  "name": "",
  "signature": "sha256:8d98f6832757906dc811b8acadd2a12c620ea326547b8959cad85ab927fb2478"
 },
 "nbformat": 3,
 "nbformat_minor": 0,
 "worksheets": [
  {
   "cells": [
    {
     "cell_type": "heading",
     "level": 1,
     "metadata": {},
     "source": [
      " Questions on PSF-convolved de Vauc profile"
     ]
    },
    {
     "cell_type": "markdown",
     "metadata": {},
     "source": [
      "Not too sure what x,y stands for:\n",
      "$$ \\tilde{p}(x)= \\int_\\text{over all pixels}p(y) e^{-\\frac{(x-y)^2}{2\\sigma^2}}\\frac{1}{\\sigma \\sqrt{2\\pi}}dy$$\n",
      "\n",
      "If I understand correctly, we are integrating over all the pixels(i.e. taking continuous limit of double sum over i,j) so I am not too sure why the output is denoted as x whereas the input is y ,instead of a doule integral $\\int \\int ...dx dy$ and how this relates to the R variable in de Vauc formula:\n",
      "\n",
      "\n",
      "\n",
      "\n",
      "\n",
      "$$I(R) = I_e e^{-7.669[(\\frac{R}{R_e})^{1/4} -1]}$$\n",
      "\n",
      "\n",
      "\n",
      "\n",
      "\n",
      "I know that I is equivalent to p in this case, but am confused about what x and y each stands for and how x,y,R relate to each other. \n"
     ]
    },
    {
     "cell_type": "markdown",
     "metadata": {},
     "source": [
      "\n",
      "I read up on how to do this kind of integral, I need to substitue $\\chi$=(x-y), square the whole integral, since it is the same form, you can also subsitute another vairable $\\Upsilon$ , using the relation $r^2=\\chi^2+\\Upsilon^2$ to convert to polar where you get an extra r with $ dr d\\theta$ which makes the integral possible to solve. The rest should be just algebra."
     ]
    }
   ],
   "metadata": {}
  }
 ]
}