{
 "metadata": {
  "name": "",
  "signature": "sha256:6a26beb2fb46927f74f7e2bf789ee6f850a19afe7c642777a64ad0daa1706c39"
 },
 "nbformat": 3,
 "nbformat_minor": 0,
 "worksheets": [
  {
   "cells": [
    {
     "cell_type": "code",
     "collapsed": false,
     "input": [
      "man qsub"
     ],
     "language": "python",
     "metadata": {},
     "outputs": []
    },
    {
     "cell_type": "heading",
     "level": 3,
     "metadata": {},
     "source": [
      "Compiling"
     ]
    },
    {
     "cell_type": "markdown",
     "metadata": {},
     "source": [
      "Compile by .RUN beth.pro\n",
      "\n",
      "fixed a syntax error (add \"endfor\" on line 25 in beth.pro)"
     ]
    },
    {
     "cell_type": "heading",
     "level": 3,
     "metadata": {},
     "source": [
      "Memory issue"
     ]
    },
    {
     "cell_type": "markdown",
     "metadata": {},
     "source": [
      "Large array created in hogg_mrdfits.pro but login node can not use too much runtime memory, so need to submit batch jobs using qsub to the computing grid"
     ]
    },
    {
     "cell_type": "markdown",
     "metadata": {},
     "source": [
      "I made changes to test.sh as how I would run interactively on bash. The issue with memory running out is resolved (since running a job using qsub) but there is a new issue with DISPLAY"
     ]
    },
    {
     "cell_type": "heading",
     "level": 3,
     "metadata": {},
     "source": [
      "Resolving DISPLAY variable issue"
     ]
    },
    {
     "cell_type": "markdown",
     "metadata": {},
     "source": [
      "I tried a combination of \n",
      "ssh -X\n",
      "ssh -Y\n",
      "\n",
      "qsub -I -V \n",
      "qsub -I -V $DISPLAY\n",
      "qsub -I -V DISPLAY\n",
      "\n",
      "echo $DISPLAY \n",
      "\n",
      "then tested with \n",
      "xterm &\n",
      "\n",
      "The issue is either that the echo $DISPLAY returns nothing. Or it returns localhost:10.0, then when xterm is tested, it says that localhost:10.0 can not be found.\n",
      "\n",
      "        xterm Xt error: Can't open display: localhost:10.0"
     ]
    },
    {
     "cell_type": "markdown",
     "metadata": {},
     "source": [
      "Initally when I used \n",
      "\n",
      "qsub -X -V -I -q interactive -l walltime=24:00:00\n",
      "        \n",
      "It complained that it couldn't find script for interactive, but it works now, not sure why.\n",
      "I finally got the program running sucessfully, there was a GUI that popped out and then went away.\n",
      "Then \n",
      "\n",
      "test.sh: line 13: 19197 Segmentation fault      idl  <<EOF\n",
      "\n"
     ]
    },
    {
     "cell_type": "markdown",
     "metadata": {},
     "source": [
      "I suspect this is due to the last EOF that I have, this problem is resolved if I run interactively without the EOF."
     ]
    },
    {
     "cell_type": "heading",
     "level": 3,
     "metadata": {},
     "source": [
      "Running the Program"
     ]
    },
    {
     "cell_type": "markdown",
     "metadata": {},
     "source": [
      "- the program can not be ran using the bash script because EOF means that the file has to close after running, therefore you need to run interactively so that the ATV window is open at all times during execution.\n",
      "\n",
      "- HistEq\n"
     ]
    },
    {
     "cell_type": "code",
     "collapsed": false,
     "input": [],
     "language": "python",
     "metadata": {},
     "outputs": []
    }
   ],
   "metadata": {}
  }
 ]
}