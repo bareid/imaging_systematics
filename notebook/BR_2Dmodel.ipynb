{
 "metadata": {
  "name": "BR_2Dmodel"
 },
 "nbformat": 3,
 "nbformat_minor": 0,
 "worksheets": [
  {
   "cells": [
    {
     "cell_type": "markdown",
     "metadata": {},
     "source": [
      "Equations 22-24 of [Hogg and Lang](http://arxiv.org/pdf/1210.6563.pdf) explicitly write what we want to evaluate, namely, a model that convolves the \"pixel-convolved\" PSF with the intrinsic galaxy profile.  We can copy Hogg and Lang and represent the deVauc profile as a sum of Gaussians.  The PSF we will represent as Gaussian for this project.  The only question is how to get the pixel-convolved PSF represented as a Gaussian (do we need to go through their minimization procedure?)  What exactly does that mean?\n",
      "\n",
      "From pg 8: \"Other definitions for the PSF (the non-pixel-convolved, for example) require that the user do two convolutions, the first with the PSF and the second with the square (or worse) pixel.\"\n",
      "\n",
      "We might not have to worry about speed so much in our case, because we can just do this once and plop it down in the center of random pixels, and then maybe recycle through several positions with respect to the center of the pixel to make sure we're not biasing things by just choosing the center.  Then the model looks very simple, so we can just write slow code to do the square pixel convolution.\n",
      "\n",
      "In summary, we should represent the deVauc profile as 10 Gaussians and the PSF as a single Gaussian and use Eqn. 22-24 as our base model.  Then we should convolve that model with the SDSS pixels.  We should end up with something like Fig 6.\n",
      "\n",
      "The model will just tell us how to weight the noise when we start grabbing real SDSS images."
     ]
    },
    {
     "cell_type": "code",
     "collapsed": false,
     "input": [],
     "language": "python",
     "metadata": {},
     "outputs": []
    }
   ],
   "metadata": {}
  }
 ]
}