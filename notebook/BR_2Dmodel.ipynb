{
 "metadata": {
  "name": "BR_2Dmodel",
  "signature": "sha256:e1065d37e86c8470e65010cef2ad7324f14c7aa5def38652ea4bc9857c6d03bf"
 },
 "nbformat": 3,
 "nbformat_minor": 0,
 "worksheets": [
  {
   "cells": [
    {
     "cell_type": "code",
     "collapsed": false,
     "input": [
      "import  matplotlib.pyplot as plt\n",
      "%pylab inline\n",
      "%matplotlib inline"
     ],
     "language": "python",
     "metadata": {},
     "outputs": [
      {
       "output_type": "stream",
       "stream": "stdout",
       "text": [
        "Populating the interactive namespace from numpy and matplotlib\n"
       ]
      }
     ],
     "prompt_number": 1
    },
    {
     "cell_type": "markdown",
     "metadata": {},
     "source": [
      "Equations 22-24 of [Hogg and Lang](http://arxiv.org/pdf/1210.6563.pdf) explicitly write what we want to evaluate, namely, a model that convolves the \"pixel-convolved\" PSF with the intrinsic galaxy profile.  We can copy Hogg and Lang and represent the deVauc profile as a sum of Gaussians.  The PSF we will represent as Gaussian for this project.  The only question is how to get the pixel-convolved PSF represented as a Gaussian (do we need to go through their minimization procedure?)  What exactly does that mean?\n",
      "\n",
      "From pg 8: \"Other definitions for the PSF (the non-pixel-convolved, for example) require that the user do two convolutions, the first with the PSF and the second with the square (or worse) pixel.\"\n",
      "\n",
      "We might not have to worry about speed so much in our case, because we can just do this once and plop it down in the center of random pixels, and then maybe recycle through several positions with respect to the center of the pixel to make sure we're not biasing things by just choosing the center.  Then the model looks very simple, so we can just write slow code to do the square pixel convolution.\n",
      "\n",
      "In summary, we should represent the deVauc profile as 10 Gaussians and the PSF as a single Gaussian and use Eqn. 22-24 as our base model.  Then we should convolve that model with the SDSS pixels.  We should end up with something like Fig 6.\n",
      "\n",
      "The model will just tell us how to weight the noise when we start grabbing real SDSS images."
     ]
    },
    {
     "cell_type": "code",
     "collapsed": false,
     "input": [
      "import numpy as np"
     ],
     "language": "python",
     "metadata": {},
     "outputs": [],
     "prompt_number": 2
    },
    {
     "cell_type": "code",
     "collapsed": false,
     "input": [
      "# Doris, can you grab the Gaussian coefficients from the Hogg and Lang paper (download source and grab with python from the tex, or by hand..) and code them up in the deVauc function?\n",
      "\n",
      "def N(xgrid,ygrid,m,Vinv):\n",
      "  \"\"\"\n",
      "  2d normal (Gaussian) distribution.\n",
      "  #http://en.wikipedia.org/wiki/Gaussian_function#Two-dimensional_Gaussian_function\n",
      "  xgrid,ygrid is the output of a meshgrid.\n",
      "  #m is the mean (x_0,y_0)\n",
      "  Vinv is a 2x2 np.array, you already took the inverse!\n",
      "  \"\"\"\n",
      "  assert Vinv[0,1] == Vinv[0,1]\n",
      "  exparg = (xgrid - m[0])*Vinv[0,0]*(xgrid - m[0]) + \\\n",
      "           2*(xgrid - m[0])*Vinv[1,0]*(ygrid -m[1]) + \\\n",
      "           (ygrid - m[1])*Vinv[1,1]*(ygrid - m[1])\n",
      "  \n",
      "  return (np.linalg.det(Vinv))**0.5/(2.*np.pi)*np.exp(-0.5*exparg)\n",
      "\n",
      "def N2diso(r,sig2inv):\n",
      "  exparg = r**2*sig2inv\n",
      "  return (0.5/np.pi)*sig2inv*np.exp(-0.5*exparg)\n",
      "  \n",
      "def deVauc1d(r,Ie,re,aopt=1):\n",
      "  \"\"\"\n",
      "  Input r in units of the half-light radius.\n",
      "  aopt = 0: straight-up deVauc formula.\n",
      "  aopt = 1: SDSS approximation ('luv') Eqn 17-18 of Hogg and Lang.\n",
      "  aopt = 2: Hogg and Lang approximation to luv (sum over 10 2d isotropic Gaussians).\n",
      "  \"\"\"\n",
      "  xi = np.fabs(r/re)\n",
      "  if aopt == 0:\n",
      "    return Ie*np.exp(-7.66924944*((xi)**(0.25)-1))\n",
      "  if aopt == 1:\n",
      "    result = np.zeros(len(r))\n",
      "    result = Ie*np.exp(-7.66925*(((xi)**2 + 0.0004)**(0.125)-1))\n",
      "    xx = np.where(xi > 8.)[0]\n",
      "    if len(xx) > 0:\n",
      "      result[xx] = 0.\n",
      "    xx = np.where((xi >= 7.) & (xi < 8.))[0]\n",
      "    if len(xx) > 0.:\n",
      "      result[xx] = result[xx] * (1.-(xi[xx]-7)**2)**2\n",
      "    return result\n",
      "  if aopt == 2:\n",
      "    ## hard code Hogg/Lang coefficients.\n",
      "    mluv10={0.01468:0.01190**-2, \\\n",
      "            0.09627:0.02210**-2, \\\n",
      "            0.28454:0.03995**-2, \\\n",
      "            0.63005:0.07117**-2, \\\n",
      "            1.19909:0.12586**-2, \\\n",
      "            2.03195:0.22240**-2, \\\n",
      "            3.07255:0.39593**-2, \\\n",
      "            4.10682:0.71922**-2, \\\n",
      "            4.83948:1.37549**-2, \\\n",
      "            4.94943:3.13117**-2}\n",
      "            \n",
      "    #mdev10={0.00139:0.00087, \\\n",
      "    #        0.00941:0.00296, \\\n",
      "    #        0.04441:0.00792, \\\n",
      "    #        0.16162:0.01902, \\\n",
      "    #        0.48121:0.04289, \\\n",
      "    #        1.20357:0.09351, \\\n",
      "    #        2.54182:0.20168, \\\n",
      "    #        4.46441:0.44126, \\\n",
      "    #        6.22820:1.01833, \\\n",
      "    #        6.15393:2.74555}\n",
      "            \n",
      "    result = np.zeros(len(r))\n",
      "    xx = np.where(xi > 8.)[0]\n",
      "    for kk, vv in mluv10.iteritems():\n",
      "      result += kk*N2diso(xi,vv)\n",
      "    if len(xx) > 0:\n",
      "      result[xx] = 0.\n",
      "    result = Ie*result\n",
      "    return result\n",
      "    \n",
      "    \n",
      "    \n",
      "\n",
      "def intT1d(r,pofr):\n",
      "  \"\"\"\n",
      "  Trapezoid rule for integration.\n",
      "  \"\"\"\n",
      "  return 0.5*((r[1:]-r[:-1])*(pofr[1:]+pofr[:-1])).sum()\n",
      "\n",
      "## Plot of the deVauc and LUV profiles.  Can you add the plot of the Gaussian approximation?\n",
      "\n",
      "r=10**np.arange(-3,2,0.001)\n",
      "print len(r)\n",
      "\n",
      "print 'this shows that parameter dependence works!'\n",
      "\n",
      "plt.figure()\n",
      "Ieval = 1.; reval = 1.\n",
      "plt.loglog(r,deVauc1d(r,Ieval,reval,0),'b')\n",
      "plt.loglog(r,deVauc1d(r,Ieval,reval,1),'g')\n",
      "plt.loglog(r,deVauc1d(r,Ieval,reval,2),'r')\n",
      "\n",
      "plt.figure()\n",
      "Ieval = 2.; reval = 1.\n",
      "plt.loglog(r,deVauc1d(r,Ieval,reval,0),'b')\n",
      "plt.loglog(r,deVauc1d(r,Ieval,reval,1),'g')\n",
      "plt.loglog(r,deVauc1d(r,Ieval,reval,2),'r')\n",
      "\n",
      "plt.figure()\n",
      "Ieval = 1.; reval = 2.\n",
      "plt.loglog(r,deVauc1d(r,Ieval,reval,0),'b')\n",
      "plt.loglog(r,deVauc1d(r,Ieval,reval,1),'g')\n",
      "plt.loglog(r,deVauc1d(r,Ieval,reval,2),'r') \n",
      "    \n"
     ],
     "language": "python",
     "metadata": {},
     "outputs": [
      {
       "output_type": "stream",
       "stream": "stdout",
       "text": [
        "5000\n",
        "this shows that parameter dependence works!\n"
       ]
      },
      {
       "output_type": "pyout",
       "prompt_number": 1,
       "text": [
        "[<matplotlib.lines.Line2D at 0x2a68450>]"
       ]
      },
      {
       "output_type": "display_data",
       "png": "[encoded data removed]"
      },
      {
       "output_type": "display_data",
       "png": "[encoded data removed]"
      },
      {
       "output_type": "display_data",
       "png": "[encoded data removed]"
      }
     ],
     "prompt_number": 1
    },
    {
     "cell_type": "code",
     "collapsed": false,
     "input": [
      "x=r\n",
      "y=deVauc1d(r,1.,1.,0)*2*np.pi*x\n",
      "y2=deVauc1d(r,1.,1.,1)*2*np.pi*x\n",
      "y3=deVauc1d(r,1.,1.,2)*2*np.pi*x\n",
      "ihalf = np.where(r > 1.)[0].min()\n",
      "print 'half light radius correct?', x[ihalf], intT1d(x[:ihalf],y[:ihalf])/intT1d(x,y)\n",
      "print 'half light approx correct for LUV profile?',intT1d(x[:ihalf],y2[:ihalf])/intT1d(x,y2)\n",
      "print 'half light approx correct for Hogg profile?',intT1d(x[:ihalf],y3[:ihalf])/intT1d(x,y3)\n",
      "\n",
      "print 'note that the profiles are not normalized to have unit flux, but to be 1 at the half light radius!'\n",
      "print 'therefore the total integrated flux is ~21, agrees with Hogg Sum over a_luv'\n",
      "intT1d(x,y),intT1d(x,y2),intT1d(x,y3)"
     ],
     "language": "python",
     "metadata": {},
     "outputs": [
      {
       "output_type": "stream",
       "stream": "stdout",
       "text": [
        "half light radius correct? 1.00230523808 0.499975031558\n",
        "half light approx correct for LUV profile? 0.52884049292\n",
        "half light approx correct for Hogg profile? 0.528455293308\n",
        "note that the profiles are not normalized to have unit flux, but to be 1 at the half light radius!\n",
        "therefore the total integrated flux is ~21, agrees with Hogg Sum over a_luv\n"
       ]
      },
      {
       "output_type": "pyout",
       "prompt_number": 4,
       "text": [
        "(22.662326549606234, 21.019904088683031, 21.036406893930479)"
       ]
      }
     ],
     "prompt_number": 4
    },
    {
     "cell_type": "markdown",
     "metadata": {},
     "source": [
      "## BR: no edits below this point!!"
     ]
    },
    {
     "cell_type": "code",
     "collapsed": false,
     "input": [
      "## Plot of the deVauc and LUV profiles.  Can you add the plot of the Gaussian approximation?\n",
      "\n",
      "r=10**np.arange(-3,2,0.001)\n",
      "print len(r)\n",
      "# plt.loglog(r,deVauc(r,1.,1.,0),'b')\n",
      "plt.loglog(r,deVauc(r,1.,1.,0),'b')\n",
      "plt.loglog(r,deVauc(r,1.,1.,1),'g')\n",
      "# plt.loglog(r,deVauc(r,1.,1.,2),'r')"
     ],
     "language": "python",
     "metadata": {},
     "outputs": [
      {
       "output_type": "stream",
       "stream": "stdout",
       "text": [
        "5000\n"
       ]
      },
      {
       "metadata": {},
       "output_type": "pyout",
       "prompt_number": 4,
       "text": [
        "[<matplotlib.lines.Line2D at 0x10ef902d0>]"
       ]
      },
      {
       "metadata": {},
       "output_type": "display_data",
       "png": "[encoded data removed]",
       "text": [
        "<matplotlib.figure.Figure at 0x10ef9f110>"
       ]
      }
     ],
     "prompt_number": 4
    },
    {
     "cell_type": "code",
     "collapsed": false,
     "input": [
      "x=r\n",
      "y=deVauc(r,1.,1.,0)*2*np.pi*x\n",
      "y2=deVauc(r,1.,1.,1)*2*np.pi*x\n",
      "ihalf = np.where(r > 1.)[0].min()\n",
      "print 'half light radius correct?', x[ihalf], intT1d(x[:ihalf],y[:ihalf])/intT1d(x,y)\n",
      "print 'half light approx correct for LUV profile?',intT1d(x[:ihalf],y2[:ihalf])/intT1d(x,y2)"
     ],
     "language": "python",
     "metadata": {},
     "outputs": [
      {
       "output_type": "stream",
       "stream": "stdout",
       "text": [
        "half light radius correct? 1.00230523808 0.499975031558\n",
        "half light approx correct for LUV profile? 0.52884049292\n"
       ]
      }
     ],
     "prompt_number": 5
    },
    {
     "cell_type": "code",
     "collapsed": false,
     "input": [
      "V = np.array([[80,0],[0,10]])\n",
      "# V = np.array([[80,0],[0,80]]) #circular profile\n",
      "Vinv = np.linalg.inv(V)\n",
      "if 0==1:\n",
      "  print V\n",
      "  print Vinv\n",
      "  print V*Vinv"
     ],
     "language": "python",
     "metadata": {},
     "outputs": [],
     "prompt_number": 6
    },
    {
     "cell_type": "code",
     "collapsed": false,
     "input": [
      "## set up the model using the geometry of the image files.\n",
      "# https://www.sdss3.org/instruments/camera.php#Filters\n",
      "nx = 2048\n",
      "ny = 1361\n",
      "psize = 0.396 # arcseconds per pixel.\n",
      "\n",
      "# coordinates of center of pixels\n",
      "x = (np.arange(0,nx,1)+0.5)*psize\n",
      "y = (np.arange(0,ny,1)+0.5)*psize\n",
      "\n",
      "xM, yM = np.meshgrid(x,y,indexing='xy')"
     ],
     "language": "python",
     "metadata": {},
     "outputs": [],
     "prompt_number": 7
    },
    {
     "cell_type": "code",
     "collapsed": false,
     "input": [
      "# 2048*1361"
     ],
     "language": "python",
     "metadata": {},
     "outputs": [],
     "prompt_number": 8
    },
    {
     "cell_type": "code",
     "collapsed": false,
     "input": [
      "print x[-10:]\n",
      "print y[-10:]"
     ],
     "language": "python",
     "metadata": {},
     "outputs": [
      {
       "output_type": "stream",
       "stream": "stdout",
       "text": [
        "[ 807.246  807.642  808.038  808.434  808.83   809.226  809.622  810.018\n",
        "  810.414  810.81 ]\n",
        "[ 535.194  535.59   535.986  536.382  536.778  537.174  537.57   537.966\n",
        "  538.362  538.758]\n"
       ]
      }
     ],
     "prompt_number": 9
    },
    {
     "cell_type": "code",
     "collapsed": false,
     "input": [
      "m = np.array([100,300])\n",
      "## test with a fat Gaussian that spans many pixels.\n",
      "I = N(xM,yM,m,Vinv)\n",
      "# check -- is the Gaussian profile normalized?\n",
      "parea = psize**2\n",
      "print 'should sum to 1.  Error:',(I[:,:].flatten()).sum()*parea-1"
     ],
     "language": "python",
     "metadata": {},
     "outputs": [
      {
       "output_type": "stream",
       "stream": "stdout",
       "text": [
        "should sum to 1.  Error: -3.46389583683e-14\n"
       ]
      }
     ],
     "prompt_number": 10
    },
    {
     "cell_type": "code",
     "collapsed": false,
     "input": [
      "plt.matshow(I,origin='lower',extent = [x.min(),x.max(),y.min(),y.max()],interpolation='nearest')"
     ],
     "language": "python",
     "metadata": {},
     "outputs": [
      {
       "metadata": {},
       "output_type": "pyout",
       "prompt_number": 11,
       "text": [
        "<matplotlib.image.AxesImage at 0x10f075d50>"
       ]
      },
      {
       "metadata": {},
       "output_type": "display_data",
       "png": "[encoded data removed]",
       "text": [
        "<matplotlib.figure.Figure at 0x10f0361d0>"
       ]
      }
     ],
     "prompt_number": 11
    },
    {
     "cell_type": "code",
     "collapsed": false,
     "input": [
      "mysize=1\n",
      "xx = np.where((np.fabs(xM - m[0]) < V[0,0]**0.5*mysize) & (np.fabs(yM - m[1]) < V[1,1]**0.5*mysize))\n",
      "extent = max(xx[0].max()-xx[0].min(),xx[1].max()-xx[1].min())\n",
      "print extent\n",
      "xcen = int(xx[0].mean())\n",
      "ycen = int(xx[1].mean())\n",
      "\n",
      "## zoom\n",
      "#plt.matshow(I[xx[0].min():xx[0].max()+1,xx[1].min():xx[1].max()+1],origin='lower',extent = [x.min(),x.max(),y.min(),y.max()])\n",
      "## zoom, keeping aspect ratio.\n",
      "#myextent = xM[\n",
      "plt.matshow(I[xcen-extent/2:xcen+extent/2,ycen-extent/2:ycen+extent/2],origin='lower',interpolation='nearest')#extent = [xM[xx[0]].min(),xM[xx[0]].max(),yM[xx[1]].min(),yM[xx[1]].max()])"
     ],
     "language": "python",
     "metadata": {},
     "outputs": [
      {
       "output_type": "stream",
       "stream": "stdout",
       "text": [
        "44\n"
       ]
      },
      {
       "metadata": {},
       "output_type": "pyout",
       "prompt_number": 12,
       "text": [
        "<matplotlib.image.AxesImage at 0x10f19d8d0>"
       ]
      },
      {
       "metadata": {},
       "output_type": "display_data",
       "png": "[encoded data removed]",
       "text": [
        "<matplotlib.figure.Figure at 0x10efe21d0>"
       ]
      }
     ],
     "prompt_number": 12
    },
    {
     "cell_type": "markdown",
     "metadata": {},
     "source": [
      "Repesenting PSF as a single Gaussian K=1, simplify eq 22 to:\n",
      "\n",
      "$$I = \\displaystyle \\sum^{M_{dev}}_{m=1}a_m^{dev} N(x-m,V)$$\n",
      "The m inside the Gaussian (mean) is different from the m-components we are summing over."
     ]
    },
    {
     "cell_type": "code",
     "collapsed": false,
     "input": [
      "mdev6 = {0.01308: 0.00263, 0.12425: 0.01202,0.63551: 0.04031,2.22560: 0.12128,5.63989: 0.36229,9.81523: 1.23604}\n",
      "# check sum as 18.454 as in Table 1 \n",
      "sum(mdev6.keys())"
     ],
     "language": "python",
     "metadata": {},
     "outputs": [
      {
       "metadata": {},
       "output_type": "pyout",
       "prompt_number": 13,
       "text": [
        "18.45356"
       ]
      }
     ],
     "prompt_number": 13
    },
    {
     "cell_type": "code",
     "collapsed": false,
     "input": [
      "r = np.linspace(0,8)\n",
      "sig = 2\n",
      "mu=0\n",
      "N= 1./(sig*np.sqrt(2*np.pi))*np.exp(-(r-mu)**2/(2*sig**2))"
     ],
     "language": "python",
     "metadata": {},
     "outputs": [],
     "prompt_number": 41
    },
    {
     "cell_type": "code",
     "collapsed": false,
     "input": [
      "plt.plot(N)"
     ],
     "language": "python",
     "metadata": {},
     "outputs": [
      {
       "metadata": {},
       "output_type": "pyout",
       "prompt_number": 157,
       "text": [
        "[<matplotlib.lines.Line2D at 0x1288ea550>]"
       ]
      },
      {
       "metadata": {},
       "output_type": "display_data",
       "png": "[encoded data removed]",
       "text": [
        "<matplotlib.figure.Figure at 0x1288e2ad0>"
       ]
      }
     ],
     "prompt_number": 157
    },
    {
     "cell_type": "code",
     "collapsed": false,
     "input": [
      "def N_1d(r,mu,sig):\n",
      "    # sig = std_dev = sqrt(v) (just the scalar given in the table, nothing needs to be done to it)\n",
      "    mu=0\n",
      "    return 1./(sig*np.sqrt(2*np.pi))*np.exp(-(r-mu)**2/(2*sig**2))"
     ],
     "language": "python",
     "metadata": {},
     "outputs": [],
     "prompt_number": 51
    },
    {
     "cell_type": "code",
     "collapsed": false,
     "input": [
      "def Iconv_1d(r, mdev):\n",
      "#     I_conv = numpy.zeros((50,))\n",
      "    I_conv = np.zeros_like(r)\n",
      "    for a in mdev.keys():\n",
      "        sig =mdev[a]\n",
      "#         r = np.linspace(0,8)\n",
      "        I_conv += a*N_1d(r,0,sig)\n",
      "    return I_conv"
     ],
     "language": "python",
     "metadata": {},
     "outputs": [],
     "prompt_number": 84
    },
    {
     "cell_type": "code",
     "collapsed": false,
     "input": [
      "# plt.plot(Iconv_1d(mdev6))\n",
      "r = np.linspace(0,8)\n",
      "print len(r)\n",
      "# plt.plot(r,Iconv_1d(r,mdev6))\n",
      "plt.loglog(r,Iconv_1d(r,mdev6))"
     ],
     "language": "python",
     "metadata": {},
     "outputs": [
      {
       "output_type": "stream",
       "stream": "stdout",
       "text": [
        "50\n"
       ]
      },
      {
       "metadata": {},
       "output_type": "pyout",
       "prompt_number": 137,
       "text": [
        "[<matplotlib.lines.Line2D at 0x1258c9bd0>]"
       ]
      },
      {
       "metadata": {},
       "output_type": "display_data",
       "png": "[encoded data removed]",
       "text": [
        "<matplotlib.figure.Figure at 0x126b1e850>"
       ]
      }
     ],
     "prompt_number": 137
    },
    {
     "cell_type": "code",
     "collapsed": false,
     "input": [
      "# plt.plot(Iconv_1d(mdev6))\n",
      "r = np.linspace(0,10,100000)\n",
      "print len(r)\n",
      "# plt.plot(r,Iconv_1d(r,mdev6))\n",
      "plt.loglog(r,Iconv_1d(r,mdev6))"
     ],
     "language": "python",
     "metadata": {},
     "outputs": [
      {
       "output_type": "stream",
       "stream": "stdout",
       "text": [
        "100000\n"
       ]
      },
      {
       "metadata": {},
       "output_type": "pyout",
       "prompt_number": 140,
       "text": [
        "[<matplotlib.lines.Line2D at 0x127711a50>]"
       ]
      },
      {
       "metadata": {},
       "output_type": "display_data",
       "png": "[encoded data removed]",
       "text": [
        "<matplotlib.figure.Figure at 0x12775c2d0>"
       ]
      }
     ],
     "prompt_number": 140
    },
    {
     "cell_type": "code",
     "collapsed": false,
     "input": [
      "r=10**np.arange(0,1.676,0.001)\n",
      "plt.loglog(r,Iconv_1d(r,mdev6))"
     ],
     "language": "python",
     "metadata": {},
     "outputs": [
      {
       "metadata": {},
       "output_type": "pyout",
       "prompt_number": 132,
       "text": [
        "[<matplotlib.lines.Line2D at 0x12690d6d0>]"
       ]
      },
      {
       "metadata": {},
       "output_type": "display_data",
       "png": "[encoded data removed]",
       "text": [
        "<matplotlib.figure.Figure at 0x126bc5890>"
       ]
      }
     ],
     "prompt_number": 132
    },
    {
     "cell_type": "code",
     "collapsed": false,
     "input": [
      "mdev8 = {0.00262:0.00113, 0.02500:0.00475,0.13413:0.01462,0.51326:0.03930,1.52005:0.09926,3.56204:0.24699,6.44845:0.63883,8.10105:1.92560}\n",
      "mdev10={0.00139:0.00087, 0.00941:0.00296,0.04441:0.00792,0.16162:0.01902,0.48121:0.04289,1.20357:0.09351,2.54182:0.20168,4.46441:0.44126,6.22820:1.01833,6.15393:2.74555}"
     ],
     "language": "python",
     "metadata": {},
     "outputs": [],
     "prompt_number": 165
    },
    {
     "cell_type": "code",
     "collapsed": false,
     "input": [
      "# r=10**np.arange(-3,2,0.001)\n",
      "r=10**np.linspace(-3,1,5000)\n",
      "plt.loglog(r,deVauc(r,1.,1.,0),'b')\n",
      "plt.loglog(r,deVauc(r,1.,1.,1),'g')\n",
      "plt.loglog(r,Iconv_1d(r,mdev6),'r')"
     ],
     "language": "python",
     "metadata": {},
     "outputs": [
      {
       "metadata": {},
       "output_type": "pyout",
       "prompt_number": 181,
       "text": [
        "[<matplotlib.lines.Line2D at 0x129a38650>]"
       ]
      },
      {
       "metadata": {},
       "output_type": "display_data",
       "png": "[encoded data removed]",
       "text": [
        "<matplotlib.figure.Figure at 0x1297e3490>"
       ]
      }
     ],
     "prompt_number": 181
    },
    {
     "cell_type": "code",
     "collapsed": false,
     "input": [
      "# r=10**np.arange(-3,2,0.001)\n",
      "r=10**np.linspace(-3,1,5000)\n",
      "# print len(r)\n",
      "# plt.loglog(r,deVauc(r,1.,1.,0),'b')\n",
      "plt.loglog(r,deVauc(r,1.,1.,0),'b')\n",
      "plt.loglog(r,deVauc(r,1.,1.,1),'g')\n",
      "# plt.loglog(r,Iconv_1d(r,mdev6),'r')\n",
      "# plt.loglog(r,Iconv_1d(r,mdev8),'c')\n",
      "plt.loglog(r,Iconv_1d(r,mdev10),'m')"
     ],
     "language": "python",
     "metadata": {},
     "outputs": [
      {
       "metadata": {},
       "output_type": "pyout",
       "prompt_number": 182,
       "text": [
        "[<matplotlib.lines.Line2D at 0x129b04c50>]"
       ]
      },
      {
       "metadata": {},
       "output_type": "display_data",
       "png": "[encoded data removed]",
       "text": [
        "<matplotlib.figure.Figure at 0x129a626d0>"
       ]
      }
     ],
     "prompt_number": 182
    },
    {
     "cell_type": "code",
     "collapsed": false,
     "input": [
      "r=10**np.linspace(-3,1,5000)\n",
      "plt.loglog(r,Iconv_1d(r,mdev6),'r')\n",
      "plt.loglog(r,Iconv_1d(r,mdev8),'c')\n",
      "plt.loglog(r,Iconv_1d(r,mdev10),'m')"
     ],
     "language": "python",
     "metadata": {},
     "outputs": [
      {
       "metadata": {},
       "output_type": "pyout",
       "prompt_number": 186,
       "text": [
        "[<matplotlib.lines.Line2D at 0x129e5ea50>]"
       ]
      },
      {
       "metadata": {},
       "output_type": "display_data",
       "png": "[encoded data removed]",
       "text": [
        "<matplotlib.figure.Figure at 0x129da9e50>"
       ]
      }
     ],
     "prompt_number": 186
    },
    {
     "cell_type": "heading",
     "level": 1,
     "metadata": {},
     "source": [
      "--------2D stuff:\n",
      "Doing a 1D plot above to check instead------------\n"
     ]
    },
    {
     "cell_type": "code",
     "collapsed": false,
     "input": [
      "# V = np.array([[0.,0.],[0.,0.]])\n",
      "def Iconv(mdev):\n",
      "    I_conv = numpy.zeros((1361, 2048))\n",
      "    for a in mdev.keys():\n",
      "        v=mdev[a]\n",
      "        m = np.array([100,300])\n",
      "        v_inv = np.linalg.inv(np.array([[v**2,0],[0,v**2]]))\n",
      "        I_conv += a*N(xM,yM,m,v_inv)\n",
      "    return I_conv"
     ],
     "language": "python",
     "metadata": {},
     "outputs": [],
     "prompt_number": 16
    },
    {
     "cell_type": "code",
     "collapsed": false,
     "input": [
      "def plotI(data):\n",
      "    mysize=1\n",
      "    V = np.array([[5.,0.],[0., 5.]]) \n",
      "    xx = np.where((np.fabs(xM - m[0]) < V[0,0]**0.5*mysize) & (np.fabs(yM - m[1]) < V[1,1]**0.5*mysize))\n",
      "    extent = max(xx[0].max()-xx[0].min(),xx[1].max()-xx[1].min())\n",
      "    xcen = int(xx[0].mean())\n",
      "    ycen = int(xx[1].mean())\n",
      "    plt.matshow(data[xcen-extent/2:xcen+extent/2,ycen-extent/2:ycen+extent/2],origin='lower',interpolation='nearest')#extent = [xM[xx[0]].min(),xM[xx[0]].max(),yM[xx[1]].min(),yM[xx[1]].max()])"
     ],
     "language": "python",
     "metadata": {},
     "outputs": [],
     "prompt_number": 17
    },
    {
     "cell_type": "code",
     "collapsed": false,
     "input": [
      "I_conv= Iconv(mdev6)\n",
      "plotI(I_conv)"
     ],
     "language": "python",
     "metadata": {},
     "outputs": [
      {
       "metadata": {},
       "output_type": "display_data",
       "png": "[encoded data removed]",
       "text": [
        "<matplotlib.figure.Figure at 0x10cdb3210>"
       ]
      }
     ],
     "prompt_number": 18
    },
    {
     "cell_type": "code",
     "collapsed": false,
     "input": [
      "mdev8 = {0.00262:0.00113, 0.02500:0.00475,0.13413:0.01462,0.51326:0.03930,1.52005:0.09926,3.56204:0.24699,6.44845:0.63883,8.10105:1.92560}\n",
      "I_conv8= Iconv(mdev8)\n",
      "plotI(I_conv8)"
     ],
     "language": "python",
     "metadata": {},
     "outputs": [
      {
       "metadata": {},
       "output_type": "display_data",
       "png": "[encoded data removed]",
       "text": [
        "<matplotlib.figure.Figure at 0x10cf07d90>"
       ]
      }
     ],
     "prompt_number": 19
    },
    {
     "cell_type": "code",
     "collapsed": false,
     "input": [
      "mdev10={0.00139:0.00087, 0.00941:0.00296,0.04441:0.00792,0.16162:0.01902,0.48121:0.04289,1.20357:0.09351,2.54182:0.20168,4.46441:0.44126,6.22820:1.01833,6.15393:2.74555}\n",
      "I_conv10= Iconv(mdev10)\n",
      "plotI(I_conv10)"
     ],
     "language": "python",
     "metadata": {},
     "outputs": [
      {
       "metadata": {},
       "output_type": "display_data",
       "png": "[encoded data removed]",
       "text": [
        "<matplotlib.figure.Figure at 0x121788790>"
       ]
      }
     ],
     "prompt_number": 20
    },
    {
     "cell_type": "code",
     "collapsed": false,
     "input": [
      "# Look very simmilar but not identical by element-wise comparison\n",
      "print np.array_equal(I_conv,I_conv8) \n",
      "print np.array_equal(I_conv8,I_conv10) "
     ],
     "language": "python",
     "metadata": {},
     "outputs": [
      {
       "output_type": "stream",
       "stream": "stdout",
       "text": [
        "False\n",
        "False\n"
       ]
      }
     ],
     "prompt_number": 21
    },
    {
     "cell_type": "code",
     "collapsed": false,
     "input": [
      "I_conv.shape"
     ],
     "language": "python",
     "metadata": {},
     "outputs": [
      {
       "metadata": {},
       "output_type": "pyout",
       "prompt_number": 22,
       "text": [
        "(1361, 2048)"
       ]
      }
     ],
     "prompt_number": 22
    },
    {
     "cell_type": "code",
     "collapsed": false,
     "input": [
      "m = np.array([100,300])\n",
      "m[0]"
     ],
     "language": "python",
     "metadata": {},
     "outputs": [
      {
       "metadata": {},
       "output_type": "pyout",
       "prompt_number": 23,
       "text": [
        "100"
       ]
      }
     ],
     "prompt_number": 23
    },
    {
     "cell_type": "heading",
     "level": 3,
     "metadata": {},
     "source": [
      "See devPlot.py for I-r plot (linear and log scaled)"
     ]
    },
    {
     "cell_type": "code",
     "collapsed": false,
     "input": [
      "n=0\n",
      "rlist = []\n",
      "Iconvlst = []\n",
      "m = np.array([100,300]) #center\n",
      "# too large can not run on ipynb\n",
      "for i in arange(I_conv.shape[0]-1):\n",
      "    for j in arange(I_conv.shape[1]-1):\n",
      "#         print(i,j)\n",
      "        r = np.sqrt(abs(i-m[0])**2+abs(j-m[1])**2) #treating center as origin\n",
      "#         print I_conv[i][j]\n",
      "        rlist.append(r)\n",
      "        Iconvlst.append(I_conv[i][j])"
     ],
     "language": "python",
     "metadata": {},
     "outputs": [],
     "prompt_number": 29
    },
    {
     "cell_type": "code",
     "collapsed": false,
     "input": [
      "# print rlist\n",
      "# print Iconvlst"
     ],
     "language": "python",
     "metadata": {},
     "outputs": [],
     "prompt_number": 43
    },
    {
     "cell_type": "code",
     "collapsed": false,
     "input": [
      "%matplotlib inline"
     ],
     "language": "python",
     "metadata": {},
     "outputs": [],
     "prompt_number": 32
    },
    {
     "cell_type": "code",
     "collapsed": false,
     "input": [
      "len(rlist)"
     ],
     "language": "python",
     "metadata": {},
     "outputs": [
      {
       "metadata": {},
       "output_type": "pyout",
       "prompt_number": 35,
       "text": [
        "2783920"
       ]
      }
     ],
     "prompt_number": 35
    },
    {
     "cell_type": "code",
     "collapsed": false,
     "input": [
      "len(Iconvlst)"
     ],
     "language": "python",
     "metadata": {},
     "outputs": [
      {
       "metadata": {},
       "output_type": "pyout",
       "prompt_number": 38,
       "text": [
        "2783920"
       ]
      }
     ],
     "prompt_number": 38
    },
    {
     "cell_type": "code",
     "collapsed": false,
     "input": [
      "r=10**np.arange(-3,2,0.001)\n",
      "print len(r)\n",
      "plt.figure()\n",
      "# plt.loglog(I_conv,'b')\n",
      "# plt.show()\n",
      "plt.loglog(rlist,Iconvlst)"
     ],
     "language": "python",
     "metadata": {},
     "outputs": [
      {
       "output_type": "stream",
       "stream": "stdout",
       "text": [
        "5000\n"
       ]
      },
      {
       "metadata": {},
       "output_type": "pyout",
       "prompt_number": 40,
       "text": [
        "[<matplotlib.lines.Line2D at 0x1272ca590>]"
       ]
      },
      {
       "metadata": {},
       "output_type": "display_data",
       "text": [
        "<matplotlib.figure.Figure at 0x127088610>"
       ]
      }
     ],
     "prompt_number": 40
    },
    {
     "cell_type": "code",
     "collapsed": false,
     "input": [
      "np.nonzero(I_conv.flatten())\n",
      "#truncating all the zero values so that this can be plotted on loglog scale, otherwise -inf error\n",
      "I_conv = [I_conv.flatten()[i] for i in np.nonzero(I_conv.flatten())] \n",
      "# np.where(I_conv>0)"
     ],
     "language": "python",
     "metadata": {},
     "outputs": [],
     "prompt_number": 45
    },
    {
     "cell_type": "code",
     "collapsed": false,
     "input": [
      "print(I_conv)"
     ],
     "language": "python",
     "metadata": {},
     "outputs": [
      {
       "output_type": "stream",
       "stream": "stdout",
       "text": [
        "[array([  4.94065646e-323,   4.94065646e-323,   1.43279037e-322, ...,\n",
        "         2.42092166e-322,   9.88131292e-323,   4.94065646e-323])]\n"
       ]
      }
     ],
     "prompt_number": 46
    },
    {
     "cell_type": "code",
     "collapsed": false,
     "input": [
      "a=plt.plot(I_conv,'o'); #semicolon supress matplotlib output (direct output to vars)"
     ],
     "language": "python",
     "metadata": {},
     "outputs": [
      {
       "metadata": {},
       "output_type": "display_data",
       "png": "[encoded data removed]",
       "text": [
        "<matplotlib.figure.Figure at 0x10c594150>"
       ]
      }
     ],
     "prompt_number": 48
    },
    {
     "cell_type": "code",
     "collapsed": false,
     "input": [
      "# plt.loglog(I_conv,'o') # can not loglog since negative exp\n",
      "# a = plt.plot(log(I_conv),'o')#Stilll a delta function"
     ],
     "language": "python",
     "metadata": {},
     "outputs": [],
     "prompt_number": 52
    },
    {
     "cell_type": "markdown",
     "metadata": {},
     "source": [
      "### Now generate a model image and do the fitting exercise.  Eventually the model should be deVauc convolved with Gaussian, but we'll skip that step for now and just use a Gaussian as the model."
     ]
    },
    {
     "cell_type": "code",
     "collapsed": false,
     "input": [
      "## work in progress -- want to finish Doris?  We want to evaluate the model (deVauc convolved with Gaussian PSF) on a fine grid, and then sum up the fine pixels that contribute to \n",
      "## the pixels of SDSS camera size.  Given some reasonable parameters for galaxy size (re = 1.0, 1.5, 2.0) and PSF values (take some percentiles from the galaxy files I give you), figure out\n",
      "## how fine the fine grid needs to be.\n",
      "\n",
      "## truncate the fit 5*sigma away from the center.\n",
      "fitsigma = 5.\n",
      "tgal = 1.5 ## rough typical size of a galaxy, in arcseconds.\n",
      "nsub = 10 ## how fine should we subsample the model?  Let's test this empirically for realistic values of p.\n",
      "pfine = psize/float(nsub)\n",
      "\n",
      "nbig = fitsigma*tgal/psize # number of native size pixels.\n",
      "nsmall = nbig*nsub # number of small pixels we sum over to get model in the big pixel.\n",
      "\n",
      "## make mbig the location of the center of the source within the central pixel.\n",
      "mbig = np.array([0.2,0.3])\n",
      "assert (np.fabs(mbig) < 0.99).all()\n",
      "xbig = \n",
      "\n",
      "xf = np.arange(0,nsmall+0.5,1)\n",
      "yf = np.arange(0,nsmall+0.5,1)\n",
      "assert len(xf) == nsmall\n",
      "xbig = np.arange(\n",
      "\n",
      "## width of Gaussian is tg\n",
      "mg = np.array([0.,0.])\n",
      "Vg = np.array([[tgal**2,0],[0,tgal**2]])\n",
      "Vginv = np.linalg.inv(Vg)\n",
      "\n",
      "# coordinates of center of pixels\n",
      "xf = (np.arange(-fitsigma*tgal/pfine+mg[0]+0.5,fitsigma*tgal/pfine+mg[0]-0.4,1))*pfine\n",
      "yf = (np.arange(-fitsigma*tgal/pfine+mg[1]+0.5,fitsigma*tgal/pfine+mg[1]-0.4,1))*pfine\n",
      "\n",
      "xMf, yMf = np.meshgrid(xf,yf,indexing='xy')\n",
      "If = N(xMf,yMf,mg,Vginv)"
     ],
     "language": "python",
     "metadata": {},
     "outputs": [
      {
       "ename": "SyntaxError",
       "evalue": "invalid syntax (<ipython-input-20-ca0387d0fc62>, line 17)",
       "output_type": "pyerr",
       "traceback": [
        "\u001b[0;36m  File \u001b[0;32m\"<ipython-input-20-ca0387d0fc62>\"\u001b[0;36m, line \u001b[0;32m17\u001b[0m\n\u001b[0;31m    xbig =\u001b[0m\n\u001b[0m           ^\u001b[0m\n\u001b[0;31mSyntaxError\u001b[0m\u001b[0;31m:\u001b[0m invalid syntax\n"
       ]
      }
     ],
     "prompt_number": 20
    },
    {
     "cell_type": "code",
     "collapsed": false,
     "input": [
      "plt.imshow(If,origin='lower',interpolation='nearest')"
     ],
     "language": "python",
     "metadata": {},
     "outputs": []
    },
    {
     "cell_type": "markdown",
     "metadata": {},
     "source": [
      "## What's next??\n",
      "\n",
      "I wrote some notes here: \n",
      "\n",
      "/home/bareid/imagingsys/notes1 on riemann.\n"
     ]
    },
    {
     "cell_type": "code",
     "collapsed": false,
     "input": [],
     "language": "python",
     "metadata": {},
     "outputs": []
    }
   ],
   "metadata": {}
  }
 ]
}