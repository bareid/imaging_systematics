{
 "metadata": {
  "name": "BR_2Dmodel"
 },
 "nbformat": 3,
 "nbformat_minor": 0,
 "worksheets": [
  {
   "cells": [
    {
     "cell_type": "markdown",
     "metadata": {},
     "source": [
      "Equations 22-24 of [Hogg and Lang](http://arxiv.org/pdf/1210.6563.pdf) explicitly write what we want to evaluate, namely, a model that convolves the \"pixel-convolved\" PSF with the intrinsic galaxy profile.  We can copy Hogg and Lang and represent the deVauc profile as a sum of Gaussians.  The PSF we will represent as Gaussian for this project.  The only question is how to get the pixel-convolved PSF represented as a Gaussian (do we need to go through their minimization procedure?)  What exactly does that mean?\n",
      "\n",
      "From pg 8: \"Other definitions for the PSF (the non-pixel-convolved, for example) require that the user do two convolutions, the first with the PSF and the second with the square (or worse) pixel.\"\n",
      "\n",
      "We might not have to worry about speed so much in our case, because we can just do this once and plop it down in the center of random pixels, and then maybe recycle through several positions with respect to the center of the pixel to make sure we're not biasing things by just choosing the center.  Then the model looks very simple, so we can just write slow code to do the square pixel convolution.\n",
      "\n",
      "In summary, we should represent the deVauc profile as 10 Gaussians and the PSF as a single Gaussian and use Eqn. 22-24 as our base model.  Then we should convolve that model with the SDSS pixels.  We should end up with something like Fig 6.\n",
      "\n",
      "The model will just tell us how to weight the noise when we start grabbing real SDSS images."
     ]
    },
    {
     "cell_type": "code",
     "collapsed": false,
     "input": [
      "# Doris, can you grab the Gaussian coefficients from the Hogg and Lang paper (download source and grab with python from the tex, or by hand..) and code them up in the deVauc function?\n",
      "\n",
      "def N(xgrid,ygrid,m,Vinv):\n",
      "  \"\"\"\n",
      "  2d normal (Gaussian) distribution.\n",
      "  xgrid,ygrid is the output of a meshgrid.\n",
      "  Vinv is a 2x2 np.array, you already took the inverse!\n",
      "  \"\"\"\n",
      "  assert Vinv[0,1] == Vinv[0,1]\n",
      "  exparg = (xgrid - m[0])*Vinv[0,0]*(xgrid - m[0]) + \\\n",
      "           2*(xgrid - m[0])*Vinv[1,0]*(ygrid -m[1]) + \\\n",
      "           (ygrid - m[1])*Vinv[1,1]*(ygrid - m[1])\n",
      "  \n",
      "  return (np.linalg.det(Vinv))**0.5/(2.*np.pi)*np.exp(-0.5*exparg)\n",
      "\n",
      "        \n",
      "def deVauc(r,Ie,re,aopt=1):\n",
      "  \"\"\"\n",
      "  aopt = 0: straight-up deVauc formula.\n",
      "  aopt = 1: SDSS approximation ('luv') Eqn 17-18 of Hogg and Lang.\n",
      "  aopt = 2: Hogg and Lang approximation to luv (sum over 10 Gaussians).\n",
      "  \"\"\"\n",
      "  xi = np.fabs(r/re)\n",
      "  if aopt == 0:\n",
      "    return Ie*np.exp(-7.66924944*((xi)**(0.25)-1))\n",
      "  if aopt == 1:\n",
      "    result = np.zeros(len(r))\n",
      "    result = Ie*np.exp(-7.66925*(((xi)**2 + 0.0004)**(0.125)-1))\n",
      "    xx = np.where(xi > 8.)[0]\n",
      "    if len(xx) > 0:\n",
      "      result[xx] = 0.\n",
      "    xx = np.where((xi >= 7.) & (xi < 8.))[0]\n",
      "    if len(xx) > 0.:\n",
      "      result[xx] = result[xx] * (1.-(xi[xx]-7)**2)**2\n",
      "    return result\n",
      "  if aopt == 2:\n",
      "    print 'not coded yet'\n",
      "    return None\n",
      "\n",
      "def intT1d(r,pofr):\n",
      "  \"\"\"\n",
      "  Trapezoid rule for integration.\n",
      "  \"\"\"\n",
      "  return 0.5*((r[1:]-r[:-1])*(pofr[1:]+pofr[:-1])).sum()"
     ],
     "language": "python",
     "metadata": {},
     "outputs": [],
     "prompt_number": 2
    },
    {
     "cell_type": "code",
     "collapsed": false,
     "input": [
      "## Plot of the deVauc and LUV profiles.  Can you add the plot of the Gaussian approximation?\n",
      "\n",
      "r=10**np.arange(-3,2,0.001)\n",
      "print len(r)\n",
      "plt.loglog(r,deVauc(r,1.,1.,0),'b')\n",
      "plt.loglog(r,deVauc(r,1.,1.,1),'g')\n"
     ],
     "language": "python",
     "metadata": {},
     "outputs": [
      {
       "output_type": "stream",
       "stream": "stdout",
       "text": [
        "5000\n"
       ]
      },
      {
       "output_type": "pyout",
       "prompt_number": 50,
       "text": [
        "[<matplotlib.lines.Line2D at 0x5fb1150>]"
       ]
      },
      {
       "output_type": "display_data",
       "png": "[encoded data removed]"
      }
     ],
     "prompt_number": 50
    },
    {
     "cell_type": "code",
     "collapsed": false,
     "input": [
      "x=r\n",
      "y=deVauc(r,1.,1.,0)*2*np.pi*x\n",
      "y2=deVauc(r,1.,1.,1)*2*np.pi*x\n",
      "ihalf = np.where(r > 1.)[0].min()\n",
      "print 'half light radius correct?', x[ihalf], intT1d(x[:ihalf],y[:ihalf])/intT1d(x,y)\n",
      "print 'half light approx correct for LUV profile?',intT1d(x[:ihalf],y2[:ihalf])/intT1d(x,y2)"
     ],
     "language": "python",
     "metadata": {},
     "outputs": [
      {
       "output_type": "stream",
       "stream": "stdout",
       "text": [
        "half light radius correct? 1.00230523808 0.499975031558\n",
        "half light approx correct for LUV profile? 0.52884049292\n"
       ]
      }
     ],
     "prompt_number": 28
    },
    {
     "cell_type": "code",
     "collapsed": false,
     "input": [
      "V = np.array([[80,0],[0,10]])\n",
      "Vinv = np.linalg.inv(V)\n",
      "if 0==1:\n",
      "  print V\n",
      "  print Vinv\n",
      "  print V*Vinv"
     ],
     "language": "python",
     "metadata": {},
     "outputs": [],
     "prompt_number": 51
    },
    {
     "cell_type": "code",
     "collapsed": false,
     "input": [
      "## set up the model using the geometry of the image files.\n",
      "# https://www.sdss3.org/instruments/camera.php#Filters\n",
      "nx = 2048\n",
      "ny = 1361\n",
      "psize = 0.396 # arcseconds per pixel.\n",
      "\n",
      "# coordinates of center of pixels\n",
      "x = (np.arange(0,nx,1)+0.5)*psize\n",
      "y = (np.arange(0,ny,1)+0.5)*psize\n",
      "\n",
      "xM, yM = np.meshgrid(x,y,indexing='xy')"
     ],
     "language": "python",
     "metadata": {},
     "outputs": [],
     "prompt_number": 56
    },
    {
     "cell_type": "code",
     "collapsed": false,
     "input": [
      "print x[-10:]\n",
      "print y[-10:]"
     ],
     "language": "python",
     "metadata": {},
     "outputs": [
      {
       "output_type": "stream",
       "stream": "stdout",
       "text": [
        "[ 807.048  807.444  807.84   808.236  808.632  809.028  809.424  809.82\n",
        "  810.216  810.612]\n",
        "[ 534.996  535.392  535.788  536.184  536.58   536.976  537.372  537.768\n",
        "  538.164  538.56 ]\n"
       ]
      }
     ],
     "prompt_number": 46
    },
    {
     "cell_type": "code",
     "collapsed": false,
     "input": [
      "m = np.array([100,300])\n",
      "## test with a fat Gaussian that spans many pixels.\n",
      "I = N(xM,yM,m,Vinv)\n",
      "# check -- is the Gaussian profile normalized?\n",
      "print 'should sum to 1.  Error:',(I[:,:].flatten()).sum()*parea-1"
     ],
     "language": "python",
     "metadata": {},
     "outputs": [
      {
       "output_type": "stream",
       "stream": "stdout",
       "text": [
        "should sum to 1.  Error: -3.46389583683e-14\n"
       ]
      }
     ],
     "prompt_number": 60
    },
    {
     "cell_type": "code",
     "collapsed": false,
     "input": [
      "plt.matshow(I,origin='lower',extent = [x.min(),x.max(),y.min(),y.max()],interpolation='nearest')"
     ],
     "language": "python",
     "metadata": {},
     "outputs": [
      {
       "output_type": "pyout",
       "prompt_number": 91,
       "text": [
        "<matplotlib.image.AxesImage at 0x12867fd0>"
       ]
      },
      {
       "output_type": "display_data",
       "png": "[encoded data removed]"
      }
     ],
     "prompt_number": 91
    },
    {
     "cell_type": "code",
     "collapsed": false,
     "input": [
      "mysize=1\n",
      "xx = np.where((np.fabs(xM - m[0]) < V[0,0]**0.5*mysize) & (np.fabs(yM - m[1]) < V[1,1]**0.5*mysize))\n",
      "extent = max(xx[0].max()-xx[0].min(),xx[1].max()-xx[1].min())\n",
      "print extent\n",
      "xcen = int(xx[0].mean())\n",
      "ycen = int(xx[1].mean())\n",
      "\n",
      "## zoom\n",
      "#plt.matshow(I[xx[0].min():xx[0].max()+1,xx[1].min():xx[1].max()+1],origin='lower',extent = [x.min(),x.max(),y.min(),y.max()])\n",
      "## zoom, keeping aspect ratio.\n",
      "#myextent = xM[\n",
      "plt.matshow(I[xcen-extent/2:xcen+extent/2,ycen-extent/2:ycen+extent/2],origin='lower',interpolation='nearest')#extent = [xM[xx[0]].min(),xM[xx[0]].max(),yM[xx[1]].min(),yM[xx[1]].max()])"
     ],
     "language": "python",
     "metadata": {},
     "outputs": [
      {
       "output_type": "stream",
       "stream": "stdout",
       "text": [
        "44\n"
       ]
      },
      {
       "output_type": "pyout",
       "prompt_number": 90,
       "text": [
        "<matplotlib.image.AxesImage at 0x125afb10>"
       ]
      },
      {
       "output_type": "display_data",
       "png": "[encoded data removed]"
      }
     ],
     "prompt_number": 90
    },
    {
     "cell_type": "markdown",
     "metadata": {},
     "source": [
      "### Now generate a model image and do the fitting exercise.  Eventually the model should be deVauc convolved with Gaussian, but we'll skip that step for now and just use a Gaussian as the model."
     ]
    },
    {
     "cell_type": "code",
     "collapsed": false,
     "input": [
      "## work in progress -- want to finish Doris?  We want to evaluate the model (deVauc convolved with Gaussian PSF) on a fine grid, and then sum up the fine pixels that contribute to \n",
      "## the pixels of SDSS camera size.  Given some reasonable parameters for galaxy size (re = 1.0, 1.5, 2.0) and PSF values (take some percentiles from the galaxy files I give you), figure out\n",
      "## how fine the fine grid needs to be.\n",
      "\n",
      "## truncate the fit 5*sigma away from the center.\n",
      "fitsigma = 5.\n",
      "tgal = 1.5 ## rough typical size of a galaxy, in arcseconds.\n",
      "nsub = 10 ## how fine should we subsample the model?  Let's test this empirically for realistic values of p.\n",
      "pfine = psize/float(nsub)\n",
      "\n",
      "nbig = fitsigma*tgal/psize # number of native size pixels.\n",
      "nsmall = nbig*nsub # number of small pixels we sum over to get model in the big pixel.\n",
      "\n",
      "## make mbig the location of the center of the source within the central pixel.\n",
      "mbig = np.array([0.2,0.3])\n",
      "assert (np.fabs(mbig) < 0.99).all()\n",
      "xbig = \n",
      "\n",
      "xf = np.arange(0,nsmall+0.5,1)\n",
      "yf = np.arange(0,nsmall+0.5,1)\n",
      "assert len(xf) == nsmall\n",
      "xbig = np.arange(\n",
      "\n",
      "## width of Gaussian is tg\n",
      "mg = np.array([0.,0.])\n",
      "Vg = np.array([[tgal**2,0],[0,tgal**2]])\n",
      "Vginv = np.linalg.inv(Vg)\n",
      "\n",
      "# coordinates of center of pixels\n",
      "xf = (np.arange(-fitsigma*tgal/pfine+mg[0]+0.5,fitsigma*tgal/pfine+mg[0]-0.4,1))*pfine\n",
      "yf = (np.arange(-fitsigma*tgal/pfine+mg[1]+0.5,fitsigma*tgal/pfine+mg[1]-0.4,1))*pfine\n",
      "\n",
      "xMf, yMf = np.meshgrid(xf,yf,indexing='xy')\n",
      "If = N(xMf,yMf,mg,Vginv)"
     ],
     "language": "python",
     "metadata": {},
     "outputs": [],
     "prompt_number": 115
    },
    {
     "cell_type": "code",
     "collapsed": false,
     "input": [
      "plt.imshow(If,origin='lower',interpolation='nearest')"
     ],
     "language": "python",
     "metadata": {},
     "outputs": [
      {
       "output_type": "pyout",
       "prompt_number": 108,
       "text": [
        "<matplotlib.image.AxesImage at 0x14d5bad0>"
       ]
      },
      {
       "output_type": "display_data",
       "png": "[encoded data removed]"
      }
     ],
     "prompt_number": 108
    },
    {
     "cell_type": "markdown",
     "metadata": {},
     "source": [
      "## What's next??\n",
      "\n",
      "I wrote some notes here: \n",
      "\n",
      "/home/bareid/imagingsys/notes1 on riemann.\n"
     ]
    },
    {
     "cell_type": "code",
     "collapsed": false,
     "input": [],
     "language": "python",
     "metadata": {},
     "outputs": []
    }
   ],
   "metadata": {}
  }
 ]
}