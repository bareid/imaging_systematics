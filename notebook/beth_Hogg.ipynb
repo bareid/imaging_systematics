{
 "metadata": {
  "name": "",
  "signature": "sha256:b6075daa0957483d0c7edb660f55db1b65308ef3a9f8a83e9a691745a9381353"
 },
 "nbformat": 3,
 "nbformat_minor": 0,
 "worksheets": [
  {
   "cells": [
    {
     "cell_type": "code",
     "collapsed": false,
     "input": [
      "import  matplotlib.pyplot as plt\n",
      "%pylab inline\n",
      "%matplotlib inline"
     ],
     "language": "python",
     "metadata": {},
     "outputs": [
      {
       "output_type": "stream",
       "stream": "stdout",
       "text": [
        "Populating the interactive namespace from numpy and matplotlib\n"
       ]
      }
     ],
     "prompt_number": 1
    },
    {
     "cell_type": "code",
     "collapsed": false,
     "input": [
      "xtmp = np.arange(-4.,4.,0.05)\n",
      "plt.semilogy(xtmp,N1d(xtmp,0.,1.))\n",
      "print intT1d(xtmp,N1d(xtmp,0.,1.)), intT1d(xtmp,N1d(xtmp,0.,0.2**-2)), intT1d(xtmp,N1d(xtmp,0.,2.**-2))\n",
      "\n",
      "mdev10={0.00139:0.00087, \\\n",
      "            0.00941:0.00296, \\\n",
      "            0.04441:0.00792, \\\n",
      "            0.16162:0.01902, \\\n",
      "            0.48121:0.04289, \\\n",
      "            1.20357:0.09351, \\\n",
      "            2.54182:0.20168, \\\n",
      "            4.46441:0.44126, \\\n",
      "            6.22820:1.01833, \\\n",
      "            6.15393:2.74555}\n",
      "\n",
      "ss = 0\n",
      "for k,v in mdev10.iteritems():\n",
      "  ss += k\n",
      "  print ss, k\n",
      "print ss"
     ],
     "language": "python",
     "metadata": {},
     "outputs": [
      {
       "output_type": "stream",
       "stream": "stdout",
       "text": [
        "0.999929007421 1.0 0.95310433342\n",
        "4.46441 4.46441\n",
        "7.00623 2.54182\n",
        "8.2098 1.20357\n",
        "8.21921 0.00941\n",
        "8.38083 0.16162\n",
        "8.38222 0.00139\n",
        "14.61042 6.2282\n",
        "14.65483 0.04441\n",
        "20.80876 6.15393\n",
        "21.28997 0.48121\n",
        "21.28997\n"
       ]
      },
      {
       "metadata": {},
       "output_type": "display_data",
       "png": "[encoded data removed]",
       "text": [
        "<matplotlib.figure.Figure at 0x108dac110>"
       ]
      }
     ],
     "prompt_number": 17
    },
    {
     "cell_type": "code",
     "collapsed": false,
     "input": [
      "def N1d(x,m,sig2inv):\n",
      "  \"\"\"\n",
      "  weird input: sig2inv to follow the 2d Gaussian definition.\n",
      "  sig2inv = 1./sig^2 where sig2 is the dispersion.\n",
      "  \"\"\"\n",
      "  exparg = (x-m)**2*sig2inv\n",
      "  return (0.5*sig2inv/np.pi)**0.5*np.exp(-0.5*exparg)\n",
      "\n",
      "def deVauc(r,Ie,re,aopt=1):\n",
      "  \"\"\"\n",
      "  aopt = 0: straight-up deVauc formula.\n",
      "  aopt = 1: SDSS approximation ('luv') Eqn 17-18 of Hogg and Lang.\n",
      "  aopt = 2: Hogg and Lang approximation to luv (sum over 10 Gaussians).\n",
      "  \"\"\"\n",
      "  xi = np.fabs(r/re)\n",
      "  if aopt == 0:\n",
      "    return Ie*np.exp(-7.66924944*((xi)**(0.25)-1))\n",
      "  if aopt == 1:\n",
      "    result = np.zeros(len(r))\n",
      "    result = Ie*np.exp(-7.66925*(((xi)**2 + 0.0004)**(0.125)-1))\n",
      "    xx = np.where(xi > 8.)[0]\n",
      "    if len(xx) > 0:\n",
      "      result[xx] = 0.\n",
      "    xx = np.where((xi >= 7.) & (xi < 8.))[0]\n",
      "    if len(xx) > 0.:\n",
      "      result[xx] = result[xx] * (1.-(xi[xx]-7)**2)**2\n",
      "    return result\n",
      "  if aopt == 2:\n",
      "    ## hard code Hogg/Lang coefficients.\n",
      "    mdev10={0.00139:0.00087, \\\n",
      "            0.00941:0.00296, \\\n",
      "            0.04441:0.00792, \\\n",
      "            0.16162:0.01902, \\\n",
      "            0.48121:0.04289, \\\n",
      "            1.20357:0.09351, \\\n",
      "            2.54182:0.20168, \\\n",
      "            4.46441:0.44126, \\\n",
      "            6.22820:1.01833, \\\n",
      "            6.15393:2.74555}\n",
      "    result = np.zeros(len(r))\n",
      "    xx = np.where(xi > 8.)[0]\n",
      "    result += N1d(r,)\n",
      "    if len(xx) > 0:\n",
      "      result[xx] = 0.\n",
      "    \n",
      "    \n",
      "    \n",
      "\n",
      "def intT1d(r,pofr):\n",
      "  \"\"\"\n",
      "  Trapezoid rule for integration.\n",
      "  \"\"\"\n",
      "  return 0.5*((r[1:]-r[:-1])*(pofr[1:]+pofr[:-1])).sum()\n",
      "\n",
      "## Plot of the deVauc and LUV profiles.  Can you add the plot of the Gaussian approximation?\n",
      "\n",
      "r=10**np.arange(-3,2,0.001)\n",
      "print len(r)\n",
      "# plt.loglog(r,deVauc(r,1.,1.,0),'b')\n",
      "plt.loglog(r,deVauc(r,1.,1.,0),'b')\n",
      "plt.loglog(r,deVauc(r,1.,1.,1),'g')\n",
      "# plt.loglog(r,deVauc(r,1.,1.,2),'r')"
     ],
     "language": "python",
     "metadata": {},
     "outputs": [
      {
       "output_type": "stream",
       "stream": "stdout",
       "text": [
        "5000\n"
       ]
      },
      {
       "metadata": {},
       "output_type": "pyout",
       "prompt_number": 13,
       "text": [
        "[<matplotlib.lines.Line2D at 0x10898b510>]"
       ]
      },
      {
       "metadata": {},
       "output_type": "display_data",
       "png": "[encoded data removed]",
       "text": [
        "<matplotlib.figure.Figure at 0x1073b6b90>"
       ]
      }
     ],
     "prompt_number": 13
    },
    {
     "cell_type": "code",
     "collapsed": false,
     "input": [
      "x=r\n",
      "y=deVauc(r,1.,1.,0)*2*np.pi*x\n",
      "y2=deVauc(r,1.,1.,1)*2*np.pi*x\n",
      "ihalf = np.where(r > 1.)[0].min()\n",
      "print 'half light radius correct?', x[ihalf], intT1d(x[:ihalf],y[:ihalf])/intT1d(x,y)\n",
      "print 'half light approx correct for LUV profile?',intT1d(x[:ihalf],y2[:ihalf])/intT1d(x,y2)"
     ],
     "language": "python",
     "metadata": {},
     "outputs": [
      {
       "output_type": "stream",
       "stream": "stdout",
       "text": [
        "half light radius correct? 1.00230523808 0.499975031558\n",
        "half light approx correct for LUV profile? 0.52884049292\n"
       ]
      }
     ],
     "prompt_number": 5
    },
    {
     "cell_type": "code",
     "collapsed": false,
     "input": [],
     "language": "python",
     "metadata": {},
     "outputs": []
    }
   ],
   "metadata": {}
  }
 ]
}