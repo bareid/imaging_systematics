{
 "metadata": {
  "name": "",
  "signature": "sha256:2c3437a83b32e40c055b32ec41e9c6582b1a9557d8a3f03c2ea3f54e328202d1"
 },
 "nbformat": 3,
 "nbformat_minor": 0,
 "worksheets": [
  {
   "cells": [
    {
     "cell_type": "markdown",
     "metadata": {},
     "source": [
      "Using __```ls -lrt```__ , found the IDL file in __```schlegel\\beth.pro```__"
     ]
    },
    {
     "cell_type": "code",
     "collapsed": false,
     "input": [
      "It seems like  IDL is proprietary software. \n",
      "Trying to figure out to install it \n",
      "\n",
      "brew install libidl"
     ],
     "language": "python",
     "metadata": {},
     "outputs": []
    },
    {
     "cell_type": "code",
     "collapsed": false,
     "input": [
      "setenv"
     ],
     "language": "python",
     "metadata": {},
     "outputs": []
    },
    {
     "cell_type": "markdown",
     "metadata": {},
     "source": [
      "- Matrices in IDL (column,row)\n",
      "- case insensitive\n",
      "- Batch files: executed line by line (no pre-compiling)\n",
      "- Type program after .RUN\n",
      "- END program => compile and execute\n",
      "- .GO re-executes compiled program\n",
      "- PRO. procedure : __perform__ task and have unique name\n",
      "- FUNCTION : __return__ value to caller\n",
      "- IDL Object : encapsulate both method and instance data\n",
      "- Object method reoutine: procedure and functions that act on object instace data (kind of like instance method in Java)\n",
      "- IDL program extension .pro or .sav\n"
     ]
    },
    {
     "cell_type": "markdown",
     "metadata": {},
     "source": [
      "When IDL encounters a main program as the result of a .RUN executive command, it compiles it into the special program named $MAIN$ and immediately executes it. Afterwards, it can be executed again by using the .GO executive command."
     ]
    },
    {
     "cell_type": "markdown",
     "metadata": {},
     "source": [
      "Creating a procedure\n",
      "\n",
      "- save program in text file\n",
      "- execute idl interpreter\n",
      "- compile program by \n",
      "```.r <filename> ```\n",
      "- execute program\n",
      "```<filename>```"
     ]
    },
    {
     "cell_type": "markdown",
     "metadata": {},
     "source": [
      "Executing procedure and function\n",
      "\n",
      "- variable name=FUNCTION NAME(input parameter,KEYWORD=keyval)\n",
      "- PROCEDURE NAME, input parameter,KEYWORD=keyval"
     ]
    },
    {
     "cell_type": "markdown",
     "metadata": {},
     "source": [
      "Creating Functions and procedures\n",
      "\n",
      "- PRO PROCEDURE NAME, input parameter, KEYWORD=keyval\n",
      "- FUNCTION FUNCTION NAME, input parameter, KEYWORD=keyval\n",
      "- RETURN, value"
     ]
    },
    {
     "cell_type": "markdown",
     "metadata": {},
     "source": [
      "Plotting doesn't work for the same reason, DISPLAY env var not set up. \n",
      "Also can not user ``idlde``"
     ]
    },
    {
     "cell_type": "markdown",
     "metadata": {},
     "source": [
      "- Created test_func and test_pro to familiarize with compilation workflow\n",
      "- STOP \u2013 putting one of these in your code will stop the program at that location and dump you out to an IDL> prompt where you can explore what is going wrong with your program.\n",
      "- HELP, variable \u2013 will tell you what type of variable it is and if it is de\ufb01ned.\n",
      "- % Attempt to call undefined procedure/function: '<routine>' this is thrown when you have uncompiled routine so IDL can not find.\n",
      "- By convention, IDL program file name should be same as the last routine within the file so that all the procedure in the file before that procedure is executed \n",
      "    - (Actually, I tested this and it didn't seem to matter)\n",
      "- What's the difference between .COMPILE and .r ?\n",
      "- Only .pro files can be compiled using the manual compilation mechanisms. Attempting to compile a .sav file using one of these mechanisms will result in an error.\n",
      "- SAVE is a procedure that saves IDL routine and variables in binary format (.sav file)"
     ]
    },
    {
     "cell_type": "markdown",
     "metadata": {},
     "source": [
      "- Learned how to write IF, FOR "
     ]
    },
    {
     "cell_type": "markdown",
     "metadata": {},
     "source": [
      "Links\n",
      "- http://www.astro.virginia.edu/class/oconnell/astr511/IDLguide.html#start\n",
      "- http://idlastro.gsfc.nasa.gov/\n",
      "- http://www.physics.utah.edu/~aseth/teach/stellarpops/idl_intro.pdf\n",
      "- http://www.physics.nyu.edu/grierlab/idl_html_help/intro_program3.html"
     ]
    },
    {
     "cell_type": "code",
     "collapsed": false,
     "input": [],
     "language": "python",
     "metadata": {},
     "outputs": []
    }
   ],
   "metadata": {}
  }
 ]
}