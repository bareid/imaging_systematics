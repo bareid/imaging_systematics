{
 "metadata": {
  "name": "",
  "signature": "sha256:932b1596d2d8cde8eb9b49908debd03ca4b27ad19ce50accb015d611a7b3e061"
 },
 "nbformat": 3,
 "nbformat_minor": 0,
 "worksheets": [
  {
   "cells": [
    {
     "cell_type": "code",
     "collapsed": false,
     "input": [
      "man qsub"
     ],
     "language": "python",
     "metadata": {},
     "outputs": []
    },
    {
     "cell_type": "code",
     "collapsed": false,
     "input": [
      "Resolving "
     ],
     "language": "python",
     "metadata": {},
     "outputs": []
    },
    {
     "cell_type": "code",
     "collapsed": false,
     "input": [
      "I made changes to test.sh as how I would run interactively on bash. The issue with memory running out is resolved (since running a job using qsub) but there is a new issue with DISPLA"
     ],
     "language": "python",
     "metadata": {},
     "outputs": []
    },
    {
     "cell_type": "code",
     "collapsed": false,
     "input": [
      "Resolving DISPLAY variable issue"
     ],
     "language": "python",
     "metadata": {},
     "outputs": []
    },
    {
     "cell_type": "markdown",
     "metadata": {},
     "source": [
      "I tried a combination of \n",
      "ssh -X\n",
      "ssh -Y\n",
      "\n",
      "qsub -I -V \n",
      "qsub -I -V $DISPLAY\n",
      "qsub -I -V DISPLAY\n",
      "\n",
      "echo $DISPLAY \n",
      "\n",
      "then tested with \n",
      "xterm &\n",
      "\n",
      "The issue is either that the echo $DISPLAY returns nothing. Or it returns localhost:10.0, then when xterm is tested, it says that localhost:10.0 can not be found.\n",
      "\n",
      "        xterm Xt error: Can't open display: localhost:10.0"
     ]
    },
    {
     "cell_type": "code",
     "collapsed": false,
     "input": [
      "Initally when I used \n",
      "\n",
      "qsub -X -V -I -q interactive -l walltime=24:00:00\n",
      "        \n",
      "It complained that it couldn't find script for interactive, but it works now, not sure why.\n",
      "I finally got the program running sucessfully, there was a GUI that popped out and then went away.\n",
      "Then \n",
      "\n",
      "test.sh: line 13: 19197 Segmentation fault      idl  <<EOF\n",
      "I suspect this is due\n"
     ],
     "language": "python",
     "metadata": {},
     "outputs": []
    }
   ],
   "metadata": {}
  }
 ]
}