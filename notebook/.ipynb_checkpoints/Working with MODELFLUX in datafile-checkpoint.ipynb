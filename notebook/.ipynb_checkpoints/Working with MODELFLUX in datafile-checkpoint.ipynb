{
 "metadata": {
  "name": "",
  "signature": "sha256:6a685476887cac79132264a782018d283b65445eefe37998dcf2a86d23d8fb89"
 },
 "nbformat": 3,
 "nbformat_minor": 0,
 "worksheets": [
  {
   "cells": [
    {
     "cell_type": "code",
     "collapsed": false,
     "input": [
      "%matplotlib inline"
     ],
     "language": "python",
     "metadata": {},
     "outputs": [],
     "prompt_number": 1
    },
    {
     "cell_type": "code",
     "collapsed": false,
     "input": [
      "cd ../../imagingsys/"
     ],
     "language": "python",
     "metadata": {},
     "outputs": [
      {
       "output_type": "stream",
       "stream": "stdout",
       "text": [
        "/Users/dorislee/Desktop/BOSS/imagingsys\n"
       ]
      }
     ],
     "prompt_number": 2
    },
    {
     "cell_type": "code",
     "collapsed": false,
     "input": [
      "import matplotlib.pyplot as plt\n",
      "import numpy as np\n",
      "import fitsio"
     ],
     "language": "python",
     "metadata": {},
     "outputs": [],
     "prompt_number": 3
    },
    {
     "cell_type": "code",
     "collapsed": false,
     "input": [
      "hdu = fitsio.read(\"cmass-dr12v4-NS-Reid-DORIS.fits\")"
     ],
     "language": "python",
     "metadata": {},
     "outputs": [],
     "prompt_number": 5
    },
    {
     "cell_type": "markdown",
     "metadata": {},
     "source": [
      "According to [this](http://data.sdss3.org/datamodel/files/PHOTO_SWEEP/RERUN/calibObj.html), MODELFLUX in units of nmgy, and MODELFLUX_IVAR =[1/nmgy^2]"
     ]
    },
    {
     "cell_type": "code",
     "collapsed": false,
     "input": [
      "hdu['MODELFLUX'].shape"
     ],
     "language": "python",
     "metadata": {},
     "outputs": [
      {
       "metadata": {},
       "output_type": "pyout",
       "prompt_number": 6,
       "text": [
        "(849637, 5)"
       ]
      }
     ],
     "prompt_number": 6
    },
    {
     "cell_type": "code",
     "collapsed": false,
     "input": [
      "hdu['MODELFLUX_IVAR']"
     ],
     "language": "python",
     "metadata": {},
     "outputs": [
      {
       "metadata": {},
       "output_type": "pyout",
       "prompt_number": 7,
       "text": [
        "array([[  2.98920465,  15.61164284,   5.17815542,   2.59975123,\n",
        "          0.20793006],\n",
        "       [  5.97432089,  27.25928116,   9.98053837,   5.2623148 ,\n",
        "          0.34970948],\n",
        "       [  1.81786501,   9.05044651,   3.25487161,   1.488361  ,\n",
        "          0.09044168],\n",
        "       ..., \n",
        "       [  5.75912523,  40.4475708 ,  15.95827866,   5.94668055,   0.4715794 ],\n",
        "       [  6.09487343,  47.94953918,  17.81669235,   6.18996811,\n",
        "          0.45943451],\n",
        "       [  7.27591848,  37.21987915,  12.67103767,   4.96202612,\n",
        "          0.41045728]], dtype=float32)"
       ]
      }
     ],
     "prompt_number": 7
    },
    {
     "cell_type": "code",
     "collapsed": false,
     "input": [
      "hdu.dtype"
     ],
     "language": "python",
     "metadata": {},
     "outputs": [
      {
       "metadata": {},
       "output_type": "pyout",
       "prompt_number": 8,
       "text": [
        "dtype([('RA', '>f8'), ('DEC', '>f8'), ('ICHUNK', '>i4'), ('RUN', '>i4'), ('RERUN', 'S12'), ('CAMCOL', '>i4'), ('FIELD', '>i4'), ('ID', '>i4'), ('Z', '>f4'), ('WEIGHT_CP', '>f4'), ('WEIGHT_NOZ', '>f4'), ('WEIGHT_STAR', '>f4'), ('WEIGHT_SEEING', '>f4'), ('FRACPSF', '>f4', (5L,)), ('EXPFLUX', '>f4', (5L,)), ('DEVFLUX', '>f4', (5L,)), ('PSFFLUX', '>f4', (5L,)), ('MODELFLUX', '>f4', (5L,)), ('FIBER2FLUX', '>f4', (5L,)), ('R_DEV', '>f4', (5L,)), ('EXTINCTION', '>f4', (5L,)), ('PSF_FWHM', '>f4', (5L,)), ('AIRMASS', '>f4'), ('SKYFLUX', '>f4', (5L,)), ('EB_MINUS_V', '>f4'), ('IMAGE_DEPTH', '>f4', (5L,)), ('IMATCH', '>i4'), ('MODELFLUX_IVAR', '>f4', (5L,))])"
       ]
      }
     ],
     "prompt_number": 8
    },
    {
     "cell_type": "code",
     "collapsed": false,
     "input": [
      "# hdu[100] #info about one cmass galaxy"
     ],
     "language": "python",
     "metadata": {},
     "outputs": [],
     "prompt_number": 13
    },
    {
     "cell_type": "heading",
     "level": 3,
     "metadata": {},
     "source": [
      "Checking if MODEL_FLUX looks like deVauc"
     ]
    },
    {
     "cell_type": "code",
     "collapsed": false,
     "input": [
      "hdu['MODELFLUX_IVAR'].shape"
     ],
     "language": "python",
     "metadata": {},
     "outputs": [
      {
       "metadata": {},
       "output_type": "pyout",
       "prompt_number": 21,
       "text": [
        "(618806, 5)"
       ]
      }
     ],
     "prompt_number": 21
    },
    {
     "cell_type": "code",
     "collapsed": false,
     "input": [
      "plt.plot(hdu['MODELFLUX_IVAR'])"
     ],
     "language": "python",
     "metadata": {},
     "outputs": [
      {
       "metadata": {},
       "output_type": "pyout",
       "prompt_number": 22,
       "text": [
        "[<matplotlib.lines.Line2D at 0x12f342150>,\n",
        " <matplotlib.lines.Line2D at 0x12f3423d0>,\n",
        " <matplotlib.lines.Line2D at 0x12f342610>,\n",
        " <matplotlib.lines.Line2D at 0x12f3427d0>,\n",
        " <matplotlib.lines.Line2D at 0x12f342990>]"
       ]
      },
      {
       "metadata": {},
       "output_type": "display_data",
       "png": "[encoded data removed]",
       "text": [
        "<matplotlib.figure.Figure at 0x11d155150>"
       ]
      }
     ],
     "prompt_number": 22
    },
    {
     "cell_type": "code",
     "collapsed": false,
     "input": [
      "hdu[0]['MODELFLUX']"
     ],
     "language": "python",
     "metadata": {},
     "outputs": [
      {
       "metadata": {},
       "output_type": "pyout",
       "prompt_number": 25,
       "text": [
        "array([  0.09186987,   1.08916068,   6.59022903,  15.44721699,  27.99959564], dtype=float32)"
       ]
      }
     ],
     "prompt_number": 25
    },
    {
     "cell_type": "code",
     "collapsed": false,
     "input": [
      "galaxy_number =0\n",
      "modelflux=hdu[galaxy_number]['MODELFLUX']\n",
      "#MODEL_FLUX is scalar value, not image array with flux value at every pix"
     ],
     "language": "python",
     "metadata": {},
     "outputs": [],
     "prompt_number": 26
    },
    {
     "cell_type": "code",
     "collapsed": false,
     "input": [
      "nx = 2048\n",
      "ny = 1361\n",
      "psize = 0.396 # arcseconds per pixel.\n",
      "\n",
      "# coordinates of center of pixels\n",
      "x = (np.arange(0,nx,1)+0.5)*psize\n",
      "y = (np.arange(0,ny,1)+0.5)*psize\n",
      "m = np.array([100,300])\n",
      "xM, yM = np.meshgrid(x,y,indexing='xy')\n",
      "def plotI(data):\n",
      "    mysize=1\n",
      "    V = np.array([[5.,0.],[0., 5.]]) \n",
      "    xx = np.where((np.fabs(xM - m[0]) < V[0,0]**0.5*mysize) & (np.fabs(yM - m[1]) < V[1,1]**0.5*mysize))\n",
      "    extent = max(xx[0].max()-xx[0].min(),xx[1].max()-xx[1].min())\n",
      "    xcen = int(xx[0].mean())\n",
      "    ycen = int(xx[1].mean())\n",
      "    plt.matshow(data[xcen-extent/2:xcen+extent/2,ycen-extent/2:ycen+extent/2],origin='lower',interpolation='nearest')#extent = [xM[xx[0]].min(),xM[xx[0]].max(),yM[xx[1]].min(),yM[xx[1]].max()])"
     ],
     "language": "python",
     "metadata": {},
     "outputs": [],
     "prompt_number": 35
    },
    {
     "cell_type": "code",
     "collapsed": false,
     "input": [
      "plotI(hdu['MODELFLUX_IVAR'])"
     ],
     "language": "python",
     "metadata": {},
     "outputs": [
      {
       "ename": "ZeroDivisionError",
       "evalue": "float division by zero",
       "output_type": "pyerr",
       "traceback": [
        "\u001b[0;31m---------------------------------------------------------------------------\u001b[0m\n\u001b[0;31mZeroDivisionError\u001b[0m                         Traceback (most recent call last)",
        "\u001b[0;32m<ipython-input-36-e399d94b997b>\u001b[0m in \u001b[0;36m<module>\u001b[0;34m()\u001b[0m\n\u001b[0;32m----> 1\u001b[0;31m \u001b[0mplotI\u001b[0m\u001b[0;34m(\u001b[0m\u001b[0mhdu\u001b[0m\u001b[0;34m[\u001b[0m\u001b[0;34m'MODELFLUX_IVAR'\u001b[0m\u001b[0;34m]\u001b[0m\u001b[0;34m)\u001b[0m\u001b[0;34m\u001b[0m\u001b[0m\n\u001b[0m",
        "\u001b[0;32m<ipython-input-35-064d0425ee76>\u001b[0m in \u001b[0;36mplotI\u001b[0;34m(data)\u001b[0m\n\u001b[1;32m     15\u001b[0m     \u001b[0mxcen\u001b[0m \u001b[0;34m=\u001b[0m \u001b[0mint\u001b[0m\u001b[0;34m(\u001b[0m\u001b[0mxx\u001b[0m\u001b[0;34m[\u001b[0m\u001b[0;36m0\u001b[0m\u001b[0;34m]\u001b[0m\u001b[0;34m.\u001b[0m\u001b[0mmean\u001b[0m\u001b[0;34m(\u001b[0m\u001b[0;34m)\u001b[0m\u001b[0;34m)\u001b[0m\u001b[0;34m\u001b[0m\u001b[0m\n\u001b[1;32m     16\u001b[0m     \u001b[0mycen\u001b[0m \u001b[0;34m=\u001b[0m \u001b[0mint\u001b[0m\u001b[0;34m(\u001b[0m\u001b[0mxx\u001b[0m\u001b[0;34m[\u001b[0m\u001b[0;36m1\u001b[0m\u001b[0;34m]\u001b[0m\u001b[0;34m.\u001b[0m\u001b[0mmean\u001b[0m\u001b[0;34m(\u001b[0m\u001b[0;34m)\u001b[0m\u001b[0;34m)\u001b[0m\u001b[0;34m\u001b[0m\u001b[0m\n\u001b[0;32m---> 17\u001b[0;31m     \u001b[0mplt\u001b[0m\u001b[0;34m.\u001b[0m\u001b[0mmatshow\u001b[0m\u001b[0;34m(\u001b[0m\u001b[0mdata\u001b[0m\u001b[0;34m[\u001b[0m\u001b[0mxcen\u001b[0m\u001b[0;34m-\u001b[0m\u001b[0mextent\u001b[0m\u001b[0;34m/\u001b[0m\u001b[0;36m2\u001b[0m\u001b[0;34m:\u001b[0m\u001b[0mxcen\u001b[0m\u001b[0;34m+\u001b[0m\u001b[0mextent\u001b[0m\u001b[0;34m/\u001b[0m\u001b[0;36m2\u001b[0m\u001b[0;34m,\u001b[0m\u001b[0mycen\u001b[0m\u001b[0;34m-\u001b[0m\u001b[0mextent\u001b[0m\u001b[0;34m/\u001b[0m\u001b[0;36m2\u001b[0m\u001b[0;34m:\u001b[0m\u001b[0mycen\u001b[0m\u001b[0;34m+\u001b[0m\u001b[0mextent\u001b[0m\u001b[0;34m/\u001b[0m\u001b[0;36m2\u001b[0m\u001b[0;34m]\u001b[0m\u001b[0;34m,\u001b[0m\u001b[0morigin\u001b[0m\u001b[0;34m=\u001b[0m\u001b[0;34m'lower'\u001b[0m\u001b[0;34m,\u001b[0m\u001b[0minterpolation\u001b[0m\u001b[0;34m=\u001b[0m\u001b[0;34m'nearest'\u001b[0m\u001b[0;34m)\u001b[0m\u001b[0;31m#extent = [xM[xx[0]].min(),xM[xx[0]].max(),yM[xx[1]].min(),yM[xx[1]].max()])\u001b[0m\u001b[0;34m\u001b[0m\u001b[0m\n\u001b[0m",
        "\u001b[0;32m/Users/dorislee/.virtualenvs/py27dev/lib/python2.7/site-packages/matplotlib/pyplot.pyc\u001b[0m in \u001b[0;36mmatshow\u001b[0;34m(A, fignum, **kw)\u001b[0m\n\u001b[1;32m   2215\u001b[0m     \u001b[0;32melse\u001b[0m\u001b[0;34m:\u001b[0m\u001b[0;34m\u001b[0m\u001b[0m\n\u001b[1;32m   2216\u001b[0m         \u001b[0;31m# Extract actual aspect ratio of array and make appropriately sized figure\u001b[0m\u001b[0;34m\u001b[0m\u001b[0;34m\u001b[0m\u001b[0m\n\u001b[0;32m-> 2217\u001b[0;31m         \u001b[0mfig\u001b[0m \u001b[0;34m=\u001b[0m \u001b[0mfigure\u001b[0m\u001b[0;34m(\u001b[0m\u001b[0mfignum\u001b[0m\u001b[0;34m,\u001b[0m \u001b[0mfigsize\u001b[0m\u001b[0;34m=\u001b[0m\u001b[0mfigaspect\u001b[0m\u001b[0;34m(\u001b[0m\u001b[0mA\u001b[0m\u001b[0;34m)\u001b[0m\u001b[0;34m)\u001b[0m\u001b[0;34m\u001b[0m\u001b[0m\n\u001b[0m\u001b[1;32m   2218\u001b[0m         \u001b[0max\u001b[0m  \u001b[0;34m=\u001b[0m \u001b[0mfig\u001b[0m\u001b[0;34m.\u001b[0m\u001b[0madd_axes\u001b[0m\u001b[0;34m(\u001b[0m\u001b[0;34m[\u001b[0m\u001b[0;36m0.15\u001b[0m\u001b[0;34m,\u001b[0m \u001b[0;36m0.09\u001b[0m\u001b[0;34m,\u001b[0m \u001b[0;36m0.775\u001b[0m\u001b[0;34m,\u001b[0m \u001b[0;36m0.775\u001b[0m\u001b[0;34m]\u001b[0m\u001b[0;34m)\u001b[0m\u001b[0;34m\u001b[0m\u001b[0m\n\u001b[1;32m   2219\u001b[0m \u001b[0;34m\u001b[0m\u001b[0m\n",
        "\u001b[0;32m/Users/dorislee/.virtualenvs/py27dev/lib/python2.7/site-packages/matplotlib/figure.pyc\u001b[0m in \u001b[0;36mfigaspect\u001b[0;34m(arg)\u001b[0m\n\u001b[1;32m   1648\u001b[0m     \u001b[0;32mif\u001b[0m \u001b[0misarray\u001b[0m\u001b[0;34m:\u001b[0m\u001b[0;34m\u001b[0m\u001b[0m\n\u001b[1;32m   1649\u001b[0m         \u001b[0mnr\u001b[0m\u001b[0;34m,\u001b[0m \u001b[0mnc\u001b[0m \u001b[0;34m=\u001b[0m \u001b[0marg\u001b[0m\u001b[0;34m.\u001b[0m\u001b[0mshape\u001b[0m\u001b[0;34m[\u001b[0m\u001b[0;34m:\u001b[0m\u001b[0;36m2\u001b[0m\u001b[0;34m]\u001b[0m\u001b[0;34m\u001b[0m\u001b[0m\n\u001b[0;32m-> 1650\u001b[0;31m         \u001b[0marr_ratio\u001b[0m \u001b[0;34m=\u001b[0m \u001b[0mfloat\u001b[0m\u001b[0;34m(\u001b[0m\u001b[0mnr\u001b[0m\u001b[0;34m)\u001b[0m \u001b[0;34m/\u001b[0m \u001b[0mnc\u001b[0m\u001b[0;34m\u001b[0m\u001b[0m\n\u001b[0m\u001b[1;32m   1651\u001b[0m     \u001b[0;32melse\u001b[0m\u001b[0;34m:\u001b[0m\u001b[0;34m\u001b[0m\u001b[0m\n\u001b[1;32m   1652\u001b[0m         \u001b[0marr_ratio\u001b[0m \u001b[0;34m=\u001b[0m \u001b[0mfloat\u001b[0m\u001b[0;34m(\u001b[0m\u001b[0marg\u001b[0m\u001b[0;34m)\u001b[0m\u001b[0;34m\u001b[0m\u001b[0m\n",
        "\u001b[0;31mZeroDivisionError\u001b[0m: float division by zero"
       ]
      }
     ],
     "prompt_number": 36
    },
    {
     "cell_type": "code",
     "collapsed": false,
     "input": [],
     "language": "python",
     "metadata": {},
     "outputs": []
    }
   ],
   "metadata": {}
  }
 ]
}