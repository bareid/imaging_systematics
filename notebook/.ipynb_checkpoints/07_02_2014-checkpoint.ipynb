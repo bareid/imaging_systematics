{
 "metadata": {
  "name": "",
  "signature": "sha256:7671aed107e1030391d3a23a179c9868d65d8f7c475c4522ac110f9393e2933e"
 },
 "nbformat": 3,
 "nbformat_minor": 0,
 "worksheets": [
  {
   "cells": [
    {
     "cell_type": "markdown",
     "metadata": {},
     "source": [
      "http://ned.ipac.caltech.edu/level5/Wall/Wall4.html\n",
      "- Success at the 5sigma level means that there is signal present at an amplitude of 5 times the standard deviation of the noise.\n",
      "- \"In optical astronomy, the limit of the Poisson distribution does the trick: optical astronomers are notoriously short of photons, but those which they receive are strong, so that the output fluctuations reflect not receiver characteristics so much as the Poisson statistics of the ``events'' of photons arriving\""
     ]
    },
    {
     "cell_type": "markdown",
     "metadata": {},
     "source": [
      "A ~6 sigma CMASS target : http://skyserver.sdss3.org/public/en/tools/chart/navi.aspx?ra=234.3256&dec=-0.9950255"
     ]
    },
    {
     "cell_type": "markdown",
     "metadata": {},
     "source": [
      "__To Do__\n",
      "\n",
      "Read : http://ned.ipac.caltech.edu/level5/Wall/Wall_contents.html"
     ]
    },
    {
     "cell_type": "code",
     "collapsed": false,
     "input": [],
     "language": "python",
     "metadata": {},
     "outputs": []
    }
   ],
   "metadata": {}
  }
 ]
}