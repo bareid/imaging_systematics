{
 "metadata": {
  "name": "",
  "signature": "sha256:970996a53a309bfd8c70007e8cd8ad82717c8be62c7d3c7e691f8e91b6b80c71"
 },
 "nbformat": 3,
 "nbformat_minor": 0,
 "worksheets": [
  {
   "cells": [
    {
     "cell_type": "code",
     "collapsed": false,
     "input": [
      "import  matplotlib.pyplot as plt\n",
      "%pylab inline"
     ],
     "language": "python",
     "metadata": {},
     "outputs": [
      {
       "output_type": "stream",
       "stream": "stdout",
       "text": [
        "Populating the interactive namespace from numpy and matplotlib\n"
       ]
      }
     ],
     "prompt_number": 1
    },
    {
     "cell_type": "markdown",
     "metadata": {},
     "source": [
      "Equations 22-24 of [Hogg and Lang](http://arxiv.org/pdf/1210.6563.pdf) explicitly write what we want to evaluate, namely, a model that convolves the \"pixel-convolved\" PSF with the intrinsic galaxy profile.  We can copy Hogg and Lang and represent the deVauc profile as a sum of Gaussians.  The PSF we will represent as Gaussian for this project.  The only question is how to get the pixel-convolved PSF represented as a Gaussian (do we need to go through their minimization procedure?)  What exactly does that mean?\n",
      "\n",
      "From pg 8: \"Other definitions for the PSF (the non-pixel-convolved, for example) require that the user do two convolutions, the first with the PSF and the second with the square (or worse) pixel.\"\n",
      "\n",
      "We might not have to worry about speed so much in our case, because we can just do this once and plop it down in the center of random pixels, and then maybe recycle through several positions with respect to the center of the pixel to make sure we're not biasing things by just choosing the center.  Then the model looks very simple, so we can just write slow code to do the square pixel convolution.\n",
      "\n",
      "In summary, we should represent the deVauc profile as 10 Gaussians and the PSF as a single Gaussian and use Eqn. 22-24 as our base model.  Then we should convolve that model with the SDSS pixels.  We should end up with something like Fig 6.\n",
      "\n",
      "The model will just tell us how to weight the noise when we start grabbing real SDSS images."
     ]
    },
    {
     "cell_type": "code",
     "collapsed": false,
     "input": [
      "import numpy as np"
     ],
     "language": "python",
     "metadata": {},
     "outputs": [],
     "prompt_number": 2
    },
    {
     "cell_type": "code",
     "collapsed": false,
     "input": [
      "# Doris, can you grab the Gaussian coefficients from the Hogg and Lang paper (download source and grab with python from the tex, or by hand..) and code them up in the deVauc function?\n",
      "\n",
      "def N(xgrid,ygrid,m,Vinv):\n",
      "  \"\"\"\n",
      "  2d normal (Gaussian) distribution.\n",
      "  #http://en.wikipedia.org/wiki/Gaussian_function#Two-dimensional_Gaussian_function\n",
      "  xgrid,ygrid is the output of a meshgrid.\n",
      "  #m is the mean (x_0,y_0)\n",
      "  Vinv is a 2x2 np.array, you already took the inverse!\n",
      "  \"\"\"\n",
      "  assert Vinv[0,1] == Vinv[0,1]\n",
      "  exparg = (xgrid - m[0])*Vinv[0,0]*(xgrid - m[0]) + \\\n",
      "           2*(xgrid - m[0])*Vinv[1,0]*(ygrid -m[1]) + \\\n",
      "           (ygrid - m[1])*Vinv[1,1]*(ygrid - m[1])\n",
      "  \n",
      "  return (np.linalg.det(Vinv))**0.5/(2.*np.pi)*np.exp(-0.5*exparg)\n",
      "\n",
      "        \n",
      "def deVauc(r,Ie,re,aopt=1):\n",
      "  \"\"\"\n",
      "  aopt = 0: straight-up deVauc formula.\n",
      "  aopt = 1: SDSS approximation ('luv') Eqn 17-18 of Hogg and Lang.\n",
      "  aopt = 2: Hogg and Lang approximation to luv (sum over 10 Gaussians).\n",
      "  \"\"\"\n",
      "  xi = np.fabs(r/re)\n",
      "  if aopt == 0:\n",
      "    return Ie*np.exp(-7.66924944*((xi)**(0.25)-1))\n",
      "  if aopt == 1:\n",
      "    result = np.zeros(len(r))\n",
      "    result = Ie*np.exp(-7.66925*(((xi)**2 + 0.0004)**(0.125)-1))\n",
      "    xx = np.where(xi > 8.)[0]\n",
      "    if len(xx) > 0:\n",
      "      result[xx] = 0.\n",
      "    xx = np.where((xi >= 7.) & (xi < 8.))[0]\n",
      "    if len(xx) > 0.:\n",
      "      result[xx] = result[xx] * (1.-(xi[xx]-7)**2)**2\n",
      "    return result\n",
      "#   if aopt == 2:\n",
      "#     '''\n",
      "#     S_g : flux\n",
      "#     a_m : major axis for each M component\n",
      "#     p_k : some kind of weight factor (??) described by eq 20 \n",
      "#     N : 2D gaussian  with mean m_k and variance V_k\n",
      "#     R_g : galaxy shape transformation matrix\n",
      "#     '''\n",
      "#     result = np.zeros(len(r)) #init\n",
      "#     # K, M max for dev\n",
      "#     M_dev = \n",
      "#     K = \n",
      "#     # how to get x,y grid (relate to r ??)\n",
      "#     x = \n",
      "#     y = \n",
      "#     for k in np.linspace (1,K): #double sum\n",
      "#         for m in np.linspace(1,Mexp):\n",
      "#             result += a(m)*p(k)*N(x,y,m,)\n",
      "#             #N(xgrid,ygrid,m,Vinv)\n",
      "#     return result\n",
      "#  # How to compute a and p give each m and k\n",
      "# def a(m):\n",
      "#     ''' \n",
      "#     Compute a given value of M component\n",
      "#     '''\n",
      "#     return None\n",
      "# def p(k):\n",
      "#     '''\n",
      "#     Compute p given value of K component\n",
      "#     '''\n",
      "#     return None\n",
      "\n",
      "def intT1d(r,pofr):\n",
      "  \"\"\"\n",
      "  Trapezoid rule for integration.\n",
      "  \"\"\"\n",
      "  return 0.5*((r[1:]-r[:-1])*(pofr[1:]+pofr[:-1])).sum()\n",
      "\n",
      "# def intT2d(x,y,pofr):\n",
      "#   \"\"\"\n",
      "#   2D Trapezoid rule for integration.Compute volume. \n",
      "#   \"\"\"\n",
      "#   return 0.5*((x[1:]-x[:-1])*(y[1:]-y[:-1])*(pofr[1:]+pofr[:-1])).sum()"
     ],
     "language": "python",
     "metadata": {},
     "outputs": [],
     "prompt_number": 3
    },
    {
     "cell_type": "code",
     "collapsed": false,
     "input": [
      "## Plot of the deVauc and LUV profiles.  Can you add the plot of the Gaussian approximation?\n",
      "\n",
      "r=10**np.arange(-3,2,0.001)\n",
      "print len(r)\n",
      "plt.loglog(r,deVauc(r,1.,1.,0),'b')\n",
      "plt.loglog(r,deVauc(r,1.,1.,1),'g')\n",
      "# plt.loglog(r,deVauc(r,1.,1.,2),'r')"
     ],
     "language": "python",
     "metadata": {},
     "outputs": [
      {
       "output_type": "stream",
       "stream": "stdout",
       "text": [
        "5000\n"
       ]
      },
      {
       "metadata": {},
       "output_type": "pyout",
       "prompt_number": 4,
       "text": [
        "[<matplotlib.lines.Line2D at 0x11097e990>]"
       ]
      },
      {
       "metadata": {},
       "output_type": "display_data",
       "png": "[encoded data removed]",
       "text": [
        "<matplotlib.figure.Figure at 0x110982110>"
       ]
      }
     ],
     "prompt_number": 4
    },
    {
     "cell_type": "code",
     "collapsed": false,
     "input": [
      "x=r\n",
      "y=deVauc(r,1.,1.,0)*2*np.pi*x\n",
      "y2=deVauc(r,1.,1.,1)*2*np.pi*x\n",
      "ihalf = np.where(r > 1.)[0].min()\n",
      "print 'half light radius correct?', x[ihalf], intT1d(x[:ihalf],y[:ihalf])/intT1d(x,y)\n",
      "print 'half light approx correct for LUV profile?',intT1d(x[:ihalf],y2[:ihalf])/intT1d(x,y2)"
     ],
     "language": "python",
     "metadata": {},
     "outputs": [
      {
       "output_type": "stream",
       "stream": "stdout",
       "text": [
        "half light radius correct? 1.00230523808 0.499975031558\n",
        "half light approx correct for LUV profile? 0.52884049292\n"
       ]
      }
     ],
     "prompt_number": 5
    },
    {
     "cell_type": "code",
     "collapsed": false,
     "input": [
      "V = np.array([[80,0],[0,10]])\n",
      "# V = np.array([[80,0],[0,80]]) #circular profile\n",
      "Vinv = np.linalg.inv(V)\n",
      "if 0==1:\n",
      "  print V\n",
      "  print Vinv\n",
      "  print V*Vinv"
     ],
     "language": "python",
     "metadata": {},
     "outputs": [],
     "prompt_number": 40
    },
    {
     "cell_type": "code",
     "collapsed": false,
     "input": [
      "## set up the model using the geometry of the image files.\n",
      "# https://www.sdss3.org/instruments/camera.php#Filters\n",
      "nx = 2048\n",
      "ny = 1361\n",
      "psize = 0.396 # arcseconds per pixel.\n",
      "\n",
      "# coordinates of center of pixels\n",
      "x = (np.arange(0,nx,1)+0.5)*psize\n",
      "y = (np.arange(0,ny,1)+0.5)*psize\n",
      "\n",
      "xM, yM = np.meshgrid(x,y,indexing='xy')"
     ],
     "language": "python",
     "metadata": {},
     "outputs": [],
     "prompt_number": 41
    },
    {
     "cell_type": "code",
     "collapsed": false,
     "input": [
      "print x[-10:]\n",
      "print y[-10:]"
     ],
     "language": "python",
     "metadata": {},
     "outputs": [
      {
       "output_type": "stream",
       "stream": "stdout",
       "text": [
        "[ 807.246  807.642  808.038  808.434  808.83   809.226  809.622  810.018\n",
        "  810.414  810.81 ]\n",
        "[ 535.194  535.59   535.986  536.382  536.778  537.174  537.57   537.966\n",
        "  538.362  538.758]\n"
       ]
      }
     ],
     "prompt_number": 42
    },
    {
     "cell_type": "code",
     "collapsed": false,
     "input": [
      "m = np.array([100,300])\n",
      "## test with a fat Gaussian that spans many pixels.\n",
      "I = N(xM,yM,m,Vinv)\n",
      "# check -- is the Gaussian profile normalized?\n",
      "parea = psize**2\n",
      "print 'should sum to 1.  Error:',(I[:,:].flatten()).sum()*parea-1"
     ],
     "language": "python",
     "metadata": {},
     "outputs": [
      {
       "output_type": "stream",
       "stream": "stdout",
       "text": [
        "should sum to 1.  Error: -3.46389583683e-14\n"
       ]
      }
     ],
     "prompt_number": 43
    },
    {
     "cell_type": "code",
     "collapsed": false,
     "input": [
      "plt.matshow(I,origin='lower',extent = [x.min(),x.max(),y.min(),y.max()],interpolation='nearest')"
     ],
     "language": "python",
     "metadata": {},
     "outputs": [
      {
       "metadata": {},
       "output_type": "pyout",
       "prompt_number": 44,
       "text": [
        "<matplotlib.image.AxesImage at 0x12abc03d0>"
       ]
      },
      {
       "metadata": {},
       "output_type": "display_data",
       "png": "[encoded data removed]",
       "text": [
        "<matplotlib.figure.Figure at 0x127fa49d0>"
       ]
      }
     ],
     "prompt_number": 44
    },
    {
     "cell_type": "code",
     "collapsed": false,
     "input": [
      "mysize=1\n",
      "xx = np.where((np.fabs(xM - m[0]) < V[0,0]**0.5*mysize) & (np.fabs(yM - m[1]) < V[1,1]**0.5*mysize))\n",
      "extent = max(xx[0].max()-xx[0].min(),xx[1].max()-xx[1].min())\n",
      "print extent\n",
      "xcen = int(xx[0].mean())\n",
      "ycen = int(xx[1].mean())\n",
      "\n",
      "## zoom\n",
      "#plt.matshow(I[xx[0].min():xx[0].max()+1,xx[1].min():xx[1].max()+1],origin='lower',extent = [x.min(),x.max(),y.min(),y.max()])\n",
      "## zoom, keeping aspect ratio.\n",
      "#myextent = xM[\n",
      "plt.matshow(I[xcen-extent/2:xcen+extent/2,ycen-extent/2:ycen+extent/2],origin='lower',interpolation='nearest')#extent = [xM[xx[0]].min(),xM[xx[0]].max(),yM[xx[1]].min(),yM[xx[1]].max()])"
     ],
     "language": "python",
     "metadata": {},
     "outputs": [
      {
       "output_type": "stream",
       "stream": "stdout",
       "text": [
        "44\n"
       ]
      },
      {
       "metadata": {},
       "output_type": "pyout",
       "prompt_number": 45,
       "text": [
        "<matplotlib.image.AxesImage at 0x131919bd0>"
       ]
      },
      {
       "metadata": {},
       "output_type": "display_data",
       "png": "[encoded data removed]",
       "text": [
        "<matplotlib.figure.Figure at 0x12d7d2750>"
       ]
      }
     ],
     "prompt_number": 45
    },
    {
     "cell_type": "markdown",
     "metadata": {},
     "source": [
      "Repesenting PSF as a single Gaussian K=1, simplify eq 22 to:\n",
      "\n",
      "$$I = \\displaystyle \\sum^{M_{dev}}_{m=1}a_m^{dev} N(x-m,V)$$\n",
      "The m inside the Gaussian (mean) is different from the m-components we are summing over."
     ]
    },
    {
     "cell_type": "code",
     "collapsed": false,
     "input": [
      "mdev6 = {0.01308: 0.00263, 0.12425: 0.01202,0.63551: 0.04031,2.22560: 0.12128,5.63989: 0.36229,9.81523: 1.23604}\n",
      "# check sum as 18.454 as in Table 1 \n",
      "sum(mdev6.keys())"
     ],
     "language": "python",
     "metadata": {},
     "outputs": [
      {
       "metadata": {},
       "output_type": "pyout",
       "prompt_number": 46,
       "text": [
        "18.45356"
       ]
      }
     ],
     "prompt_number": 46
    },
    {
     "cell_type": "code",
     "collapsed": false,
     "input": [
      "V"
     ],
     "language": "python",
     "metadata": {},
     "outputs": [
      {
       "metadata": {},
       "output_type": "pyout",
       "prompt_number": 47,
       "text": [
        "array([[80,  0],\n",
        "       [ 0, 10]])"
       ]
      }
     ],
     "prompt_number": 47
    },
    {
     "cell_type": "code",
     "collapsed": false,
     "input": [
      "V = np.array([[5,0],[0,5]])"
     ],
     "language": "python",
     "metadata": {},
     "outputs": [],
     "prompt_number": 63
    },
    {
     "cell_type": "code",
     "collapsed": false,
     "input": [
      "np.linalg.inv(V)"
     ],
     "language": "python",
     "metadata": {},
     "outputs": [
      {
       "metadata": {},
       "output_type": "pyout",
       "prompt_number": 64,
       "text": [
        "array([[ 0.2,  0. ],\n",
        "       [ 0. ,  0.2]])"
       ]
      }
     ],
     "prompt_number": 64
    },
    {
     "cell_type": "code",
     "collapsed": false,
     "input": [
      "V = np.array([[1,0],[0,1]])"
     ],
     "language": "python",
     "metadata": {},
     "outputs": [],
     "prompt_number": 54
    },
    {
     "cell_type": "code",
     "collapsed": false,
     "input": [
      "V = np.array([[0.00263,0],[0,0.00263]])"
     ],
     "language": "python",
     "metadata": {},
     "outputs": [],
     "prompt_number": 57
    },
    {
     "cell_type": "code",
     "collapsed": false,
     "input": [
      "V = np.array([[0.,0.],[0.,0.]])\n",
      "def Iconv(mdev):\n",
      "    for a in mdev6.keys():\n",
      "    #     print (a)\n",
      "        v=mdev6[a]\n",
      "    #     m = np.array([0,0]) #assuming not shifted\n",
      "        m = np.array([100,300])\n",
      "        vi = np.array([[v**2,0],[0,v**2]])\n",
      "    #     v_inv = np.linalg.inv(np.array([[v,0],[0,v]]))\n",
      "    #     print v_inv\n",
      "    #     v_inv=V\n",
      "    #     parea = psize**2\n",
      "    #     #check that each individual Gaussian is normalized\n",
      "    #     print 'should sum to 1.  Error:',(N(xM,yM,m,v_inv)[:,:].flatten()).sum()*parea-1\n",
      "    #This check is not entirely accurate because it assumes that psize is the same and doesn't account for the \n",
      "    # variance spread on the 2D distribution that affects how wide the underlying volume is. parea needs to be changed to something \n",
      "    # that accurately compute volumne under a 2D gaussian ( some kind of integration), but for now, just trust the normalization constant whcih \n",
      "    # has been proved to work for the above  case. \n",
      "        # This is not how gaussians are added together (exponent add )\n",
      "        print v\n",
      "        V += vi\n",
      "        print V\n",
      "    V_inv = np.linalg.inv(V)\n",
      "    # Gaussian not normalized well.\n",
      "    I_conv = a*N(xM,yM,m,V_inv)\n",
      "    return I"
     ],
     "language": "python",
     "metadata": {},
     "outputs": [
      {
       "output_type": "stream",
       "stream": "stdout",
       "text": [
        "0.04031\n",
        "[[ 0.0016249  0.       ]\n",
        " [ 0.         0.0016249]]\n",
        "0.00263\n",
        "[[ 0.00163181  0.        ]\n",
        " [ 0.          0.00163181]]\n",
        "0.36229\n",
        "[[ 0.13288586  0.        ]\n",
        " [ 0.          0.13288586]]\n",
        "1.23604\n",
        "[[ 1.66068074  0.        ]\n",
        " [ 0.          1.66068074]]\n",
        "0.01202\n",
        "[[ 1.66082522  0.        ]\n",
        " [ 0.          1.66082522]]\n",
        "0.12128\n",
        "[[ 1.67553406  0.        ]\n",
        " [ 0.          1.67553406]]\n"
       ]
      }
     ],
     "prompt_number": 107
    },
    {
     "cell_type": "code",
     "collapsed": false,
     "input": [
      "V"
     ],
     "language": "python",
     "metadata": {},
     "outputs": [
      {
       "metadata": {},
       "output_type": "pyout",
       "prompt_number": 104,
       "text": [
        "array([[ 1.67553406,  0.        ],\n",
        "       [ 0.        ,  1.67553406]])"
       ]
      }
     ],
     "prompt_number": 104
    },
    {
     "cell_type": "code",
     "collapsed": false,
     "input": [
      "mysize=1\n",
      "# V = np.array([[5,0.],[0., 5]]) \n",
      "xx = np.where((np.fabs(xM - m[0]) < V[0,0]**0.5*mysize) & (np.fabs(yM - m[1]) < V[1,1]**0.5*mysize))\n",
      "extent = max(xx[0].max()-xx[0].min(),xx[1].max()-xx[1].min())\n",
      "print extent\n",
      "xcen = int(xx[0].mean())\n",
      "ycen = int(xx[1].mean())\n",
      "plt.matshow(I_conv[xcen-extent/2:xcen+extent/2,ycen-extent/2:ycen+extent/2],origin='lower',interpolation='nearest')#extent = [xM[xx[0]].min(),xM[xx[0]].max(),yM[xx[1]].min(),yM[xx[1]].max()])"
     ],
     "language": "python",
     "metadata": {},
     "outputs": [
      {
       "output_type": "stream",
       "stream": "stdout",
       "text": [
        "6\n"
       ]
      },
      {
       "metadata": {},
       "output_type": "pyout",
       "prompt_number": 105,
       "text": [
        "<matplotlib.image.AxesImage at 0x13f52f910>"
       ]
      },
      {
       "metadata": {},
       "output_type": "display_data",
       "png": "[encoded data removed]",
       "text": [
        "<matplotlib.figure.Figure at 0x13f67dc10>"
       ]
      }
     ],
     "prompt_number": 105
    },
    {
     "cell_type": "code",
     "collapsed": false,
     "input": [
      "mdev8 = {0.00262:0.00113, 0.02500:0.00475,0.13413:0.01462,0.51326:0.03930,1.52005:0.09926,3.56204:0.24699,6.44845:0.63883,8.10105:1.92560}"
     ],
     "language": "python",
     "metadata": {},
     "outputs": [],
     "prompt_number": 84
    },
    {
     "cell_type": "code",
     "collapsed": false,
     "input": [
      "I_conv = 0\n",
      "for a in mdev8.keys():\n",
      "    print (a)\n",
      "    v=mdev8[a]\n",
      "#     m = np.array([0,0]) #assuming not shifted\n",
      "    m = np.array([100,300])\n",
      "#     v_inv = np.linalg.inv(np.array([[v**2,0],[0,v**2]]))\n",
      "    v_inv = np.linalg.inv(np.array([[v,0],[0,v]]))\n",
      "    print v_inv\n",
      "#     v_inv=V\n",
      "    parea = psize**2\n",
      "    #check that each individual Gaussian is normalized\n",
      "    print 'should sum to 1.  Error:',(N(xM,yM,m,v_inv)[:,:].flatten()).sum()*parea-1\n",
      "    I_conv += a*N(xM,yM,m,v_inv)\n",
      "# Gaussian not normalized well."
     ],
     "language": "python",
     "metadata": {},
     "outputs": [
      {
       "output_type": "stream",
       "stream": "stdout",
       "text": [
        "0.51326\n",
        "[[ 25.44529262   0.        ]\n",
        " [  0.          25.44529262]]\n",
        "should sum to 1.  Error: "
       ]
      },
      {
       "output_type": "stream",
       "stream": "stdout",
       "text": [
        "0.0268409889566\n",
        "0.13413"
       ]
      },
      {
       "output_type": "stream",
       "stream": "stdout",
       "text": [
        "\n",
        "[[ 68.3994528   0.       ]\n",
        " [  0.         68.3994528]]\n",
        "should sum to 1.  Error: "
       ]
      },
      {
       "output_type": "stream",
       "stream": "stdout",
       "text": [
        "0.686811942091\n",
        "0.025"
       ]
      },
      {
       "output_type": "stream",
       "stream": "stdout",
       "text": [
        "\n",
        "[[ 210.52631579    0.        ]\n",
        " [   0.          210.52631579]]\n",
        "should sum to 1.  Error: "
       ]
      },
      {
       "output_type": "stream",
       "stream": "stdout",
       "text": [
        "3.72935731397\n",
        "6.44845"
       ]
      },
      {
       "output_type": "stream",
       "stream": "stdout",
       "text": [
        "\n",
        "[[ 1.56536168  0.        ]\n",
        " [ 0.          1.56536168]]\n",
        "should sum to 1.  Error: "
       ]
      },
      {
       "output_type": "stream",
       "stream": "stdout",
       "text": [
        "-3.10862446895e-15\n",
        "0.00262"
       ]
      },
      {
       "output_type": "stream",
       "stream": "stdout",
       "text": [
        "\n",
        "[[ 884.95575221    0.        ]\n",
        " [   0.          884.95575221]]\n",
        "should sum to 1.  Error: "
       ]
      },
      {
       "output_type": "stream",
       "stream": "stdout",
       "text": [
        "13.1894760739\n",
        "1.52005"
       ]
      },
      {
       "output_type": "stream",
       "stream": "stdout",
       "text": [
        "\n",
        "[[ 10.07455168   0.        ]\n",
        " [  0.          10.07455168]]\n",
        "should sum to 1.  Error: "
       ]
      },
      {
       "output_type": "stream",
       "stream": "stdout",
       "text": [
        "1.40637435739e-05\n",
        "8.10105"
       ]
      },
      {
       "output_type": "stream",
       "stream": "stdout",
       "text": [
        "\n",
        "[[ 0.51931865  0.        ]\n",
        " [ 0.          0.51931865]]\n",
        "should sum to 1.  Error: "
       ]
      },
      {
       "output_type": "stream",
       "stream": "stdout",
       "text": [
        "-1.55431223448e-15\n",
        "3.56204"
       ]
      },
      {
       "output_type": "stream",
       "stream": "stdout",
       "text": [
        "\n",
        "[[ 4.04874691  0.        ]\n",
        " [ 0.          4.04874691]]\n",
        "should sum to 1.  Error: "
       ]
      },
      {
       "output_type": "stream",
       "stream": "stdout",
       "text": [
        "1.07469588784e-13\n"
       ]
      }
     ],
     "prompt_number": 78
    },
    {
     "cell_type": "code",
     "collapsed": false,
     "input": [],
     "language": "python",
     "metadata": {},
     "outputs": []
    },
    {
     "cell_type": "code",
     "collapsed": false,
     "input": [
      "# r=10**np.arange(-3,2,0.001)\n",
      "# print len(r)\n",
      "# a = plt.loglog(I_conv,'b')\n",
      "# a = plt.plot(I_conv,'o')"
     ],
     "language": "python",
     "metadata": {},
     "outputs": [],
     "prompt_number": 36
    },
    {
     "cell_type": "code",
     "collapsed": false,
     "input": [
      "np.nonzero(I_conv.flatten())\n",
      "#truncating all the zero values so that this can be plotted on loglog scale, otherwise -inf error\n",
      "I_conv = [I_conv.flatten()[i] for i in np.nonzero(I_conv.flatten())] \n",
      "# np.where(I_conv>0)"
     ],
     "language": "python",
     "metadata": {},
     "outputs": [],
     "prompt_number": 16
    },
    {
     "cell_type": "code",
     "collapsed": false,
     "input": [
      "print(I_conv)"
     ],
     "language": "python",
     "metadata": {},
     "outputs": [
      {
       "output_type": "stream",
       "stream": "stdout",
       "text": [
        "[array([  7.74502998e+000,   2.43538074e+000,   8.73265825e-001, ...,\n",
        "         5.82997462e-322,   1.92685602e-322,   4.94065646e-323])]\n"
       ]
      }
     ],
     "prompt_number": 17
    },
    {
     "cell_type": "code",
     "collapsed": false,
     "input": [
      "# plt.loglog(I_conv,'o') # can not loglog since negative exp\n",
      "# plt.plot(log(I_conv),'o')\n",
      "plt.plot(I_conv,'o'); #semicolon supress matplotlib output "
     ],
     "language": "python",
     "metadata": {},
     "outputs": [
      {
       "metadata": {},
       "output_type": "display_data",
       "png": "[encoded data removed]",
       "text": [
        "<matplotlib.figure.Figure at 0x1101e6c50>"
       ]
      }
     ],
     "prompt_number": 18
    },
    {
     "cell_type": "code",
     "collapsed": false,
     "input": [
      "mdev8 = {0.00262:0.00113, 0.02500:0.00475,0.13413:0.01462,0.51326:0.03930,1.52005:0.09926,3.56204:0.24699,6.44845:0.63883,8.10105:1.92560}\n",
      "mdev10={0.00139:0.00087, 0.00941:0.00296,0.04441:0.00792,0.16162:0.01902,0.48121:0.04289,1.20357:0.09351,2.54182:0.20168,4.46441:0.44126,6.22820:1.01833,6.15393:2.74555}"
     ],
     "language": "python",
     "metadata": {},
     "outputs": [],
     "prompt_number": 19
    },
    {
     "cell_type": "markdown",
     "metadata": {},
     "source": [
      "### Now generate a model image and do the fitting exercise.  Eventually the model should be deVauc convolved with Gaussian, but we'll skip that step for now and just use a Gaussian as the model."
     ]
    },
    {
     "cell_type": "code",
     "collapsed": false,
     "input": [
      "## work in progress -- want to finish Doris?  We want to evaluate the model (deVauc convolved with Gaussian PSF) on a fine grid, and then sum up the fine pixels that contribute to \n",
      "## the pixels of SDSS camera size.  Given some reasonable parameters for galaxy size (re = 1.0, 1.5, 2.0) and PSF values (take some percentiles from the galaxy files I give you), figure out\n",
      "## how fine the fine grid needs to be.\n",
      "\n",
      "## truncate the fit 5*sigma away from the center.\n",
      "fitsigma = 5.\n",
      "tgal = 1.5 ## rough typical size of a galaxy, in arcseconds.\n",
      "nsub = 10 ## how fine should we subsample the model?  Let's test this empirically for realistic values of p.\n",
      "pfine = psize/float(nsub)\n",
      "\n",
      "nbig = fitsigma*tgal/psize # number of native size pixels.\n",
      "nsmall = nbig*nsub # number of small pixels we sum over to get model in the big pixel.\n",
      "\n",
      "## make mbig the location of the center of the source within the central pixel.\n",
      "mbig = np.array([0.2,0.3])\n",
      "assert (np.fabs(mbig) < 0.99).all()\n",
      "xbig = \n",
      "\n",
      "xf = np.arange(0,nsmall+0.5,1)\n",
      "yf = np.arange(0,nsmall+0.5,1)\n",
      "assert len(xf) == nsmall\n",
      "xbig = np.arange(\n",
      "\n",
      "## width of Gaussian is tg\n",
      "mg = np.array([0.,0.])\n",
      "Vg = np.array([[tgal**2,0],[0,tgal**2]])\n",
      "Vginv = np.linalg.inv(Vg)\n",
      "\n",
      "# coordinates of center of pixels\n",
      "xf = (np.arange(-fitsigma*tgal/pfine+mg[0]+0.5,fitsigma*tgal/pfine+mg[0]-0.4,1))*pfine\n",
      "yf = (np.arange(-fitsigma*tgal/pfine+mg[1]+0.5,fitsigma*tgal/pfine+mg[1]-0.4,1))*pfine\n",
      "\n",
      "xMf, yMf = np.meshgrid(xf,yf,indexing='xy')\n",
      "If = N(xMf,yMf,mg,Vginv)"
     ],
     "language": "python",
     "metadata": {},
     "outputs": [
      {
       "ename": "SyntaxError",
       "evalue": "invalid syntax (<ipython-input-20-ca0387d0fc62>, line 17)",
       "output_type": "pyerr",
       "traceback": [
        "\u001b[0;36m  File \u001b[0;32m\"<ipython-input-20-ca0387d0fc62>\"\u001b[0;36m, line \u001b[0;32m17\u001b[0m\n\u001b[0;31m    xbig =\u001b[0m\n\u001b[0m           ^\u001b[0m\n\u001b[0;31mSyntaxError\u001b[0m\u001b[0;31m:\u001b[0m invalid syntax\n"
       ]
      }
     ],
     "prompt_number": 20
    },
    {
     "cell_type": "code",
     "collapsed": false,
     "input": [
      "plt.imshow(If,origin='lower',interpolation='nearest')"
     ],
     "language": "python",
     "metadata": {},
     "outputs": []
    },
    {
     "cell_type": "markdown",
     "metadata": {},
     "source": [
      "## What's next??\n",
      "\n",
      "I wrote some notes here: \n",
      "\n",
      "/home/bareid/imagingsys/notes1 on riemann.\n"
     ]
    },
    {
     "cell_type": "code",
     "collapsed": false,
     "input": [],
     "language": "python",
     "metadata": {},
     "outputs": []
    }
   ],
   "metadata": {}
  }
 ]
}