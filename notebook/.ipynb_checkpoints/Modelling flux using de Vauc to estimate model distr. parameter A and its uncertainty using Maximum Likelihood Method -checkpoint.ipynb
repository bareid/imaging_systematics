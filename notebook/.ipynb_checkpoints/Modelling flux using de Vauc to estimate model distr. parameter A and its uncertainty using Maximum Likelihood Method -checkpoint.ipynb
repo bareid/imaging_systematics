{
 "metadata": {
  "name": "",
  "signature": "sha256:502b33343483a2aa62d8cef7220ed85c7e87674e963562164094e91b5ec7e7a0"
 },
 "nbformat": 3,
 "nbformat_minor": 0,
 "worksheets": [
  {
   "cells": [
    {
     "cell_type": "code",
     "collapsed": false,
     "input": [
      "%pylab\n",
      "%matplotlib inline"
     ],
     "language": "python",
     "metadata": {},
     "outputs": [
      {
       "output_type": "stream",
       "stream": "stdout",
       "text": [
        "Using matplotlib backend: MacOSX\n",
        "Populating the interactive namespace from numpy and matplotlib\n"
       ]
      }
     ],
     "prompt_number": 561
    },
    {
     "cell_type": "markdown",
     "metadata": {},
     "source": [
      "The analytical solution in (Trujillo et.al 2001 eq 6) only works along the major axis where $\\theta$ = 0  (elliptical coord), so I am just using the non PSF convolved de Vauc profile for now.\n",
      "$$P(R)= I(R)=I_e * exp[-7.669(R/R_e)^{1/4}-1]$$"
     ]
    },
    {
     "cell_type": "markdown",
     "metadata": {},
     "source": [
      "Sample 2D grid of points with each value in the array reprsenting I(x,y):\n",
      "$$P(R)= I(R)=I_e * exp[-7.669(\\sqrt{x^2+y^2}/R_e)^{1/4}-1]$$"
     ]
    },
    {
     "cell_type": "markdown",
     "metadata": {},
     "source": [
      "- Ie: surface brightness at Re\n",
      "- Re: the radius of the isophote containing half the luminosity \n",
      "- What values to put of Ie and Re(?)"
     ]
    },
    {
     "cell_type": "markdown",
     "metadata": {},
     "source": [
      "Because of te exponential decay in the above equation, the intensity falls off rapidly, so I chose a small radius so that the effect can be seen."
     ]
    },
    {
     "cell_type": "code",
     "collapsed": false,
     "input": [
      "# size of a modelled image \n",
      "h = 50\n",
      "w = 50\n",
      "profile = np.zeros((h,w))"
     ],
     "language": "python",
     "metadata": {},
     "outputs": [],
     "prompt_number": 562
    },
    {
     "cell_type": "code",
     "collapsed": false,
     "input": [
      "profile"
     ],
     "language": "python",
     "metadata": {},
     "outputs": [
      {
       "metadata": {},
       "output_type": "pyout",
       "prompt_number": 563,
       "text": [
        "array([[ 0.,  0.,  0., ...,  0.,  0.,  0.],\n",
        "       [ 0.,  0.,  0., ...,  0.,  0.,  0.],\n",
        "       [ 0.,  0.,  0., ...,  0.,  0.,  0.],\n",
        "       ..., \n",
        "       [ 0.,  0.,  0., ...,  0.,  0.,  0.],\n",
        "       [ 0.,  0.,  0., ...,  0.,  0.,  0.],\n",
        "       [ 0.,  0.,  0., ...,  0.,  0.,  0.]])"
       ]
      }
     ],
     "prompt_number": 563
    },
    {
     "cell_type": "code",
     "collapsed": false,
     "input": [
      "def deVauc(x,y):\n",
      "    Ie=1\n",
      "    Re=1\n",
      "    r = np.sqrt(x**2+y**2)\n",
      "    return Ie*e**(-7.669*(((r/Re)**.25)-1))"
     ],
     "language": "python",
     "metadata": {},
     "outputs": [],
     "prompt_number": 564
    },
    {
     "cell_type": "code",
     "collapsed": false,
     "input": [
      "# Filling flux value (fij) of every pixel in image \n",
      "for y in np.arange(h): #loop thru col (y)\n",
      "    for x in np.arange(w): #loop thru col (x)\n",
      "        profile[y,x] = deVauc(0.1*x,0.1*y)"
     ],
     "language": "python",
     "metadata": {},
     "outputs": [],
     "prompt_number": 565
    },
    {
     "cell_type": "code",
     "collapsed": false,
     "input": [
      "print(profile)"
     ],
     "language": "python",
     "metadata": {},
     "outputs": [
      {
       "output_type": "stream",
       "stream": "stdout",
       "text": [
        "[[  2.14093943e+03   2.86858617e+01   1.26851320e+01 ...,   2.67077726e-02\n",
        "    2.51627625e-02   2.37290433e-02]\n",
        " [  2.86858617e+01   1.94156827e+01   1.09722128e+01 ...,   2.66907161e-02\n",
        "    2.51472737e-02   2.37149544e-02]\n",
        " [  1.26851320e+01   1.09722128e+01   7.97455153e+00 ...,   2.66396522e-02\n",
        "    2.51008995e-02   2.36727685e-02]\n",
        " ..., \n",
        " [  2.67077726e-02   2.66907161e-02   2.66396522e-02 ...,   9.61149095e-03\n",
        "    9.30143556e-03   9.00072548e-03]\n",
        " [  2.51627625e-02   2.51472737e-02   2.51008995e-02 ...,   9.30143556e-03\n",
        "    9.00677117e-03   8.72070894e-03]\n",
        " [  2.37290433e-02   2.37149544e-02   2.36727685e-02 ...,   9.00072548e-03\n",
        "    8.72070894e-03   8.44860637e-03]]\n"
       ]
      }
     ],
     "prompt_number": 566
    },
    {
     "cell_type": "code",
     "collapsed": false,
     "input": [
      "import matplotlib.pyplot as plt\n",
      "#import matplotlib.image  as mpimg\n",
      "plt.imshow(profile)\n",
      "plt.colorbar()"
     ],
     "language": "python",
     "metadata": {},
     "outputs": [
      {
       "metadata": {},
       "output_type": "pyout",
       "prompt_number": 567,
       "text": [
        "<matplotlib.colorbar.Colorbar instance at 0x118d7d710>"
       ]
      },
      {
       "metadata": {},
       "output_type": "display_data",
       "png": "[encoded data removed]",
       "text": [
        "<matplotlib.figure.Figure at 0x118bcde50>"
       ]
      }
     ],
     "prompt_number": 567
    },
    {
     "cell_type": "markdown",
     "metadata": {},
     "source": [
      "Need to center it around the center of the image."
     ]
    },
    {
     "cell_type": "code",
     "collapsed": false,
     "input": [
      "def deVauc(x,y):\n",
      "    Ie= 1\n",
      "    Re=1\n",
      "    r = np.sqrt((x-0.1*(w/2))**2+(y-0.1*(h/2))**2) #note: integer division is intentional\n",
      "    return Ie*e**(-7.669*(((r/Re)**.25)-1))"
     ],
     "language": "python",
     "metadata": {},
     "outputs": [],
     "prompt_number": 603
    },
    {
     "cell_type": "code",
     "collapsed": false,
     "input": [
      "# Filling flux value (fij) of every pixel in image \n",
      "for y in np.arange(h): #loop thru col (y)\n",
      "    for x in np.arange(w): #loop thru col (x)\n",
      "        profile[y,x] = deVauc(0.05*x,0.05*y)"
     ],
     "language": "python",
     "metadata": {},
     "outputs": [
      {
       "ename": "TypeError",
       "evalue": "'set' object does not support item assignment",
       "output_type": "pyerr",
       "traceback": [
        "\u001b[0;31m---------------------------------------------------------------------------\u001b[0m\n\u001b[0;31mTypeError\u001b[0m                                 Traceback (most recent call last)",
        "\u001b[0;32m<ipython-input-604-7276ddc099a1>\u001b[0m in \u001b[0;36m<module>\u001b[0;34m()\u001b[0m\n\u001b[1;32m      2\u001b[0m \u001b[0;32mfor\u001b[0m \u001b[0my\u001b[0m \u001b[0;32min\u001b[0m \u001b[0mnp\u001b[0m\u001b[0;34m.\u001b[0m\u001b[0marange\u001b[0m\u001b[0;34m(\u001b[0m\u001b[0mh\u001b[0m\u001b[0;34m)\u001b[0m\u001b[0;34m:\u001b[0m \u001b[0;31m#loop thru col (y)\u001b[0m\u001b[0;34m\u001b[0m\u001b[0m\n\u001b[1;32m      3\u001b[0m     \u001b[0;32mfor\u001b[0m \u001b[0mx\u001b[0m \u001b[0;32min\u001b[0m \u001b[0mnp\u001b[0m\u001b[0;34m.\u001b[0m\u001b[0marange\u001b[0m\u001b[0;34m(\u001b[0m\u001b[0mw\u001b[0m\u001b[0;34m)\u001b[0m\u001b[0;34m:\u001b[0m \u001b[0;31m#loop thru col (x)\u001b[0m\u001b[0;34m\u001b[0m\u001b[0m\n\u001b[0;32m----> 4\u001b[0;31m         \u001b[0mprofile\u001b[0m\u001b[0;34m[\u001b[0m\u001b[0my\u001b[0m\u001b[0;34m,\u001b[0m\u001b[0mx\u001b[0m\u001b[0;34m]\u001b[0m \u001b[0;34m=\u001b[0m \u001b[0mdeVauc\u001b[0m\u001b[0;34m(\u001b[0m\u001b[0;36m0.05\u001b[0m\u001b[0;34m*\u001b[0m\u001b[0mx\u001b[0m\u001b[0;34m,\u001b[0m\u001b[0;36m0.05\u001b[0m\u001b[0;34m*\u001b[0m\u001b[0my\u001b[0m\u001b[0;34m)\u001b[0m\u001b[0;34m\u001b[0m\u001b[0m\n\u001b[0m",
        "\u001b[0;31mTypeError\u001b[0m: 'set' object does not support item assignment"
       ]
      }
     ],
     "prompt_number": 604
    },
    {
     "cell_type": "markdown",
     "metadata": {},
     "source": [
      "Verify that this looks like a circular profile"
     ]
    },
    {
     "cell_type": "code",
     "collapsed": false,
     "input": [
      "# profile"
     ],
     "language": "python",
     "metadata": {},
     "outputs": []
    },
    {
     "cell_type": "code",
     "collapsed": false,
     "input": [
      "plt.imshow(profile)\n",
      "plt.colorbar()"
     ],
     "language": "python",
     "metadata": {},
     "outputs": [
      {
       "ename": "TypeError",
       "evalue": "Image data can not convert to float",
       "output_type": "pyerr",
       "traceback": [
        "\u001b[0;31m---------------------------------------------------------------------------\u001b[0m\n\u001b[0;31mTypeError\u001b[0m                                 Traceback (most recent call last)",
        "\u001b[0;32m<ipython-input-605-b7b0193066c7>\u001b[0m in \u001b[0;36m<module>\u001b[0;34m()\u001b[0m\n\u001b[0;32m----> 1\u001b[0;31m \u001b[0mplt\u001b[0m\u001b[0;34m.\u001b[0m\u001b[0mimshow\u001b[0m\u001b[0;34m(\u001b[0m\u001b[0mprofile\u001b[0m\u001b[0;34m)\u001b[0m\u001b[0;34m\u001b[0m\u001b[0m\n\u001b[0m\u001b[1;32m      2\u001b[0m \u001b[0mplt\u001b[0m\u001b[0;34m.\u001b[0m\u001b[0mcolorbar\u001b[0m\u001b[0;34m(\u001b[0m\u001b[0;34m)\u001b[0m\u001b[0;34m\u001b[0m\u001b[0m\n",
        "\u001b[0;32m/Users/dorislee/.virtualenvs/py27dev/lib/python2.7/site-packages/matplotlib/pyplot.pyc\u001b[0m in \u001b[0;36mimshow\u001b[0;34m(X, cmap, norm, aspect, interpolation, alpha, vmin, vmax, origin, extent, shape, filternorm, filterrad, imlim, resample, url, hold, **kwargs)\u001b[0m\n\u001b[1;32m   2890\u001b[0m                         \u001b[0mvmax\u001b[0m\u001b[0;34m=\u001b[0m\u001b[0mvmax\u001b[0m\u001b[0;34m,\u001b[0m \u001b[0morigin\u001b[0m\u001b[0;34m=\u001b[0m\u001b[0morigin\u001b[0m\u001b[0;34m,\u001b[0m \u001b[0mextent\u001b[0m\u001b[0;34m=\u001b[0m\u001b[0mextent\u001b[0m\u001b[0;34m,\u001b[0m \u001b[0mshape\u001b[0m\u001b[0;34m=\u001b[0m\u001b[0mshape\u001b[0m\u001b[0;34m,\u001b[0m\u001b[0;34m\u001b[0m\u001b[0m\n\u001b[1;32m   2891\u001b[0m                         \u001b[0mfilternorm\u001b[0m\u001b[0;34m=\u001b[0m\u001b[0mfilternorm\u001b[0m\u001b[0;34m,\u001b[0m \u001b[0mfilterrad\u001b[0m\u001b[0;34m=\u001b[0m\u001b[0mfilterrad\u001b[0m\u001b[0;34m,\u001b[0m\u001b[0;34m\u001b[0m\u001b[0m\n\u001b[0;32m-> 2892\u001b[0;31m                         imlim=imlim, resample=resample, url=url, **kwargs)\n\u001b[0m\u001b[1;32m   2893\u001b[0m         \u001b[0mdraw_if_interactive\u001b[0m\u001b[0;34m(\u001b[0m\u001b[0;34m)\u001b[0m\u001b[0;34m\u001b[0m\u001b[0m\n\u001b[1;32m   2894\u001b[0m     \u001b[0;32mfinally\u001b[0m\u001b[0;34m:\u001b[0m\u001b[0;34m\u001b[0m\u001b[0m\n",
        "\u001b[0;32m/Users/dorislee/.virtualenvs/py27dev/lib/python2.7/site-packages/matplotlib/axes.pyc\u001b[0m in \u001b[0;36mimshow\u001b[0;34m(self, X, cmap, norm, aspect, interpolation, alpha, vmin, vmax, origin, extent, shape, filternorm, filterrad, imlim, resample, url, **kwargs)\u001b[0m\n\u001b[1;32m   7298\u001b[0m                        filterrad=filterrad, resample=resample, **kwargs)\n\u001b[1;32m   7299\u001b[0m \u001b[0;34m\u001b[0m\u001b[0m\n\u001b[0;32m-> 7300\u001b[0;31m         \u001b[0mim\u001b[0m\u001b[0;34m.\u001b[0m\u001b[0mset_data\u001b[0m\u001b[0;34m(\u001b[0m\u001b[0mX\u001b[0m\u001b[0;34m)\u001b[0m\u001b[0;34m\u001b[0m\u001b[0m\n\u001b[0m\u001b[1;32m   7301\u001b[0m         \u001b[0mim\u001b[0m\u001b[0;34m.\u001b[0m\u001b[0mset_alpha\u001b[0m\u001b[0;34m(\u001b[0m\u001b[0malpha\u001b[0m\u001b[0;34m)\u001b[0m\u001b[0;34m\u001b[0m\u001b[0m\n\u001b[1;32m   7302\u001b[0m         \u001b[0mself\u001b[0m\u001b[0;34m.\u001b[0m\u001b[0m_set_artist_props\u001b[0m\u001b[0;34m(\u001b[0m\u001b[0mim\u001b[0m\u001b[0;34m)\u001b[0m\u001b[0;34m\u001b[0m\u001b[0m\n",
        "\u001b[0;32m/Users/dorislee/.virtualenvs/py27dev/lib/python2.7/site-packages/matplotlib/image.pyc\u001b[0m in \u001b[0;36mset_data\u001b[0;34m(self, A)\u001b[0m\n\u001b[1;32m    423\u001b[0m         if (self._A.dtype != np.uint8 and\n\u001b[1;32m    424\u001b[0m             not np.can_cast(self._A.dtype, np.float)):\n\u001b[0;32m--> 425\u001b[0;31m             \u001b[0;32mraise\u001b[0m \u001b[0mTypeError\u001b[0m\u001b[0;34m(\u001b[0m\u001b[0;34m\"Image data can not convert to float\"\u001b[0m\u001b[0;34m)\u001b[0m\u001b[0;34m\u001b[0m\u001b[0m\n\u001b[0m\u001b[1;32m    426\u001b[0m \u001b[0;34m\u001b[0m\u001b[0m\n\u001b[1;32m    427\u001b[0m         if (self._A.ndim not in (2, 3) or\n",
        "\u001b[0;31mTypeError\u001b[0m: Image data can not convert to float"
       ]
      },
      {
       "metadata": {},
       "output_type": "display_data",
       "png": "[encoded data removed]",
       "text": [
        "<matplotlib.figure.Figure at 0x118c0cdd0>"
       ]
      }
     ],
     "prompt_number": 605
    },
    {
     "cell_type": "code",
     "collapsed": false,
     "input": [
      "profile = set(profile.flatten())"
     ],
     "language": "python",
     "metadata": {},
     "outputs": [
      {
       "ename": "AttributeError",
       "evalue": "'set' object has no attribute 'flatten'",
       "output_type": "pyerr",
       "traceback": [
        "\u001b[0;31m---------------------------------------------------------------------------\u001b[0m\n\u001b[0;31mAttributeError\u001b[0m                            Traceback (most recent call last)",
        "\u001b[0;32m<ipython-input-606-ab228cab4c99>\u001b[0m in \u001b[0;36m<module>\u001b[0;34m()\u001b[0m\n\u001b[0;32m----> 1\u001b[0;31m \u001b[0mprofile\u001b[0m \u001b[0;34m=\u001b[0m \u001b[0mset\u001b[0m\u001b[0;34m(\u001b[0m\u001b[0mprofile\u001b[0m\u001b[0;34m.\u001b[0m\u001b[0mflatten\u001b[0m\u001b[0;34m(\u001b[0m\u001b[0;34m)\u001b[0m\u001b[0;34m)\u001b[0m\u001b[0;34m\u001b[0m\u001b[0m\n\u001b[0m",
        "\u001b[0;31mAttributeError\u001b[0m: 'set' object has no attribute 'flatten'"
       ]
      }
     ],
     "prompt_number": 606
    },
    {
     "cell_type": "code",
     "collapsed": false,
     "input": [
      "len(list(profile))"
     ],
     "language": "python",
     "metadata": {},
     "outputs": [
      {
       "metadata": {},
       "output_type": "pyout",
       "prompt_number": 530,
       "text": [
        "1275"
       ]
      }
     ],
     "prompt_number": 530
    },
    {
     "cell_type": "code",
     "collapsed": false,
     "input": [
      "plot(sort(list(profile))[:14],'o') #truncate outlier\n",
      "# plot (list(sort(profile)),'o')"
     ],
     "language": "python",
     "metadata": {},
     "outputs": [
      {
       "metadata": {},
       "output_type": "pyout",
       "prompt_number": 441,
       "text": [
        "[<matplotlib.lines.Line2D at 0x117781250>]"
       ]
      },
      {
       "metadata": {},
       "output_type": "display_data",
       "png": "[encoded data removed]",
       "text": [
        "<matplotlib.figure.Figure at 0x1176c8d10>"
       ]
      }
     ],
     "prompt_number": 441
    },
    {
     "cell_type": "markdown",
     "metadata": {},
     "source": [
      "Pick 100 random points to populate the profile assuming a galaxy of r $\\epsilon$ [0,R] where R=5"
     ]
    },
    {
     "cell_type": "code",
     "collapsed": false,
     "input": [
      "plen = len(p)\n",
      "gaussNoise = np.random.normal(0, 1, plen)"
     ],
     "language": "python",
     "metadata": {},
     "outputs": [],
     "prompt_number": 408
    },
    {
     "cell_type": "heading",
     "level": 4,
     "metadata": {},
     "source": [
      "Verifying that the noise is actually sampled from a Gaussian "
     ]
    },
    {
     "cell_type": "code",
     "collapsed": false,
     "input": [
      "count, bins, ignored = plt.hist(gaussNoise, 25, normed=True)\n",
      "sigma=1\n",
      "mu=0\n",
      "plt.plot(bins, 1/(sigma * np.sqrt(2 * np.pi)) *np.exp( - (bins - mu)**2 / (2 * sigma**2) ),linewidth=2, color='r')"
     ],
     "language": "python",
     "metadata": {},
     "outputs": [
      {
       "metadata": {},
       "output_type": "pyout",
       "prompt_number": 409,
       "text": [
        "[<matplotlib.lines.Line2D at 0x1172b4390>]"
       ]
      },
      {
       "metadata": {},
       "output_type": "display_data",
       "png": "[encoded data removed]",
       "text": [
        "<matplotlib.figure.Figure at 0x1172b4410>"
       ]
      }
     ],
     "prompt_number": 409
    },
    {
     "cell_type": "heading",
     "level": 4,
     "metadata": {},
     "source": [
      "Adding noise to profile to create model data and scaling up the noise by a factor so that its effect is present."
     ]
    },
    {
     "cell_type": "code",
     "collapsed": false,
     "input": [
      "modelData = p+gaussNoise\n",
      "plot(r,modelData,'o')\n",
      "# # plotting the old profile shows the deviation due to the added noise\n",
      "plot(r,p,'r-')"
     ],
     "language": "python",
     "metadata": {},
     "outputs": []
    },
    {
     "cell_type": "code",
     "collapsed": false,
     "input": [
      "# from scipy.optimize import curve_fit\n",
      "# # plot(r,p,'o')\n",
      "# def deVauc (r,Ie,Re):\n",
      "#     return Ie*e**(-7.669*(((r/Re)**.25)-1))\n",
      "# fitpars, covmat = curve_fit(deVauc,r,p)\n",
      "# plot(r, deVauc(r, fitpars[0], fitpars[1]))\n",
      "# fitpars[1]"
     ],
     "language": "python",
     "metadata": {},
     "outputs": []
    },
    {
     "cell_type": "markdown",
     "metadata": {},
     "source": [
      "Minimize the natural-log of the likelihood function and using a linear model where the y-intercept =0\n",
      "$$ A = \\frac{\\overline{PF}}{\\overline{P^2}}$$\n",
      "After setting 1st derivative with respect to A =0, we get\n",
      "$$A=\\frac{\\frac{1}{n}\\Sigma_{i=0}^N P_i f_i}{\\frac{1}{n}\\Sigma_{i=0}^NP_i^2} = \\frac{\\Sigma_{i=0}^N P_i f_i}{\\Sigma_{i=0}^NP_i^2} $$\n",
      "where x:de Vauc model(Pij) , y: data (fij)"
     ]
    },
    {
     "cell_type": "markdown",
     "metadata": {},
     "source": [
      "Plugging the De Vauc Profile,one of the  I_e cancel out : \n",
      "$$A=\\frac{\\Sigma_{i=1}^N exp[-7.669(R/R_e)^{1/4}-1] f_i}{I_e\\Sigma_{i=1}^N [exp[-7.669(R/R_e)^{1/4}-1]]^2}$$"
     ]
    },
    {
     "cell_type": "markdown",
     "metadata": {},
     "source": [
      "Uncertainty on fitting parameter A (denoted by b)\n",
      "$$\\sigma_b^2 = \\frac{S}{\\triangle}=\\frac{\\Sigma_{i=1}^N \\frac{1}{\\sigma_i^2}}{\\Sigma_{i=1}^N \\frac{1}{\\sigma_i^2}\\Sigma_{i=1}^N \\frac{P_i^2}{\\sigma_i^2}-\\Sigma_{i=1}^N [\\frac{P_i}{\\sigma_i^2}]^2}$$"
     ]
    },
    {
     "cell_type": "code",
     "collapsed": false,
     "input": [
      "def minimizelnMLE(r,flux,profile,noise):\n",
      "    # Estimate value of parameter A\n",
      "    numerator = (sum(deVauc(r)*modelData))\n",
      "    denominator =(sum(deVauc(r))**2)\n",
      "    A =numerator/denominator\n",
      "    #Find error on estimated parameter \n",
      "    numerator = 1/sum(gaussNoise)\n",
      "    denominator = (sum(1/gaussNoise**2)*sum((deVauc(r)**2)/gaussNoise**2))-(sum((deVauc(r)/gaussNoise**2)**2))\n",
      "    errA = numerator/denominator\n",
      "    return (A , errA)"
     ],
     "language": "python",
     "metadata": {},
     "outputs": []
    },
    {
     "cell_type": "code",
     "collapsed": false,
     "input": [
      "minimizelnMLE(r,modelData,p,gaussNoise)"
     ],
     "language": "python",
     "metadata": {},
     "outputs": []
    },
    {
     "cell_type": "heading",
     "level": 4,
     "metadata": {},
     "source": [
      "Monte Carlo: 1000 iterations of this procedure, get A "
     ]
    },
    {
     "cell_type": "code",
     "collapsed": false,
     "input": [
      "Alist=[]\n",
      "Aerrlist=[]\n",
      "def modelFitting():\n",
      "    r = sort(np.array([ random.random()*6 for i in arange(100) ]))\n",
      "    profile = array([ deVauc(r_i) for r_i in r ])\n",
      "    plen=len(profile)\n",
      "    gaussNoise = np.random.normal(0, 0.1, plen)\n",
      "    modelData = p+gaussNoise\n",
      "    A=minimizelnMLE(r,modelData,profile,gaussNoise)\n",
      "    Alist.append(A[0])\n",
      "    Aerrlist.append(A[1])"
     ],
     "language": "python",
     "metadata": {},
     "outputs": []
    },
    {
     "cell_type": "code",
     "collapsed": false,
     "input": [
      "# modelFitting()\n",
      "# print(Alist)\n",
      "# print (Aerrlist)"
     ],
     "language": "python",
     "metadata": {},
     "outputs": []
    },
    {
     "cell_type": "code",
     "collapsed": false,
     "input": [
      "#Monte Carlo on this 100 times\n",
      "for i in arange(100):\n",
      "    modelFitting()"
     ],
     "language": "python",
     "metadata": {},
     "outputs": []
    },
    {
     "cell_type": "code",
     "collapsed": false,
     "input": [
      "print(Alist)\n",
      "# print(Aerrlist)"
     ],
     "language": "python",
     "metadata": {},
     "outputs": []
    },
    {
     "cell_type": "code",
     "collapsed": false,
     "input": [
      "# Aerrlist"
     ],
     "language": "python",
     "metadata": {},
     "outputs": []
    },
    {
     "cell_type": "code",
     "collapsed": false,
     "input": [
      "# plot(Alist,'o')"
     ],
     "language": "python",
     "metadata": {},
     "outputs": []
    },
    {
     "cell_type": "heading",
     "level": 4,
     "metadata": {},
     "source": [
      "~~Plot Histogram of value of A. Fit a Gaussian to get variance parameter~~"
     ]
    },
    {
     "cell_type": "code",
     "collapsed": false,
     "input": [
      "# import numpy\n",
      "# from scipy.optimize import curve_fit\n",
      "# import matplotlib.pyplot as plt\n",
      "\n",
      "# data = Alist\n",
      "# hist, bin_edges = numpy.histogram(Alist, 25,density=True)\n",
      "# bin_centres = (bin_edges[:-1] + bin_edges[1:])/2\n",
      "\n",
      "# def gauss(x, *p):\n",
      "#     A, mu, sigma = p\n",
      "#     return A*numpy.exp(-(x-mu)**2/(2.*sigma**2))\n",
      "\n",
      "# # p0 is the initial guess for the fitting coefficients (A, mu and sigma above)\n",
      "# p0 = [1., 0., 1.]\n",
      "\n",
      "# coeff, var_matrix = curve_fit(gauss, bin_centres, hist, p0=p0)\n",
      "\n",
      "# # fitted curve\n",
      "# hist_fit = gauss(bin_centres, *coeff)\n",
      "# print 'Fitted mean = ', coeff[1]\n",
      "# print 'Fitted sigma = ', coeff[2]\n",
      "# count, bins, ignored = plt.hist(Alist, 25, normed=True)\n",
      "# # Eyeball-estimate of mu and sigma for fit\n",
      "# # sigma=0.05\n",
      "# # mu=0.1\n",
      "# # plt.plot(bins, 1/(sigma * np.sqrt(2 * np.pi)) *np.exp( - (bins - mu)**2 / (2 * sigma**2) ),linewidth=2, color='r')\n",
      "# plt.plot(bin_centres, hist_fit,color='red')\n",
      "# plt.plot(bin_centres, hist_fit,color='red')"
     ],
     "language": "python",
     "metadata": {},
     "outputs": []
    },
    {
     "cell_type": "heading",
     "level": 4,
     "metadata": {},
     "source": [
      "Calculating the Variance (standard dev) and mean directly "
     ]
    },
    {
     "cell_type": "code",
     "collapsed": false,
     "input": [
      "Abar = mean(Alist)\n",
      "Asig = std(Alist)\n",
      "print(Abar)\n",
      "print (Asig)"
     ],
     "language": "python",
     "metadata": {},
     "outputs": []
    },
    {
     "cell_type": "code",
     "collapsed": false,
     "input": [
      "# count, bins, ignored = plt.hist(Alist, 30, normed=True)\n",
      "# # Eyeball-estimate of mu and sigma for fit\n",
      "# # sigma=0.05\n",
      "# # mu=0.1\n",
      "# # plt.plot(bins, 1/(sigma * np.sqrt(2 * np.pi)) *np.exp( - (bins - mu)**2 / (2 * sigma**2) ),linewidth=2, color='r')\n",
      "# plt.plot(bin_centres, hist_fit,color='red')"
     ],
     "language": "python",
     "metadata": {},
     "outputs": []
    },
    {
     "cell_type": "code",
     "collapsed": false,
     "input": [
      "# from scipy.optimize import curve_fit\n",
      "# # plot(r,p,'o')\n",
      "# def gauss (x,mu,sigma):\n",
      "#     return 1/(sigma * np.sqrt(2 * np.pi)) *np.exp( - (x- mu)**2 / (2 * sigma**2) )\n",
      "# fitpars, covmat = curve_fit(gauss,np.linspace(0,0.3,100),Alist)\n",
      "# plot(r, gauss(r, fitpars[0], fitpars[1]))\n",
      "# fitpars[1]"
     ],
     "language": "python",
     "metadata": {},
     "outputs": []
    },
    {
     "cell_type": "code",
     "collapsed": false,
     "input": [
      "# plot(r, gauss(r, fitpars[0], fitpars[1]))"
     ],
     "language": "python",
     "metadata": {},
     "outputs": []
    },
    {
     "cell_type": "heading",
     "level": 4,
     "metadata": {},
     "source": [
      "Verify this result with the error A."
     ]
    },
    {
     "cell_type": "markdown",
     "metadata": {},
     "source": [
      "$$\\sigma_b^2 = \\frac{S}{\\triangle}$$\n",
      "After factoring out and eliminating the common factor $\\Sigma \\frac{1}{\\sigma_i^2}$,\n",
      "$$\\sigma_b^2 = \\frac{\\Sigma\\frac{1}{\\sigma_i^2}}{\\Sigma\\frac{x_i^2}{\\sigma_i^2}-\\Sigma\\frac{x_i}{\\sigma_i^2}}$$"
     ]
    },
    {
     "cell_type": "code",
     "collapsed": false,
     "input": [
      "# AsigmaSqred_predicted = 1/(sum(p**2/gaussNoise**2)-sum(p/gaussNoise**2))\n",
      "AsigmaSqred_predicted = (sum(1/gaussNoise**2))/(sum(deVauc(r)**2/gaussNoise**2)-sum(deVauc(r)/gaussNoise**2))"
     ],
     "language": "python",
     "metadata": {},
     "outputs": []
    },
    {
     "cell_type": "code",
     "collapsed": false,
     "input": [
      "AsigmaSqred_predicted"
     ],
     "language": "python",
     "metadata": {},
     "outputs": []
    },
    {
     "cell_type": "heading",
     "level": 5,
     "metadata": {},
     "source": [
      "Given this value of A, this should be the best fitting parameter for the linear model = $AP_i$ where $P_i$ = de Vauc(r)"
     ]
    },
    {
     "cell_type": "code",
     "collapsed": false,
     "input": [
      "def deVauc2 (r,Ie):\n",
      "    Re=1\n",
      "    return Ie*e**(-7.669*(((r/Re)**.25)-1))"
     ],
     "language": "python",
     "metadata": {},
     "outputs": []
    },
    {
     "cell_type": "code",
     "collapsed": false,
     "input": [
      "#Focus on looking at behaviour at small radius since the de Vauc profile flux decay as distance rapidly\n",
      "r = sort(np.array([ random.random()*0.2 for i in arange(100) ]))\n",
      "profile = array([ deVauc(r_i) for r_i in r ])\n",
      "plen=len(profile)\n",
      "gaussNoise = np.random.normal(0, 15, plen)\n",
      "modelData = profile+gaussNoise\n",
      "model = array([ deVauc2(r_i,Abar) for r_i in r ])\n",
      "plot(r,modelData,'o')\n",
      "# model = np.array(profile)*Abar\n",
      "plot (r, model,'r-')"
     ],
     "language": "python",
     "metadata": {},
     "outputs": []
    },
    {
     "cell_type": "code",
     "collapsed": false,
     "input": [
      "#Focus on looking at behaviour at small radius since the de Vauc profile flux decay as distance rapidly\n",
      "r = sort(np.array([ random.random()*0.2 for i in arange(100) ]))\n",
      "profile = array([ deVauc(r_i) for r_i in r ])\n",
      "plen=len(profile)\n",
      "gaussNoise = np.random.normal(0, 15, plen)\n",
      "modelData = profile+gaussNoise\n",
      "model = array([ deVauc2(r_i,Abar*10) for r_i in r ])\n",
      "plot(r,modelData,'o')\n",
      "# model = np.array(profile)*Abar\n",
      "plot (r, model,'r-')"
     ],
     "language": "python",
     "metadata": {},
     "outputs": []
    },
    {
     "cell_type": "code",
     "collapsed": false,
     "input": [
      "# # plotting the old profile shows the deviation due to the added noise\n",
      "\n",
      "# print(p)\n",
      "# print(model)\n",
      "# plot(r,model,'r-')\n"
     ],
     "language": "python",
     "metadata": {},
     "outputs": []
    },
    {
     "cell_type": "markdown",
     "metadata": {},
     "source": [
      "It seems like its off by a factor of 10. Not too sure why. "
     ]
    },
    {
     "cell_type": "heading",
     "level": 4,
     "metadata": {},
     "source": [
      "Using Scipy's built in non-linear least squares "
     ]
    },
    {
     "cell_type": "code",
     "collapsed": false,
     "input": [
      "# import lmfit"
     ],
     "language": "python",
     "metadata": {},
     "outputs": []
    },
    {
     "cell_type": "code",
     "collapsed": false,
     "input": [
      "from scipy.optimize import curve_fit"
     ],
     "language": "python",
     "metadata": {},
     "outputs": []
    },
    {
     "cell_type": "code",
     "collapsed": false,
     "input": [
      "scipy.optimize.curve_fit"
     ],
     "language": "python",
     "metadata": {},
     "outputs": []
    },
    {
     "cell_type": "code",
     "collapsed": false,
     "input": [
      "from scipy.optimize import curve_fit\n",
      "# plot(r,p,'o')\n",
      "fitpars, covmat = curve_fit(deVauc2,r,modelData)\n",
      "plot(r, deVauc2(r, fitpars[0]))\n",
      "plot(r,modelData,'o')\n",
      "fitpars"
     ],
     "language": "python",
     "metadata": {},
     "outputs": []
    },
    {
     "cell_type": "markdown",
     "metadata": {},
     "source": [
      "This makes sense that when I'm using the model this value should be close to 1. Since I used I_e as 1 to generate this data.\n",
      "So if I used I_e =4 to generate the data then this would obviously yield something close to 3. "
     ]
    },
    {
     "cell_type": "code",
     "collapsed": false,
     "input": [
      "def deVauc3 (r):\n",
      "    Ie=3\n",
      "    Re=1\n",
      "    return Ie*e**(-7.669*(((r/Re)**.25)-1))"
     ],
     "language": "python",
     "metadata": {},
     "outputs": []
    },
    {
     "cell_type": "code",
     "collapsed": false,
     "input": [
      "r = sort(np.array([ random.random()*0.2 for i in arange(100) ]))\n",
      "profile = array([ deVauc3(r_i) for r_i in r ])\n",
      "plen=len(profile)\n",
      "gaussNoise = np.random.normal(0, 15, plen)\n",
      "modelData = profile+gaussNoise\n",
      "# model = np.array(profile)*Abar\n",
      "from scipy.optimize import curve_fit\n",
      "# plot(r,p,'o')\n",
      "fitpars, covmat = curve_fit(deVauc2,r,modelData)\n",
      "plot(r, deVauc2(r, fitpars[0]))\n",
      "plot(r,modelData,'o')\n",
      "print(fitpars)\n",
      "print (covmat)"
     ],
     "language": "python",
     "metadata": {},
     "outputs": []
    },
    {
     "cell_type": "markdown",
     "metadata": {},
     "source": [
      "But I think this is a bit weird in general because we are using the same set of data to fit the data and in the model and just adding random noise to it. So obviously this should only work if our linear model is equal to the original model with the coefficient as 1 . \n",
      "We need to use flux data from photo obj or its residual (error image) to test this. "
     ]
    }
   ],
   "metadata": {}
  }
 ]
}