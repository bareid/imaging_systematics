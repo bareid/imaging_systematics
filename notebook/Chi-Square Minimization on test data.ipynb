{
 "metadata": {
  "name": "",
  "signature": "sha256:79fe38368103ac3a59faec4f1dc8e4e44e836187c2ec478501c6aba521e3030f"
 },
 "nbformat": 3,
 "nbformat_minor": 0,
 "worksheets": [
  {
   "cells": [
    {
     "cell_type": "markdown",
     "metadata": {},
     "source": [
      "Didn't use scipy.stats.chisquare because it doesn't allow varying fitting parameters. \n",
      "Explicitly use the chisquare formula and maybe use lmfit to fit value of A when there is actual data or just plug in analytical formula. Then calculate uncertainity on A."
     ]
    },
    {
     "cell_type": "code",
     "collapsed": false,
     "input": [
      "%pylab\n",
      "%matplotlib inline\n",
      "import scipy "
     ],
     "language": "python",
     "metadata": {},
     "outputs": [
      {
       "output_type": "stream",
       "stream": "stdout",
       "text": [
        "Using matplotlib backend: MacOSX\n",
        "Populating the interactive namespace from numpy and matplotlib\n"
       ]
      }
     ],
     "prompt_number": 1
    },
    {
     "cell_type": "code",
     "collapsed": false,
     "input": [
      "#flux value (fij) of every pixel in image (get from PhotoObj later)\n",
      "#test data for now\n",
      "import random\n",
      "flux= array([ list(random.random()*10 for j in arange(4)) for i in arange(5) ])\n",
      "flux"
     ],
     "language": "python",
     "metadata": {},
     "outputs": [
      {
       "metadata": {},
       "output_type": "pyout",
       "prompt_number": 2,
       "text": [
        "array([[ 5.8944887 ,  8.08067467,  3.43645946,  8.89403896],\n",
        "       [ 3.27035988,  2.70256784,  0.06738374,  3.96454768],\n",
        "       [ 1.71663167,  9.36259688,  7.89305539,  3.17493981],\n",
        "       [ 9.87185648,  1.46603056,  5.53732327,  8.5579274 ],\n",
        "       [ 5.53175326,  4.20048735,  5.66627973,  7.05937614]])"
       ]
      }
     ],
     "prompt_number": 2
    },
    {
     "cell_type": "code",
     "collapsed": false,
     "input": [
      "# noise value (sigma_ij)of every pixel in image (get from PhotoObj later)\n",
      "#test data for now\n",
      "# noise should be smaller than our flux value\n",
      "noise= array([ list(random.random() for j in arange(4)) for i in arange(5) ])\n",
      "noise"
     ],
     "language": "python",
     "metadata": {},
     "outputs": [
      {
       "metadata": {},
       "output_type": "pyout",
       "prompt_number": 3,
       "text": [
        "array([[ 0.68880343,  0.53212524,  0.76925388,  0.01672503],\n",
        "       [ 0.46900282,  0.64194779,  0.8147839 ,  0.31828738],\n",
        "       [ 0.59355262,  0.23502854,  0.84314586,  0.75944939],\n",
        "       [ 0.20564984,  0.3094005 ,  0.58806598,  0.22937217],\n",
        "       [ 0.59319695,  0.29879827,  0.14858837,  0.5899894 ]])"
       ]
      }
     ],
     "prompt_number": 3
    },
    {
     "cell_type": "code",
     "collapsed": false,
     "input": [
      "# From PSF-convolved de Vauc profile,get from analytical soln\n",
      "##test data for now\n",
      "profile = array([ list(random.random()*10 for j in arange(4)) for i in arange(5) ])\n",
      "profile"
     ],
     "language": "python",
     "metadata": {},
     "outputs": [
      {
       "metadata": {},
       "output_type": "pyout",
       "prompt_number": 4,
       "text": [
        "array([[ 0.11717055,  8.341885  ,  9.36440022,  5.23089532],\n",
        "       [ 2.74219104,  2.49014451,  3.34589853,  7.46857447],\n",
        "       [ 6.25954946,  4.56312475,  9.14131695,  1.97762433],\n",
        "       [ 3.09729355,  7.35439777,  5.72708362,  5.95645849],\n",
        "       [ 0.49549292,  6.69622089,  6.90206179,  3.19548323]])"
       ]
      }
     ],
     "prompt_number": 4
    },
    {
     "cell_type": "markdown",
     "metadata": {},
     "source": [
      "Minimize $\\chi^2=\\frac{\\Sigma(f_{ij}-AP_{ij})^2}{\\sigma_{ij}^2}$\n",
      "\n",
      "After setting 1st derivative with respect to A =0, we get \n",
      "$$b=\\frac{SS_{xy}-S_xS_y}{\\triangle}$$\n",
      "where $S=\\Sigma_{i=0}^N\\frac{1}{\\sigma_i^2}$,$S_x=\\Sigma_{i=0}^N\\frac{x_i}{\\sigma_i^2}$,$S_y=\\Sigma_{i=0}^N\\frac{y_i}{\\sigma_i^2}$,$S_x=\\Sigma_{i=0}^N\\frac{x_i y_i}{\\sigma_i^2}$,$\\triangle = SS_{xx}-(S_x)^2$\n",
      "where x:de Vauc model(Pij) , y: data (fij)"
     ]
    },
    {
     "cell_type": "code",
     "collapsed": false,
     "input": [
      "s = 1/(sum(noise)**2)\n",
      "sx = sum(flux)*s\n",
      "sy = sum(profile)*s\n",
      "sxx=sum(profile**2)*s\n",
      "sxy=sum(flux*profile)*s\n",
      "triangle = s*sxx-(sx)**2"
     ],
     "language": "python",
     "metadata": {},
     "outputs": [],
     "prompt_number": 5
    },
    {
     "cell_type": "code",
     "collapsed": false,
     "input": [
      "print s\n",
      "print sx\n",
      "print triangle\n",
      "print sy\n",
      "print sx*sy\n",
      "print sxy\n",
      "# Note that Result of Product of sum differs from sum of product"
     ],
     "language": "python",
     "metadata": {},
     "outputs": [
      {
       "output_type": "stream",
       "stream": "stdout",
       "text": [
        "0.0107493069268\n",
        "1.14317566555\n",
        "-1.23200781303\n",
        "1.0799534931\n",
        "1.23457655324\n",
        "5.81340070881\n"
       ]
      }
     ],
     "prompt_number": 6
    },
    {
     "cell_type": "code",
     "collapsed": false,
     "input": [
      "b=(s*sxy-sx*sy)/(triangle)\n",
      "b"
     ],
     "language": "python",
     "metadata": {},
     "outputs": [
      {
       "metadata": {},
       "output_type": "pyout",
       "prompt_number": 7,
       "text": [
        "0.95136289911675498"
       ]
      }
     ],
     "prompt_number": 7
    },
    {
     "cell_type": "markdown",
     "metadata": {},
     "source": [
      "Uncertainty on fitting parameter A (denoted by b)\n",
      "$$\\sigma_b^2 = \\frac{S}{\\triangle}$$"
     ]
    },
    {
     "cell_type": "code",
     "collapsed": false,
     "input": [
      "errorA = sqrt(s/triangle)\n",
      "errorA\n",
      "#This issue will probably be resolved when we use real imaging data(?)"
     ],
     "language": "python",
     "metadata": {},
     "outputs": [
      {
       "output_type": "stream",
       "stream": "stderr",
       "text": [
        "-c:1: RuntimeWarning: invalid value encountered in sqrt\n"
       ]
      },
      {
       "metadata": {},
       "output_type": "pyout",
       "prompt_number": 8,
       "text": [
        "nan"
       ]
      }
     ],
     "prompt_number": 8
    },
    {
     "cell_type": "markdown",
     "metadata": {},
     "source": [
      "- Ie: surface brightness at Re\n",
      "- Re: the radius of the isophote containing half the luminosity \n",
      "- What values to put of Ie and Re(?)"
     ]
    },
    {
     "cell_type": "markdown",
     "metadata": {},
     "source": [
      "This function should be switched to the deVauc convolved with PSF function \n",
      "once we get the analytical soln\n",
      "http://articles.adsabs.harvard.edu/cgi-bin/nph-iarticle_query?2001MNRAS.321..269T&amp;data_type=PDF_HIGH&amp;whole_paper=YES&amp;type=PRINTER&amp;filetype=.pdf\n"
     ]
    },
    {
     "cell_type": "code",
     "collapsed": false,
     "input": [
      "def deVauc (r):\n",
      "    Ie=1\n",
      "    Re=1\n",
      "    return Ie*e**(-7.669*((r/Re)**.25-1))"
     ],
     "language": "python",
     "metadata": {},
     "outputs": [],
     "prompt_number": 9
    },
    {
     "cell_type": "code",
     "collapsed": false,
     "input": [
      "profile = array([ deVauc(r) for r in arange(0,0.02,0.0006) ])\n",
      "# profile\n",
      "plen=len(profile)"
     ],
     "language": "python",
     "metadata": {},
     "outputs": [],
     "prompt_number": 10
    },
    {
     "cell_type": "code",
     "collapsed": false,
     "input": [
      "plt.plot(arange(0,0.02,0.0006),profile,'o')"
     ],
     "language": "python",
     "metadata": {},
     "outputs": [
      {
       "metadata": {},
       "output_type": "pyout",
       "prompt_number": 11,
       "text": [
        "[<matplotlib.lines.Line2D at 0x10d368b10>]"
       ]
      },
      {
       "metadata": {},
       "output_type": "display_data",
       "png": "[encoded data removed]",
       "text": [
        "<matplotlib.figure.Figure at 0x10d2acfd0>"
       ]
      }
     ],
     "prompt_number": 11
    },
    {
     "cell_type": "code",
     "collapsed": false,
     "input": [
      "# gaussNoise = np.random.normal(0,0.1,len(profile))\n",
      "# import random\n",
      "# gaussNoise=[random.gauss(0,0.1) for i in arange(len(profile))]\n",
      "gaussNoise = np.random.normal(0, 0.1, plen)\n",
      "# gaussNoise"
     ],
     "language": "python",
     "metadata": {},
     "outputs": [],
     "prompt_number": 12
    },
    {
     "cell_type": "code",
     "collapsed": false,
     "input": [
      "#Verify that noise is gaussian\n",
      "plot(arange(plen),gaussNoise,'o')"
     ],
     "language": "python",
     "metadata": {},
     "outputs": [
      {
       "metadata": {},
       "output_type": "pyout",
       "prompt_number": 13,
       "text": [
        "[<matplotlib.lines.Line2D at 0x10d40d550>]"
       ]
      },
      {
       "metadata": {},
       "output_type": "display_data",
       "png": "[encoded data removed]",
       "text": [
        "<matplotlib.figure.Figure at 0x10d2c5ed0>"
       ]
      }
     ],
     "prompt_number": 13
    },
    {
     "cell_type": "heading",
     "level": 4,
     "metadata": {},
     "source": [
      "Verifying that the noise is actually sampled from a Gaussian "
     ]
    },
    {
     "cell_type": "code",
     "collapsed": false,
     "input": [
      "count, bins, ignored = plt.hist(gaussNoise, 30, normed=True)\n",
      "sigma=0.1\n",
      "mu=0\n",
      "plt.plot(bins, 1/(sigma * np.sqrt(2 * np.pi)) *np.exp( - (bins - mu)**2 / (2 * sigma**2) ),linewidth=2, color='r')"
     ],
     "language": "python",
     "metadata": {},
     "outputs": [
      {
       "metadata": {},
       "output_type": "pyout",
       "prompt_number": 14,
       "text": [
        "[<matplotlib.lines.Line2D at 0x10d417150>]"
       ]
      },
      {
       "metadata": {},
       "output_type": "display_data",
       "png": "[encoded data removed]",
       "text": [
        "<matplotlib.figure.Figure at 0x10d417290>"
       ]
      }
     ],
     "prompt_number": 14
    },
    {
     "cell_type": "heading",
     "level": 4,
     "metadata": {},
     "source": [
      "Adding noise to profile to create model data and scaling up the noise by a factor so that its effect is present."
     ]
    },
    {
     "cell_type": "code",
     "collapsed": false,
     "input": [
      "modelData = profile+gaussNoise*500\n",
      "plot(modelData,'o')\n",
      "# plotting the old profile shows the deviation due to the added noise\n",
      "plot(profile)"
     ],
     "language": "python",
     "metadata": {},
     "outputs": [
      {
       "metadata": {},
       "output_type": "pyout",
       "prompt_number": 15,
       "text": [
        "[<matplotlib.lines.Line2D at 0x10d420150>]"
       ]
      },
      {
       "metadata": {},
       "output_type": "display_data",
       "png": "[encoded data removed]",
       "text": [
        "<matplotlib.figure.Figure at 0x10d420110>"
       ]
      }
     ],
     "prompt_number": 15
    },
    {
     "cell_type": "code",
     "collapsed": false,
     "input": [
      "# def chiSqMinimize(data,model,noise):\n",
      "def chiSqMinimize(flux,profile,noise):\n",
      "    s = 1/(sum(noise)**2)\n",
      "    sx = sum(flux)*s\n",
      "    sy = sum(profile)*s\n",
      "    sxx=sum(profile**2)*s\n",
      "    sxy=sum(flux*profile)*s\n",
      "    triangle = s*sxx-(sx)**2\n",
      "    b=(s*sxy-sx*sy)/(triangle)\n",
      "    errb = sqrt(s/triangle)\n",
      "    return (b,errb)"
     ],
     "language": "python",
     "metadata": {},
     "outputs": [],
     "prompt_number": 16
    },
    {
     "cell_type": "code",
     "collapsed": false,
     "input": [
      "chiSqMinimize(modelData,profile,gaussNoise)"
     ],
     "language": "python",
     "metadata": {},
     "outputs": [
      {
       "output_type": "stream",
       "stream": "stderr",
       "text": [
        "-c:10: RuntimeWarning: invalid value encountered in sqrt\n"
       ]
      },
      {
       "metadata": {},
       "output_type": "pyout",
       "prompt_number": 17,
       "text": [
        "(1.0818889646165775, nan)"
       ]
      }
     ],
     "prompt_number": 17
    },
    {
     "cell_type": "heading",
     "level": 4,
     "metadata": {},
     "source": [
      "Monte Carlo: many iterations of this procedure, get A "
     ]
    },
    {
     "cell_type": "code",
     "collapsed": false,
     "input": [
      "Alist=[]\n",
      "Aerrlist=[]\n",
      "def modelFitting():\n",
      "    profile = array([ deVauc(r) for r in arange(0,0.02,0.0006) ])\n",
      "    plen=len(profile)\n",
      "    gaussNoise = np.random.normal(0, 0.1, plen)\n",
      "    modelData = profile+gaussNoise*500\n",
      "    A=chiSqMinimize(modelData,profile,gaussNoise)\n",
      "    Alist.append(A[0])\n",
      "    Aerrlist.append(A[1])"
     ],
     "language": "python",
     "metadata": {},
     "outputs": [],
     "prompt_number": 18
    },
    {
     "cell_type": "code",
     "collapsed": false,
     "input": [
      "#Monte Carlo on this 100 times\n",
      "for i in arange(100):\n",
      "    modelFitting()"
     ],
     "language": "python",
     "metadata": {},
     "outputs": [],
     "prompt_number": 19
    },
    {
     "cell_type": "code",
     "collapsed": false,
     "input": [
      "# Alist"
     ],
     "language": "python",
     "metadata": {},
     "outputs": [],
     "prompt_number": 20
    },
    {
     "cell_type": "code",
     "collapsed": false,
     "input": [
      "# Aerrlist"
     ],
     "language": "python",
     "metadata": {},
     "outputs": [],
     "prompt_number": 21
    },
    {
     "cell_type": "code",
     "collapsed": false,
     "input": [
      "# plot(Alist,'o')"
     ],
     "language": "python",
     "metadata": {},
     "outputs": [],
     "prompt_number": 22
    },
    {
     "cell_type": "heading",
     "level": 4,
     "metadata": {},
     "source": [
      "Plot Histogram."
     ]
    },
    {
     "cell_type": "code",
     "collapsed": false,
     "input": [
      "count, bins, ignored = plt.hist(Alist, 30, normed=True)\n",
      "# Eyeball-estimate of mu and sigma for fit\n",
      "sigma=0.02\n",
      "mu=1\n",
      "plt.plot(bins, 1/(sigma * np.sqrt(2 * np.pi)) *np.exp( - (bins - mu)**2 / (2 * sigma**2) ),linewidth=2, color='r')"
     ],
     "language": "python",
     "metadata": {},
     "outputs": [
      {
       "metadata": {},
       "output_type": "pyout",
       "prompt_number": 23,
       "text": [
        "[<matplotlib.lines.Line2D at 0x10d422690>]"
       ]
      },
      {
       "metadata": {},
       "output_type": "display_data",
       "png": "[encoded data removed]",
       "text": [
        "<matplotlib.figure.Figure at 0x109bc4250>"
       ]
      }
     ],
     "prompt_number": 23
    },
    {
     "cell_type": "heading",
     "level": 4,
     "metadata": {},
     "source": [
      "Verify this result with the error A."
     ]
    },
    {
     "cell_type": "markdown",
     "metadata": {},
     "source": [
      "$$\\sigma_b^2 = \\frac{S}{\\triangle}$$\n",
      "After factoring out and eliminating the common factor $\\Sigma \\frac{1}{\\sigma_i^2}$,\n",
      "$$\\sigma_b^2 = \\frac{1}{\\Sigma\\frac{x_i^2}{\\sigma_i^2}-\\Sigma\\frac{x_i}{\\sigma_i^2}}$$"
     ]
    },
    {
     "cell_type": "code",
     "collapsed": false,
     "input": [
      "AsigmaSqred_predicted = 1/(sum(profile**2/gaussNoise**2)-sum(profile/gaussNoise**2))"
     ],
     "language": "python",
     "metadata": {},
     "outputs": [],
     "prompt_number": 24
    },
    {
     "cell_type": "code",
     "collapsed": false,
     "input": [
      "AsigmaSqred_predicted"
     ],
     "language": "python",
     "metadata": {},
     "outputs": [
      {
       "metadata": {},
       "output_type": "pyout",
       "prompt_number": 25,
       "text": [
        "2.978716496980834e-10"
       ]
      }
     ],
     "prompt_number": 25
    },
    {
     "cell_type": "code",
     "collapsed": false,
     "input": [],
     "language": "python",
     "metadata": {},
     "outputs": [],
     "prompt_number": 25
    }
   ],
   "metadata": {}
  }
 ]
}