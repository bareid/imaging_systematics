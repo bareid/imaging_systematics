{
 "metadata": {
  "name": "",
  "signature": "sha256:abff6d6d712e720f17d1e28607cf1fcc2ff8738c157d17df48fd8d838fd00f8b"
 },
 "nbformat": 3,
 "nbformat_minor": 0,
 "worksheets": [
  {
   "cells": [
    {
     "cell_type": "code",
     "collapsed": false,
     "input": [
      "%pylab\n",
      "%matplotlib inline\n",
      "import numpy as np \n",
      "import scipy "
     ],
     "language": "python",
     "metadata": {},
     "outputs": [
      {
       "output_type": "stream",
       "stream": "stdout",
       "text": [
        "Using matplotlib backend: MacOSX\n",
        "Populating the interactive namespace from numpy and matplotlib\n"
       ]
      }
     ],
     "prompt_number": 1
    },
    {
     "cell_type": "markdown",
     "metadata": {},
     "source": [
      "The analytical solution in (Trujillo et.al 2001 eq 6) only works along the major axis where $\\theta$ = 0  (elliptical coord), so I am just using the non PSF convolved de Vauc profile for now.\n",
      "$$P(R)= I(R)=I_e * exp[-7.669(R/R_e)^{1/4}-1]$$"
     ]
    },
    {
     "cell_type": "markdown",
     "metadata": {},
     "source": [
      "Pick 100 random points to populate the profile assuming a galaxy of r $\\epsilon$ [0,R] where R=5"
     ]
    },
    {
     "cell_type": "code",
     "collapsed": false,
     "input": [
      "#flux value (fij) of every pixel in image (get from PhotoObj later)\n",
      "import random\n",
      "r= sort(np.array([ random.random()*5 for i in arange(100) ]))"
     ],
     "language": "python",
     "metadata": {},
     "outputs": [],
     "prompt_number": 71
    },
    {
     "cell_type": "markdown",
     "metadata": {},
     "source": [
      "- Ie: surface brightness at Re\n",
      "- Re: the radius of the isophote containing half the luminosity \n",
      "- What values to put of Ie and Re(?)"
     ]
    },
    {
     "cell_type": "code",
     "collapsed": false,
     "input": [
      "def deVauc (r):\n",
      "    Ie=1\n",
      "    Re=1\n",
      "    return Ie*e**(-7.669*(((r/Re)**.25)-1))"
     ],
     "language": "python",
     "metadata": {},
     "outputs": [],
     "prompt_number": 3
    },
    {
     "cell_type": "code",
     "collapsed": false,
     "input": [
      "# Feed into de Vauc profile \n",
      "# Not sure about I_e, R_e\n",
      "i_e=1\n",
      "r_e=1\n",
      "p = [deVauc(r_i) for r_i in r ]"
     ],
     "language": "python",
     "metadata": {},
     "outputs": [],
     "prompt_number": 4
    },
    {
     "cell_type": "code",
     "collapsed": false,
     "input": [
      "plot (r,p,'o')"
     ],
     "language": "python",
     "metadata": {},
     "outputs": [
      {
       "metadata": {},
       "output_type": "pyout",
       "prompt_number": 5,
       "text": [
        "[<matplotlib.lines.Line2D at 0x106e92e50>]"
       ]
      },
      {
       "metadata": {},
       "output_type": "display_data",
       "png": "[encoded data removed]",
       "text": [
        "<matplotlib.figure.Figure at 0x1036f56d0>"
       ]
      }
     ],
     "prompt_number": 5
    },
    {
     "cell_type": "code",
     "collapsed": false,
     "input": [
      "# r = np.arange(0, 3.0, 0.01)\n",
      "import random\n",
      "r= sort(np.array([ random.random()*5 for i in arange(100) ]))\n",
      "len(r)\n",
      "theta = [t for t in linspace(0,2*pi,100)]\n",
      "len(theta)\n",
      "# theta = 2 * np.pi * r\n",
      "ax = plt.subplot(111, polar=True)\n",
      "ax.plot(theta, r, 'o',color='r', linewidth=3)\n",
      "ax.set_rmax(2.0)\n",
      "ax.grid(True)"
     ],
     "language": "python",
     "metadata": {},
     "outputs": [
      {
       "metadata": {},
       "output_type": "display_data",
       "png": "[encoded data removed]",
       "text": [
        "<matplotlib.figure.Figure at 0x10962c590>"
       ]
      }
     ],
     "prompt_number": 89
    },
    {
     "cell_type": "code",
     "collapsed": false,
     "input": [
      "plen = len(p)\n",
      "gaussNoise = np.random.normal(0, 1, plen)"
     ],
     "language": "python",
     "metadata": {},
     "outputs": [],
     "prompt_number": 6
    },
    {
     "cell_type": "heading",
     "level": 4,
     "metadata": {},
     "source": [
      "Verifying that the noise is actually sampled from a Gaussian "
     ]
    },
    {
     "cell_type": "code",
     "collapsed": false,
     "input": [
      "count, bins, ignored = plt.hist(gaussNoise, 25, normed=True)\n",
      "sigma=1\n",
      "mu=0\n",
      "plt.plot(bins, 1/(sigma * np.sqrt(2 * np.pi)) *np.exp( - (bins - mu)**2 / (2 * sigma**2) ),linewidth=2, color='r')"
     ],
     "language": "python",
     "metadata": {},
     "outputs": [
      {
       "metadata": {},
       "output_type": "pyout",
       "prompt_number": 7,
       "text": [
        "[<matplotlib.lines.Line2D at 0x106e9b910>]"
       ]
      },
      {
       "metadata": {},
       "output_type": "display_data",
       "png": "[encoded data removed]",
       "text": [
        "<matplotlib.figure.Figure at 0x106e9b950>"
       ]
      }
     ],
     "prompt_number": 7
    },
    {
     "cell_type": "heading",
     "level": 4,
     "metadata": {},
     "source": [
      "Adding noise to profile to create model data and scaling up the noise by a factor so that its effect is present."
     ]
    },
    {
     "cell_type": "code",
     "collapsed": false,
     "input": [
      "modelData = p+gaussNoise\n",
      "plot(r,modelData,'o')\n",
      "# # plotting the old profile shows the deviation due to the added noise\n",
      "plot(r,p,'r-')"
     ],
     "language": "python",
     "metadata": {},
     "outputs": [
      {
       "metadata": {},
       "output_type": "pyout",
       "prompt_number": 8,
       "text": [
        "[<matplotlib.lines.Line2D at 0x106e9f7d0>]"
       ]
      },
      {
       "metadata": {},
       "output_type": "display_data",
       "png": "[encoded data removed]",
       "text": [
        "<matplotlib.figure.Figure at 0x106ea5290>"
       ]
      }
     ],
     "prompt_number": 8
    },
    {
     "cell_type": "code",
     "collapsed": false,
     "input": [
      "# from scipy.optimize import curve_fit\n",
      "# # plot(r,p,'o')\n",
      "# def deVauc (r,Ie,Re):\n",
      "#     return Ie*e**(-7.669*(((r/Re)**.25)-1))\n",
      "# fitpars, covmat = curve_fit(deVauc,r,p)\n",
      "# plot(r, deVauc(r, fitpars[0], fitpars[1]))\n",
      "# fitpars[1]"
     ],
     "language": "python",
     "metadata": {},
     "outputs": [],
     "prompt_number": 9
    },
    {
     "cell_type": "markdown",
     "metadata": {},
     "source": [
      "Minimize the natural-log of the likelihood function and using a linear model where the y-intercept =0\n",
      "$$ A = \\frac{\\overline{PF}}{\\overline{P^2}}$$\n",
      "After setting 1st derivative with respect to A =0, we get\n",
      "$$A=\\frac{\\frac{1}{n}\\Sigma_{i=0}^N P_i f_i}{\\frac{1}{n}\\Sigma_{i=0}^NP_i^2} = \\frac{\\Sigma_{i=0}^N P_i f_i}{\\Sigma_{i=0}^NP_i^2} $$\n",
      "where x:de Vauc model(Pij) , y: data (fij)"
     ]
    },
    {
     "cell_type": "markdown",
     "metadata": {},
     "source": [
      "Plugging the De Vauc Profile,one of the  I_e cancel out : \n",
      "$$A=\\frac{\\Sigma_{i=1}^N exp[-7.669(R/R_e)^{1/4}-1] f_i}{I_e\\Sigma_{i=1}^N [exp[-7.669(R/R_e)^{1/4}-1]]^2}$$"
     ]
    },
    {
     "cell_type": "markdown",
     "metadata": {},
     "source": [
      "Uncertainty on fitting parameter A (denoted by b)\n",
      "$$\\sigma_b^2 = \\frac{S}{\\triangle}=\\frac{\\Sigma_{i=1}^N \\frac{1}{\\sigma_i^2}}{\\Sigma_{i=1}^N \\frac{1}{\\sigma_i^2}\\Sigma_{i=1}^N \\frac{P_i^2}{\\sigma_i^2}-\\Sigma_{i=1}^N [\\frac{P_i}{\\sigma_i^2}]^2}$$"
     ]
    },
    {
     "cell_type": "code",
     "collapsed": false,
     "input": [
      "def minimizelnMLE(r,flux,profile,noise):\n",
      "    # Estimate value of parameter A\n",
      "    numerator = (sum(deVauc(r)*modelData))\n",
      "    denominator =(sum(deVauc(r))**2)\n",
      "    A =numerator/denominator\n",
      "    #Find error on estimated parameter \n",
      "    numerator = 1/sum(gaussNoise)\n",
      "    denominator = (sum(1/gaussNoise**2)*sum((deVauc(r)**2)/gaussNoise**2))-(sum((deVauc(r)/gaussNoise**2)**2))\n",
      "    errA = numerator/denominator\n",
      "    return (A , errA)"
     ],
     "language": "python",
     "metadata": {},
     "outputs": [],
     "prompt_number": 10
    },
    {
     "cell_type": "code",
     "collapsed": false,
     "input": [
      "minimizelnMLE(r,modelData,p,gaussNoise)"
     ],
     "language": "python",
     "metadata": {},
     "outputs": [
      {
       "metadata": {},
       "output_type": "pyout",
       "prompt_number": 11,
       "text": [
        "(0.15846368670083932, 3.7248516402886057e-09)"
       ]
      }
     ],
     "prompt_number": 11
    },
    {
     "cell_type": "heading",
     "level": 4,
     "metadata": {},
     "source": [
      "Monte Carlo: 1000 iterations of this procedure, get A "
     ]
    },
    {
     "cell_type": "code",
     "collapsed": false,
     "input": [
      "Alist=[]\n",
      "Aerrlist=[]\n",
      "def modelFitting():\n",
      "    r = sort(np.array([ random.random()*6 for i in arange(100) ]))\n",
      "    profile = array([ deVauc(r_i) for r_i in r ])\n",
      "    plen=len(profile)\n",
      "    gaussNoise = np.random.normal(0, 0.1, plen)\n",
      "    modelData = p+gaussNoise\n",
      "    A=minimizelnMLE(r,modelData,profile,gaussNoise)\n",
      "    Alist.append(A[0])\n",
      "    Aerrlist.append(A[1])"
     ],
     "language": "python",
     "metadata": {},
     "outputs": [],
     "prompt_number": 12
    },
    {
     "cell_type": "code",
     "collapsed": false,
     "input": [
      "# modelFitting()\n",
      "# print(Alist)\n",
      "# print (Aerrlist)"
     ],
     "language": "python",
     "metadata": {},
     "outputs": [],
     "prompt_number": 13
    },
    {
     "cell_type": "code",
     "collapsed": false,
     "input": [
      "#Monte Carlo on this 100 times\n",
      "for i in arange(100):\n",
      "    modelFitting()"
     ],
     "language": "python",
     "metadata": {},
     "outputs": [],
     "prompt_number": 14
    },
    {
     "cell_type": "code",
     "collapsed": false,
     "input": [
      "print(Alist)\n",
      "print(mean(Alist))\n",
      "# print(Aerrlist)"
     ],
     "language": "python",
     "metadata": {},
     "outputs": [
      {
       "output_type": "stream",
       "stream": "stdout",
       "text": [
        "[0.15576363597826481, 0.18827044022394379, 0.042614358577620956, 0.042849211531808887, 0.069004924878081561, 0.19306291172411633, 0.12303036260943327, 0.11836775322423435, 0.039233677159228042, 0.080771121742786459, 0.057784605364527085, 0.16732142965133787, 0.18550602641849906, 0.090292577724002537, 0.1143987769151478, 0.089257272985917013, 0.062527282022160527, 0.18246925369591824, 0.1268430080050727, 0.11062531696915283, 0.1292457176631395, 0.17506108158740433, 0.13178159104304651, 0.032423678964992118, 0.18419470240056265, 0.11757602114619932, 0.056995385766785825, 0.092414127936891535, 0.21339691827320187, 0.21217619126776008, 0.083662480518500615, 0.096894255973747193, 0.16800725526051027, 0.062640484321939569, 0.15160761743646819, 0.095925304009788812, 0.17798691904573, 0.077485759693793038, 0.26923819721249559, 0.26902491094534758, 0.068124093775193253, 0.12373139950149942, 0.25076110837276461, 0.1010041577203004, 0.061374232221265507, 0.16631866153348335, 0.140342959116422, 0.21911321307804457, 0.18135857773495975, 0.099191830836237768, 0.083773745977476222, 0.1317229492169868, 0.072153439356142018, 0.13006423924587121, 0.10951002388944396, 0.15469974897182454, 0.083911372874415996, 0.11011605900889579, 0.0691884305501939, 0.093625035083271343, 0.11035097432028218, 0.094731433444766991, 0.11333212922610882, 0.099721828446276931, 0.14292271532708303, 0.082115930758973957, 0.11531977600933158, 0.091496323277258831, 0.13520846028081587, 0.078986175558344279, 0.059980027410209975, 0.14498371955492212, 0.029642084223882204, 0.084157999229897223, 0.22110189171818248, 0.10279724732199706, 0.053972073756723776, 0.14393544614291673, 0.077452109225260302, 0.13066792766328664, 0.12569182624426475, 0.13625364167864026, 0.1713612298953768, 0.098999176916066384, 0.083427337034648191, 0.063968641900966544, 0.13371830825144723, 0.14769747020627358, 0.039513644043617117, 0.078990837801079544, 0.08877217195120482, 0.17077579319059971, 0.08320316115291948, 0.043858243074790748, 0.066533907996124284, 0.096604896319949118, 0.09048295073029472, 0.088005353495892544, 0.10785459716112895, 0.14588897509846116]\n",
        "0.11662296263\n"
       ]
      }
     ],
     "prompt_number": 69
    },
    {
     "cell_type": "code",
     "collapsed": false,
     "input": [
      "# Aerrlist"
     ],
     "language": "python",
     "metadata": {},
     "outputs": [],
     "prompt_number": 16
    },
    {
     "cell_type": "code",
     "collapsed": false,
     "input": [
      "# plot(Alist,'o')"
     ],
     "language": "python",
     "metadata": {},
     "outputs": [],
     "prompt_number": 17
    },
    {
     "cell_type": "heading",
     "level": 4,
     "metadata": {},
     "source": [
      "Plot Histogram of value of A. Fit a Gaussian to get variance parameter"
     ]
    },
    {
     "cell_type": "code",
     "collapsed": false,
     "input": [
      "import numpy\n",
      "from scipy.optimize import curve_fit\n",
      "import matplotlib.pyplot as plt\n",
      "\n",
      "data = Alist\n",
      "hist, bin_edges = numpy.histogram(Alist, density=True)\n",
      "bin_centres = (bin_edges[:-1] + bin_edges[1:])/2\n",
      "\n",
      "def gauss(x, *p):\n",
      "    A, mu, sigma = p\n",
      "    return A*numpy.exp(-(x-mu)**2/(2.*sigma**2))\n",
      "\n",
      "# p0 is the initial guess for the fitting coefficients (A, mu and sigma above)\n",
      "p0 = [1., 0., 1.]\n",
      "\n",
      "coeff, var_matrix = curve_fit(gauss, bin_centres, hist, p0=p0)\n",
      "\n",
      "# fitted curve\n",
      "hist_fit = gauss(bin_centres, *coeff)\n",
      "print 'Fitted mean = ', coeff[1]\n",
      "print 'Fitted sigma = ', coeff[2]\n"
     ],
     "language": "python",
     "metadata": {},
     "outputs": [
      {
       "output_type": "stream",
       "stream": "stdout",
       "text": [
        "Fitted mean =  0.101306149014\n",
        "Fitted sigma =  0.0513055611279\n"
       ]
      }
     ],
     "prompt_number": 67
    },
    {
     "cell_type": "code",
     "collapsed": false,
     "input": [
      "count, bins, ignored = plt.hist(Alist, 30, normed=True)\n",
      "# Eyeball-estimate of mu and sigma for fit\n",
      "# sigma=0.05\n",
      "# mu=0.1\n",
      "# plt.plot(bins, 1/(sigma * np.sqrt(2 * np.pi)) *np.exp( - (bins - mu)**2 / (2 * sigma**2) ),linewidth=2, color='r')\n",
      "plt.plot(bin_centres, hist_fit,color='red')"
     ],
     "language": "python",
     "metadata": {},
     "outputs": [
      {
       "metadata": {},
       "output_type": "pyout",
       "prompt_number": 68,
       "text": [
        "[<matplotlib.lines.Line2D at 0x108e75a50>]"
       ]
      },
      {
       "metadata": {},
       "output_type": "display_data",
       "png": "[encoded data removed]",
       "text": [
        "<matplotlib.figure.Figure at 0x108e75850>"
       ]
      }
     ],
     "prompt_number": 68
    },
    {
     "cell_type": "code",
     "collapsed": false,
     "input": [
      "# from scipy.optimize import curve_fit\n",
      "# # plot(r,p,'o')\n",
      "# def gauss (x,mu,sigma):\n",
      "#     return 1/(sigma * np.sqrt(2 * np.pi)) *np.exp( - (x- mu)**2 / (2 * sigma**2) )\n",
      "# fitpars, covmat = curve_fit(gauss,np.linspace(0,0.3,100),Alist)\n",
      "# plot(r, gauss(r, fitpars[0], fitpars[1]))\n",
      "# fitpars[1]"
     ],
     "language": "python",
     "metadata": {},
     "outputs": [],
     "prompt_number": 52
    },
    {
     "cell_type": "code",
     "collapsed": false,
     "input": [
      "# plot(r, gauss(r, fitpars[0], fitpars[1]))"
     ],
     "language": "python",
     "metadata": {},
     "outputs": [],
     "prompt_number": 53
    },
    {
     "cell_type": "heading",
     "level": 4,
     "metadata": {},
     "source": [
      "Verify this result with the error A."
     ]
    },
    {
     "cell_type": "markdown",
     "metadata": {},
     "source": [
      "$$\\sigma_b^2 = \\frac{S}{\\triangle}$$\n",
      "After factoring out and eliminating the common factor $\\Sigma \\frac{1}{\\sigma_i^2}$,\n",
      "$$\\sigma_b^2 = \\frac{1}{\\Sigma\\frac{x_i^2}{\\sigma_i^2}-\\Sigma\\frac{x_i}{\\sigma_i^2}}$$"
     ]
    },
    {
     "cell_type": "code",
     "collapsed": false,
     "input": [
      "# AsigmaSqred_predicted = 1/(sum(p**2/gaussNoise**2)-sum(p/gaussNoise**2))\n",
      "AsigmaSqred_predicted = 1/(sum(deVauc(r,1,1)**2/gaussNoise**2)-sum(deVauc(r,1,1)/gaussNoise**2))"
     ],
     "language": "python",
     "metadata": {},
     "outputs": [],
     "prompt_number": 63
    },
    {
     "cell_type": "code",
     "collapsed": false,
     "input": [
      "AsigmaSqred_predicted"
     ],
     "language": "python",
     "metadata": {},
     "outputs": [
      {
       "metadata": {},
       "output_type": "pyout",
       "prompt_number": 64,
       "text": [
        "2.3437249575240024e-05"
       ]
      }
     ],
     "prompt_number": 64
    },
    {
     "cell_type": "code",
     "collapsed": false,
     "input": [],
     "language": "python",
     "metadata": {},
     "outputs": []
    }
   ],
   "metadata": {}
  }
 ]
}