{
 "metadata": {
  "name": "",
  "signature": "sha256:00bc6959ffd48132563e63e4a1f96156bb58993d80996d60fd147215a6092f07"
 },
 "nbformat": 3,
 "nbformat_minor": 0,
 "worksheets": [
  {
   "cells": [
    {
     "cell_type": "code",
     "collapsed": false,
     "input": [
      "%pylab\n",
      "%matplotlib inline"
     ],
     "language": "python",
     "metadata": {},
     "outputs": [
      {
       "output_type": "stream",
       "stream": "stdout",
       "text": [
        "Using matplotlib backend: MacOSX\n",
        "Populating the interactive namespace from numpy and matplotlib\n"
       ]
      }
     ],
     "prompt_number": 1
    },
    {
     "cell_type": "markdown",
     "metadata": {},
     "source": [
      "The analytical solution in (Trujillo et.al 2001 eq 6) only works along the major axis where $\\theta$ = 0  (elliptical coord), so I am just using the non PSF convolved de Vauc profile for now.\n",
      "$$P(R)= I(R)=I_e * exp[-7.669(R/R_e)^{1/4}-1]$$"
     ]
    },
    {
     "cell_type": "markdown",
     "metadata": {},
     "source": [
      "Sample 2D grid of points with each value in the array reprsenting I(x,y):\n",
      "$$P(R)= I(R)=I_e * exp[-7.669(\\sqrt{x^2+y^2}/R_e)^{1/4}-1]$$"
     ]
    },
    {
     "cell_type": "markdown",
     "metadata": {},
     "source": [
      "- Ie: surface brightness at Re\n",
      "- Re: the radius of the isophote containing half the luminosity \n",
      "- What values to put of Ie and Re(?)"
     ]
    },
    {
     "cell_type": "markdown",
     "metadata": {},
     "source": [
      "Because of te exponential decay in the above equation, the intensity falls off rapidly, so I chose a small radius so that the effect can be seen."
     ]
    },
    {
     "cell_type": "code",
     "collapsed": false,
     "input": [
      "# size of a modelled image \n",
      "h = 50\n",
      "w = 50\n",
      "profile = np.zeros((h,w))"
     ],
     "language": "python",
     "metadata": {},
     "outputs": [],
     "prompt_number": 2
    },
    {
     "cell_type": "markdown",
     "metadata": {},
     "source": [
      "Also need to center it around the center of the image."
     ]
    },
    {
     "cell_type": "code",
     "collapsed": false,
     "input": [
      "def deVauc(x,y):\n",
      "    Ie= 1\n",
      "    Re=1\n",
      "    r = np.sqrt((x-(w/2))**2+(y-(h/2))**2) #note: integer division is intentional\n",
      "#     print \"r: {}\".format(r)\n",
      "    return Ie*e**(-7.669*(((r/Re)**.25)-1))"
     ],
     "language": "python",
     "metadata": {},
     "outputs": [],
     "prompt_number": 22
    },
    {
     "cell_type": "code",
     "collapsed": false,
     "input": [
      "# Filling flux value (fij) of every pixel in image \n",
      "for y in np.arange(h): #loop thru col (y)\n",
      "    for x in np.arange(w): #loop thru col (x)\n",
      "        profile[y,x] = deVauc(x,y)"
     ],
     "language": "python",
     "metadata": {},
     "outputs": [],
     "prompt_number": 23
    },
    {
     "cell_type": "markdown",
     "metadata": {},
     "source": [
      "Verify that this looks like a circular profile when stretched on log-scale."
     ]
    },
    {
     "cell_type": "code",
     "collapsed": false,
     "input": [
      "from pylab import figure, cm\n",
      "from matplotlib.colors import LogNorm\n",
      "f = figure(figsize=(6.2,5.6))\n",
      "ax = f.add_axes([0.17, 0.02, 0.72, 0.79])\n",
      "axcolor = f.add_axes([0.90, 0.02, 0.03, 0.79])\n",
      "im = ax.matshow(profile, cmap=cm.gray_r, norm=LogNorm(vmin=0.01, vmax=1))\n",
      "mx = profile.max()\n",
      "t = [0, mx] #doesnt' display anything above 1.\n",
      "f.colorbar(im, cax=axcolor, ticks=t, format='$%.2f$')\n",
      "f.show()"
     ],
     "language": "python",
     "metadata": {},
     "outputs": [
      {
       "output_type": "stream",
       "stream": "stderr",
       "text": [
        "/Users/dorislee/.virtualenvs/py27dev/lib/python2.7/site-packages/matplotlib/figure.py:371: UserWarning: matplotlib is currently using a non-GUI backend, so cannot show the figure\n",
        "  \"matplotlib is currently using a non-GUI backend, \"\n"
       ]
      },
      {
       "metadata": {},
       "output_type": "display_data",
       "png": "[encoded data removed]",
       "text": [
        "<matplotlib.figure.Figure at 0x1096cda50>"
       ]
      }
     ],
     "prompt_number": 5
    },
    {
     "cell_type": "code",
     "collapsed": false,
     "input": [
      "p = set(profile.flatten())"
     ],
     "language": "python",
     "metadata": {},
     "outputs": [],
     "prompt_number": 6
    },
    {
     "cell_type": "code",
     "collapsed": false,
     "input": [
      "len(list(p))"
     ],
     "language": "python",
     "metadata": {},
     "outputs": [
      {
       "metadata": {},
       "output_type": "pyout",
       "prompt_number": 7,
       "text": [
        "294"
       ]
      }
     ],
     "prompt_number": 7
    },
    {
     "cell_type": "heading",
     "level": 4,
     "metadata": {},
     "source": [
      "Verify that it looks like de Vauc function"
     ]
    },
    {
     "cell_type": "code",
     "collapsed": false,
     "input": [
      "plot(sort(list(p))[:293]) #truncate outlier \n",
      "# plot(sort(list(profile)),'o')"
     ],
     "language": "python",
     "metadata": {},
     "outputs": [
      {
       "metadata": {},
       "output_type": "pyout",
       "prompt_number": 8,
       "text": [
        "[<matplotlib.lines.Line2D at 0x1097dc690>]"
       ]
      },
      {
       "metadata": {},
       "output_type": "display_data",
       "png": "[encoded data removed]",
       "text": [
        "<matplotlib.figure.Figure at 0x109638ed0>"
       ]
      }
     ],
     "prompt_number": 8
    },
    {
     "cell_type": "heading",
     "level": 4,
     "metadata": {},
     "source": [
      "Generating noise sampled from a Gaussian"
     ]
    },
    {
     "cell_type": "code",
     "collapsed": false,
     "input": [
      "#Scale by max radius ?\n",
      "rad = np.sqrt(h**2+w**2)\n",
      "print(rad)"
     ],
     "language": "python",
     "metadata": {},
     "outputs": [
      {
       "output_type": "stream",
       "stream": "stdout",
       "text": [
        "70.7106781187\n"
       ]
      }
     ],
     "prompt_number": 9
    },
    {
     "cell_type": "code",
     "collapsed": false,
     "input": [
      "plen = len(profile)\n",
      "gaussNoise =  np.random.normal(0, 1, h*w)"
     ],
     "language": "python",
     "metadata": {},
     "outputs": [],
     "prompt_number": 10
    },
    {
     "cell_type": "code",
     "collapsed": false,
     "input": [
      "count, bins, ignored = plt.hist(gaussNoise, 25, normed=True)\n",
      "sigma=1\n",
      "mu=0\n",
      "plt.plot(bins, 1/(sigma * np.sqrt(2 * np.pi)) *np.exp( - (bins - mu)**2 / (2 * sigma**2) ),linewidth=2, color='r')"
     ],
     "language": "python",
     "metadata": {},
     "outputs": [
      {
       "metadata": {},
       "output_type": "pyout",
       "prompt_number": 11,
       "text": [
        "[<matplotlib.lines.Line2D at 0x1097c5ed0>]"
       ]
      },
      {
       "metadata": {},
       "output_type": "display_data",
       "png": "[encoded data removed]",
       "text": [
        "<matplotlib.figure.Figure at 0x1097c59d0>"
       ]
      }
     ],
     "prompt_number": 11
    },
    {
     "cell_type": "code",
     "collapsed": false,
     "input": [
      "gaussNoise = gaussNoise.reshape(profile.shape)"
     ],
     "language": "python",
     "metadata": {},
     "outputs": [],
     "prompt_number": 12
    },
    {
     "cell_type": "code",
     "collapsed": false,
     "input": [
      "gaussNoise"
     ],
     "language": "python",
     "metadata": {},
     "outputs": [
      {
       "metadata": {},
       "output_type": "pyout",
       "prompt_number": 13,
       "text": [
        "array([[ -9.13185859e-01,   2.72424422e-01,  -3.76128228e-01, ...,\n",
        "         -1.23418590e-01,  -5.07200222e-01,  -4.24082519e-01],\n",
        "       [ -5.52169963e-01,   3.44905897e-01,   2.50937523e-01, ...,\n",
        "          7.69662383e-02,  -8.24561287e-01,  -4.35203872e-01],\n",
        "       [  2.43620566e+00,   4.42389648e-01,   1.31255245e+00, ...,\n",
        "         -1.32800321e+00,   1.25126958e-03,  -5.24249875e-01],\n",
        "       ..., \n",
        "       [ -8.76778768e-01,  -9.53099533e-01,  -1.11934744e-01, ...,\n",
        "         -1.13448559e+00,   1.63282795e+00,   1.37047083e+00],\n",
        "       [  3.17066689e-01,  -7.32286475e-01,  -5.38708816e-01, ...,\n",
        "         -2.59800283e-01,   1.42556308e+00,   8.37806619e-02],\n",
        "       [ -7.72421216e-02,  -4.74377882e-01,   9.62314522e-02, ...,\n",
        "         -1.69072901e+00,  -3.04048019e-01,  -8.59698886e-01]])"
       ]
      }
     ],
     "prompt_number": 13
    },
    {
     "cell_type": "code",
     "collapsed": false,
     "input": [
      "profile"
     ],
     "language": "python",
     "metadata": {},
     "outputs": [
      {
       "metadata": {},
       "output_type": "pyout",
       "prompt_number": 14,
       "text": [
        "array([[  1.61843051e-05,   1.77659795e-05,   1.94900682e-05, ...,\n",
        "          2.13644840e-05,   1.94900682e-05,   1.77659795e-05],\n",
        "       [  1.77659795e-05,   1.95684587e-05,   2.15429601e-05, ...,\n",
        "          2.37006334e-05,   2.15429601e-05,   1.95684587e-05],\n",
        "       [  1.94900682e-05,   2.15429601e-05,   2.38033390e-05, ...,\n",
        "          2.62866178e-05,   2.38033390e-05,   2.15429601e-05],\n",
        "       ..., \n",
        "       [  2.13644840e-05,   2.37006334e-05,   2.62866178e-05, ...,\n",
        "          2.91434194e-05,   2.62866178e-05,   2.37006334e-05],\n",
        "       [  1.94900682e-05,   2.15429601e-05,   2.38033390e-05, ...,\n",
        "          2.62866178e-05,   2.38033390e-05,   2.15429601e-05],\n",
        "       [  1.77659795e-05,   1.95684587e-05,   2.15429601e-05, ...,\n",
        "          2.37006334e-05,   2.15429601e-05,   1.95684587e-05]])"
       ]
      }
     ],
     "prompt_number": 14
    },
    {
     "cell_type": "heading",
     "level": 4,
     "metadata": {},
     "source": [
      "Adding noise to profile to create model data and scaling up the noise by a factor so that its effect is present."
     ]
    },
    {
     "cell_type": "code",
     "collapsed": false,
     "input": [
      "p = profile.flatten()\n",
      "# modelData = sort(p)#+2e-100*gaussNoise[:293]\n",
      "# m = set(modelData.flatten())\n",
      "# m = list(set(modelData.flatten()))[:250]\n",
      "\n",
      "# sort(list(p))[:293]\n",
      "modelData = sort(list(p))+2e-2*gaussNoise.flatten()"
     ],
     "language": "python",
     "metadata": {},
     "outputs": [],
     "prompt_number": 15
    },
    {
     "cell_type": "code",
     "collapsed": false,
     "input": [
      "modelData.shape"
     ],
     "language": "python",
     "metadata": {},
     "outputs": [
      {
       "metadata": {},
       "output_type": "pyout",
       "prompt_number": 16,
       "text": [
        "(2500,)"
       ]
      }
     ],
     "prompt_number": 16
    },
    {
     "cell_type": "code",
     "collapsed": false,
     "input": [
      "# plt.plot(sort(modelData)[:293],'o')\n",
      "# plt.plot(linspace(0,rad,len(modelData)),modelData,'o')\n",
      "plt.plot(modelData[:2499],'o')\n",
      "# plt.plot(sort(list(p))[:293],'o')\n",
      "# plot(r,modelData,'o')\n",
      "# # # plotting the old profile shows the deviation due to the added noise\n",
      "# plot(r,profile,'r-')"
     ],
     "language": "python",
     "metadata": {},
     "outputs": [
      {
       "metadata": {},
       "output_type": "pyout",
       "prompt_number": 17,
       "text": [
        "[<matplotlib.lines.Line2D at 0x10994a210>]"
       ]
      },
      {
       "metadata": {},
       "output_type": "display_data",
       "png": "[encoded data removed]",
       "text": [
        "<matplotlib.figure.Figure at 0x1097e3490>"
       ]
      }
     ],
     "prompt_number": 17
    },
    {
     "cell_type": "markdown",
     "metadata": {},
     "source": [
      "Note: flattening only to show the exponential de Vauc relation. Should still keep with the 2D grid data. "
     ]
    },
    {
     "cell_type": "code",
     "collapsed": false,
     "input": [
      "modelData = gaussNoise+profile"
     ],
     "language": "python",
     "metadata": {},
     "outputs": [],
     "prompt_number": 18
    },
    {
     "cell_type": "code",
     "collapsed": false,
     "input": [
      "from pylab import figure, cm\n",
      "from matplotlib.colors import LogNorm\n",
      "f = figure(figsize=(6.2,5.6))\n",
      "ax = f.add_axes([0.17, 0.02, 0.72, 0.79])\n",
      "axcolor = f.add_axes([0.90, 0.02, 0.03, 0.79])\n",
      "im = ax.matshow(modelData, cmap=cm.gray_r, norm=LogNorm(vmin=0.01, vmax=1))\n",
      "mx = profile.max()\n",
      "t = [0, mx] #doesnt' display anything above 1.\n",
      "f.colorbar(im, cax=axcolor, ticks=t, format='$%.2f$')\n",
      "f.show()"
     ],
     "language": "python",
     "metadata": {},
     "outputs": [
      {
       "metadata": {},
       "output_type": "display_data",
       "png": "[encoded data removed]",
       "text": [
        "<matplotlib.figure.Figure at 0x109906290>"
       ]
      }
     ],
     "prompt_number": 19
    },
    {
     "cell_type": "markdown",
     "metadata": {},
     "source": [
      "Again, need to adjust the amount of gaussian noise."
     ]
    },
    {
     "cell_type": "code",
     "collapsed": false,
     "input": [
      "modelData = 2e-2*gaussNoise+profile"
     ],
     "language": "python",
     "metadata": {},
     "outputs": [],
     "prompt_number": 20
    },
    {
     "cell_type": "code",
     "collapsed": false,
     "input": [
      "from pylab import figure, cm\n",
      "from matplotlib.colors import LogNorm\n",
      "f = figure(figsize=(6.2,5.6))\n",
      "ax = f.add_axes([0.17, 0.02, 0.72, 0.79])\n",
      "axcolor = f.add_axes([0.90, 0.02, 0.03, 0.79])\n",
      "im = ax.matshow(modelData, cmap=cm.gray_r, norm=LogNorm(vmin=0.01, vmax=1))\n",
      "mx = profile.max()\n",
      "t = [0, mx] #doesnt' display anything above 1.\n",
      "f.colorbar(im, cax=axcolor, ticks=t, format='$%.2f$')\n",
      "f.show()"
     ],
     "language": "python",
     "metadata": {},
     "outputs": [
      {
       "metadata": {},
       "output_type": "display_data",
       "png": "[encoded data removed]",
       "text": [
        "<matplotlib.figure.Figure at 0x1099c9ed0>"
       ]
      }
     ],
     "prompt_number": 21
    },
    {
     "cell_type": "markdown",
     "metadata": {},
     "source": [
      "Minimize the natural-log of the likelihood function and using a linear model where the y-intercept =0\n",
      "$$ A = \\frac{\\overline{PF}}{\\overline{P^2}}$$\n",
      "After setting 1st derivative with respect to A =0, we get\n",
      "$$A=\\frac{\\frac{1}{n}\\Sigma_{i=0}^N P_i f_i}{\\frac{1}{n}\\Sigma_{i=0}^NP_i^2} = \\frac{\\Sigma_{i=0}^N P_i f_i}{\\Sigma_{i=0}^NP_i^2} $$\n",
      "where x:de Vauc model(Pij) , y: data (fij)"
     ]
    },
    {
     "cell_type": "markdown",
     "metadata": {},
     "source": [
      "Plugging the De Vauc Profile,one of the  I_e cancel out : \n",
      "$$A=\\frac{\\Sigma_{i=1}^N exp[-7.669(R/R_e)^{1/4}-1] f_i}{I_e\\Sigma_{i=1}^N [exp[-7.669(R/R_e)^{1/4}-1]]^2}$$"
     ]
    },
    {
     "cell_type": "markdown",
     "metadata": {},
     "source": [
      "Uncertainty on fitting parameter A (denoted by b)\n",
      "$$\\sigma_b^2 = \\frac{S}{\\triangle}=\\frac{\\Sigma_{i=1}^N \\frac{1}{\\sigma_i^2}}{\\Sigma_{i=1}^N \\frac{1}{\\sigma_i^2}\\Sigma_{i=1}^N \\frac{P_i^2}{\\sigma_i^2}-\\Sigma_{i=1}^N [\\frac{P_i}{\\sigma_i^2}]^2}$$"
     ]
    },
    {
     "cell_type": "code",
     "collapsed": false,
     "input": [
      "profile"
     ],
     "language": "python",
     "metadata": {},
     "outputs": [
      {
       "metadata": {},
       "output_type": "pyout",
       "prompt_number": 24,
       "text": [
        "array([[  1.61843051e-05,   1.77659795e-05,   1.94900682e-05, ...,\n",
        "          2.13644840e-05,   1.94900682e-05,   1.77659795e-05],\n",
        "       [  1.77659795e-05,   1.95684587e-05,   2.15429601e-05, ...,\n",
        "          2.37006334e-05,   2.15429601e-05,   1.95684587e-05],\n",
        "       [  1.94900682e-05,   2.15429601e-05,   2.38033390e-05, ...,\n",
        "          2.62866178e-05,   2.38033390e-05,   2.15429601e-05],\n",
        "       ..., \n",
        "       [  2.13644840e-05,   2.37006334e-05,   2.62866178e-05, ...,\n",
        "          2.91434194e-05,   2.62866178e-05,   2.37006334e-05],\n",
        "       [  1.94900682e-05,   2.15429601e-05,   2.38033390e-05, ...,\n",
        "          2.62866178e-05,   2.38033390e-05,   2.15429601e-05],\n",
        "       [  1.77659795e-05,   1.95684587e-05,   2.15429601e-05, ...,\n",
        "          2.37006334e-05,   2.15429601e-05,   1.95684587e-05]])"
       ]
      }
     ],
     "prompt_number": 24
    },
    {
     "cell_type": "code",
     "collapsed": false,
     "input": [
      "modelData"
     ],
     "language": "python",
     "metadata": {},
     "outputs": [
      {
       "metadata": {},
       "output_type": "pyout",
       "prompt_number": 25,
       "text": [
        "array([[ -1.82475329e-02,   5.46625442e-03,  -7.50307450e-03, ...,\n",
        "         -2.44700732e-03,  -1.01245144e-02,  -8.46388439e-03],\n",
        "       [ -1.10256333e-02,   6.91768641e-03,   5.04029343e-03, ...,\n",
        "          1.56302540e-03,  -1.64696828e-02,  -8.68450898e-03],\n",
        "       [  4.87436033e-02,   8.86933593e-03,   2.62748524e-02, ...,\n",
        "         -2.65337775e-02,   4.88287306e-05,  -1.04634545e-02],\n",
        "       ..., \n",
        "       [ -1.75142109e-02,  -1.90382900e-02,  -2.21240826e-03, ...,\n",
        "         -2.26605683e-02,   3.26828457e-02,   2.74331172e-02],\n",
        "       [  6.36082384e-03,  -1.46241865e-02,  -1.07503730e-02, ...,\n",
        "         -5.16971904e-03,   2.85350650e-02,   1.69715620e-03],\n",
        "       [ -1.52707645e-03,  -9.46798917e-03,   1.94617200e-03, ...,\n",
        "         -3.37908795e-02,  -6.05941742e-03,  -1.71744093e-02]])"
       ]
      }
     ],
     "prompt_number": 25
    },
    {
     "cell_type": "heading",
     "level": 4,
     "metadata": {},
     "source": [
      "Verify this result with the error A.\n",
      "$$\\sigma_b^2 = \\frac{S}{\\triangle}$$\n",
      "$$ \\sigma_b^2 =\\frac{\\Sigma\\frac{1}{\\sigma_i^2}}{\\Sigma\\frac{x_i^2}{\\sigma_i^2}\\Sigma\\frac{1}{\\sigma_i^2}-(\\Sigma\\frac{x_i}{\\sigma_i^2})^2}$$"
     ]
    },
    {
     "cell_type": "code",
     "collapsed": false,
     "input": [
      "def minimizelnMLE(f,p,n):#(modelled-flux,profile,noise)\n",
      "    # Estimate value of parameter A\n",
      "    # making use of the element-by-element-wise operation\n",
      "    numerator = (sum(p*f))\n",
      "    denominator =(sum(p**2))\n",
      "    A = numerator/denominator\n",
      "    #Find error on estimated parameter \n",
      "    numerator = 1/sum(n**2)\n",
      "    denominator = sum(p**2/n**2)*sum(1/n**2)-(sum(p/n**2))**2\n",
      "    errA = np.sqrt(numerator/denominator)\n",
      "    return (A , errA)"
     ],
     "language": "python",
     "metadata": {},
     "outputs": [],
     "prompt_number": 108
    },
    {
     "cell_type": "code",
     "collapsed": false,
     "input": [
      "minimizelnMLE(modelData,profile,gaussNoise)"
     ],
     "language": "python",
     "metadata": {},
     "outputs": [
      {
       "metadata": {},
       "output_type": "pyout",
       "prompt_number": 109,
       "text": [
        "(0.9999956274224443, 5.240082931935859e-10)"
       ]
      }
     ],
     "prompt_number": 109
    },
    {
     "cell_type": "heading",
     "level": 4,
     "metadata": {},
     "source": [
      "Monte Carlo: 1000 iterations of this procedure, get A "
     ]
    },
    {
     "cell_type": "code",
     "collapsed": false,
     "input": [
      "Alist=[]\n",
      "Aerrlist=[]\n",
      "def modelFitting():\n",
      "    # Generating 2D grid modelling de Vauc profile\n",
      "    # Should be repeating this procedure on a same-sized grid everytime\n",
      "    h = 50\n",
      "    w = 50\n",
      "    profile = np.zeros((h,w))\n",
      "    for y in np.arange(h): #loop thru col (y)\n",
      "        for x in np.arange(w): #loop thru col (x)\n",
      "            profile[y,x] = deVauc(x,y)\n",
      "    # Generating Gaussian Noise\n",
      "    gaussNoise =  np.random.normal(0, 1, h*w)\n",
      "    gaussNoise = gaussNoise.reshape(profile.shape)\n",
      "    modelData = 2e-2*gaussNoise+profile\n",
      "    A=minimizelnMLE(modelData,profile,gaussNoise)\n",
      "    Alist.append(A[0])\n",
      "    Aerrlist.append(A[1])"
     ],
     "language": "python",
     "metadata": {},
     "outputs": [],
     "prompt_number": 110
    },
    {
     "cell_type": "code",
     "collapsed": false,
     "input": [
      "#Monte Carlo on this 100 times\n",
      "for i in arange(100):\n",
      "    modelFitting()"
     ],
     "language": "python",
     "metadata": {},
     "outputs": [],
     "prompt_number": 111
    },
    {
     "cell_type": "code",
     "collapsed": false,
     "input": [
      "print(Alist)"
     ],
     "language": "python",
     "metadata": {},
     "outputs": [
      {
       "output_type": "stream",
       "stream": "stdout",
       "text": [
        "[0.99998738941260668, 0.99999624110375274, 0.99999800793054439, 0.99997922138067008, 0.99999153744317715, 0.99999450193495609, 1.000021053144599, 1.0000026176217391, 0.99998979172995717, 1.0000045781204618, 0.99999844387872283, 0.99999166839942444, 1.0000078123208955, 1.0000080907547229, 1.0000003796839159, 0.99999962781082086, 1.0000019742574615, 1.0000027292433984, 1.0000195024882728, 0.99998558895238954, 0.99999423251861763, 1.0000128877749195, 0.999998630103343, 1.0000179108825897, 1.0000004082320368, 1.0000121367014865, 1.0000059465739974, 1.0000019047096973, 0.99998993084780996, 0.99999927116004617, 1.0000008118135066, 1.0000065732208541, 0.99999997744539715, 1.0000153510047447, 0.99999526176074516, 1.0000039727529135, 0.99999282434113723, 0.99999232992906262, 1.000003500108009, 1.0000058335839916, 1.0000050883072926, 0.99999405061119984, 1.0000075210653425, 0.99998706008602511, 1.0000053510289166, 0.99998385805264167, 1.0000077407474131, 0.99998771181959489, 1.0000074921415689, 0.99999479547149461, 0.99998242962476447, 0.99998902482069085, 0.99999478981605783, 1.0000068718570245, 1.0000040526301042, 1.0000208401144028, 1.0000038077307138, 0.9999872685364446, 0.99999851039621013, 1.0000066795959046, 1.0000078951522433, 0.99999347644080305, 1.0000009431895178, 1.0000013929691141, 1.0000009310764464, 1.0000040294459991, 0.99999362515255286, 0.99998040550327594, 0.99999109559659727, 0.99999803048557534, 1.0000038686911747, 0.9999992264228641, 1.0000124588395936, 0.99999588418128027, 1.0000004676590235, 0.9999766794557996, 1.0000016936663563, 0.99999230239026182, 1.0000116537334238, 0.99998373339449498, 0.99997882629858337, 0.99999991221539175, 0.9999928508684659, 0.99999314942861273, 0.9999920713283178, 0.99999539497682965, 0.99999810388712929, 0.99999457566234906, 0.99999929146058952, 1.0000084492239283, 1.0000142195595418, 0.99999641713074539, 0.99999095234584712, 1.0000135680838931, 1.0000029652562239, 1.0000057534915381, 1.0000017703302997, 0.99998774254774714, 0.99999773691311877, 0.99999527365057206]\n"
       ]
      }
     ],
     "prompt_number": 112
    },
    {
     "cell_type": "code",
     "collapsed": false,
     "input": [
      "print(Aerrlist)"
     ],
     "language": "python",
     "metadata": {},
     "outputs": [
      {
       "output_type": "stream",
       "stream": "stdout",
       "text": [
        "[3.4779187734017972e-09, 1.9634599106252972e-09, 8.6348967677801799e-10, 1.0912226372218775e-08, 4.1402201288767875e-09, 2.3713381454383579e-09, 5.167819909243695e-10, 1.5381126804562337e-09, 4.5600258954834945e-09, 1.4111488015903379e-09, 5.5675066147911982e-10, 2.1425969407452079e-09, 3.6804815678856496e-10, 2.8296189032382285e-09, 2.0613063616117538e-11, 7.960498471863161e-11, 7.0106331758606173e-10, 7.3088274946881016e-10, 9.6671960851533615e-09, 1.8283560259223106e-09, 2.4412718823652194e-09, 1.594429937693997e-10, 5.441553823531568e-10, 6.1773904949847254e-09, 2.1160716386216865e-10, 9.2249807866876981e-09, 2.9427728263082803e-09, 9.3698609994745737e-10, 1.9250804064426429e-09, 3.1030582515327698e-10, 4.3182649943646089e-10, 1.927318049983598e-09, 3.4305373088256365e-11, 1.2054668239288683e-08, 2.2594014067566758e-09, 1.4009246789704857e-10, 2.6772376676469176e-09, 1.7209844427119792e-10, 4.4613602457746011e-10, 7.6594654575560523e-10, 8.2721000755159721e-10, 7.1235562620891419e-10, 2.3882502301231414e-09, 4.0889040180138711e-11, 1.7318266917484883e-09, 6.2547697438166601e-09, 2.6452451814979535e-09, 3.1624844948941195e-09, 2.1604183413872633e-09, 2.4125283132732148e-10, 1.4969125719689624e-08, 6.9282040927653574e-09, 1.4820783647401573e-09, 2.2870904613990571e-09, 9.702127273629673e-10, 7.6980921237263043e-10, 5.2106044077416542e-10, 8.632375247159636e-09, 3.3540817372189906e-10, 3.4278693085225774e-09, 4.8232496552698979e-09, 4.3095375053330278e-09, 1.3713321956388323e-10, 7.2996127703327304e-10, 3.6042201446967421e-10, 9.3038102579317466e-10, 1.0130678434174146e-09, 1.306597515046889e-08, 5.6187067566076367e-09, 9.3121652440071927e-10, 8.886646855233978e-10, 3.1720029864468358e-10, 1.9703938386524049e-09, 7.2089258957369597e-10, 6.8624254227167337e-11, 8.0482696363697202e-10, 2.4712739426009799e-10, 3.2559055170061307e-09, 3.8969056952307116e-10, 6.21009201845402e-09, 1.1018067091598485e-08, 1.9673777304657667e-12, 2.9172021068389668e-09, 1.9364184455951967e-10, 2.6104077880859299e-09, 4.7763610347466631e-09, 5.6761848301680152e-10, 2.5813037801356258e-09, 2.0550333608575787e-10, 3.8066685449567576e-09, 1.0180722313270005e-10, 1.8966211271743418e-09, 1.8483061387989525e-09, 1.4474917356270037e-08, 6.087597429474697e-11, 8.764286682454941e-10, 1.2864878473138913e-09, 7.8752417583390554e-09, 6.9303751738100818e-10, 4.2996398831226814e-09]\n"
       ]
      }
     ],
     "prompt_number": 113
    },
    {
     "cell_type": "code",
     "collapsed": false,
     "input": [
      "plot(Alist,'o')"
     ],
     "language": "python",
     "metadata": {},
     "outputs": [
      {
       "metadata": {},
       "output_type": "pyout",
       "prompt_number": 114,
       "text": [
        "[<matplotlib.lines.Line2D at 0x10a326990>]"
       ]
      },
      {
       "metadata": {},
       "output_type": "display_data",
       "png": "[encoded data removed]",
       "text": [
        "<matplotlib.figure.Figure at 0x109e36650>"
       ]
      }
     ],
     "prompt_number": 114
    },
    {
     "cell_type": "heading",
     "level": 4,
     "metadata": {},
     "source": [
      "Since values of A are uniformly distributed, calculate the variance (standard dev) and mean directly "
     ]
    },
    {
     "cell_type": "code",
     "collapsed": false,
     "input": [
      "count, bins, ignored = plt.hist(Alist, 30, normed=True)\n",
      "# Eyeball-estimate of mu and sigma for fit\n",
      "sigma=0.02\n",
      "mu=0.00003\n",
      "plt.plot(bins, 1/(sigma * np.sqrt(2 * np.pi)) *np.exp( - (bins - mu)**2 / (2 * sigma**2) ),linewidth=2, color='r')"
     ],
     "language": "python",
     "metadata": {},
     "outputs": [
      {
       "metadata": {},
       "output_type": "pyout",
       "prompt_number": 117,
       "text": [
        "[<matplotlib.lines.Line2D at 0x10a249850>]"
       ]
      },
      {
       "metadata": {},
       "output_type": "display_data",
       "png": "[encoded data removed]",
       "text": [
        "<matplotlib.figure.Figure at 0x10a249190>"
       ]
      }
     ],
     "prompt_number": 117
    },
    {
     "cell_type": "code",
     "collapsed": false,
     "input": [
      "Abar = mean(Alist)\n",
      "Asig = std(Alist)\n",
      "print(Abar)\n",
      "print (Asig)"
     ],
     "language": "python",
     "metadata": {},
     "outputs": [
      {
       "output_type": "stream",
       "stream": "stdout",
       "text": [
        "0.999999142156\n",
        "9.27762782329e-06\n"
       ]
      }
     ],
     "prompt_number": 116
    },
    {
     "cell_type": "markdown",
     "metadata": {},
     "source": [
      "Error value obtained by the $\\sigma_b$ calculation (average of all the $\\sigma_b$  values, already square rooted)"
     ]
    },
    {
     "cell_type": "code",
     "collapsed": false,
     "input": [
      "mean(Aerrlist)"
     ],
     "language": "python",
     "metadata": {},
     "outputs": [
      {
       "metadata": {},
       "output_type": "pyout",
       "prompt_number": 119,
       "text": [
        "2.6583558776601655e-09"
       ]
      }
     ],
     "prompt_number": 119
    },
    {
     "cell_type": "heading",
     "level": 1,
     "metadata": {},
     "source": [
      "------------------------------------------------------------------------------------"
     ]
    },
    {
     "cell_type": "heading",
     "level": 2,
     "metadata": {},
     "source": [
      "(Ignore the parts below this)"
     ]
    },
    {
     "cell_type": "heading",
     "level": 5,
     "metadata": {},
     "source": [
      "Given this value of A, this should be the best fitting parameter for the linear model = $AP_i$ where $P_i$ = de Vauc(r)"
     ]
    },
    {
     "cell_type": "code",
     "collapsed": false,
     "input": [
      "def deVauc2 (r,Ie):\n",
      "    Re=1\n",
      "    return Ie*e**(-7.669*(((r/Re)**.25)-1))"
     ],
     "language": "python",
     "metadata": {},
     "outputs": []
    },
    {
     "cell_type": "code",
     "collapsed": false,
     "input": [
      "#Focus on looking at behaviour at small radius since the de Vauc profile flux decay as distance rapidly\n",
      "r = sort(np.array([ random.random()*0.2 for i in arange(100) ]))\n",
      "profile = array([ deVauc(r_i) for r_i in r ])\n",
      "plen=len(profile)\n",
      "gaussNoise = np.random.normal(0, 15, plen)\n",
      "modelData = profile+gaussNoise\n",
      "model = array([ deVauc2(r_i,Abar) for r_i in r ])\n",
      "plot(r,modelData,'o')\n",
      "# model = np.array(profile)*Abar\n",
      "plot (r, model,'r-')"
     ],
     "language": "python",
     "metadata": {},
     "outputs": []
    },
    {
     "cell_type": "code",
     "collapsed": false,
     "input": [
      "#Focus on looking at behaviour at small radius since the de Vauc profile flux decay as distance rapidly\n",
      "r = sort(np.array([ random.random()*0.2 for i in arange(100) ]))\n",
      "profile = array([ deVauc(r_i) for r_i in r ])\n",
      "plen=len(profile)\n",
      "gaussNoise = np.random.normal(0, 15, plen)\n",
      "modelData = profile+gaussNoise\n",
      "model = array([ deVauc2(r_i,Abar*10) for r_i in r ])\n",
      "plot(r,modelData,'o')\n",
      "# model = np.array(profile)*Abar\n",
      "plot (r, model,'r-')"
     ],
     "language": "python",
     "metadata": {},
     "outputs": []
    },
    {
     "cell_type": "code",
     "collapsed": false,
     "input": [
      "# # plotting the old profile shows the deviation due to the added noise\n",
      "\n",
      "# print(p)\n",
      "# print(model)\n",
      "# plot(r,model,'r-')\n"
     ],
     "language": "python",
     "metadata": {},
     "outputs": []
    },
    {
     "cell_type": "markdown",
     "metadata": {},
     "source": [
      "It seems like its off by a factor of 10. Not too sure why. "
     ]
    },
    {
     "cell_type": "heading",
     "level": 4,
     "metadata": {},
     "source": [
      "Using Scipy's built in non-linear least squares "
     ]
    },
    {
     "cell_type": "code",
     "collapsed": false,
     "input": [
      "# import lmfit"
     ],
     "language": "python",
     "metadata": {},
     "outputs": []
    },
    {
     "cell_type": "code",
     "collapsed": false,
     "input": [
      "from scipy.optimize import curve_fit"
     ],
     "language": "python",
     "metadata": {},
     "outputs": []
    },
    {
     "cell_type": "code",
     "collapsed": false,
     "input": [
      "scipy.optimize.curve_fit"
     ],
     "language": "python",
     "metadata": {},
     "outputs": []
    },
    {
     "cell_type": "code",
     "collapsed": false,
     "input": [
      "from scipy.optimize import curve_fit\n",
      "# plot(r,p,'o')\n",
      "fitpars, covmat = curve_fit(deVauc2,r,modelData)\n",
      "plot(r, deVauc2(r, fitpars[0]))\n",
      "plot(r,modelData,'o')\n",
      "fitpars"
     ],
     "language": "python",
     "metadata": {},
     "outputs": []
    },
    {
     "cell_type": "markdown",
     "metadata": {},
     "source": [
      "This makes sense that when I'm using the model this value should be close to 1. Since I used I_e as 1 to generate this data.\n",
      "So if I used I_e =4 to generate the data then this would obviously yield something close to 3. "
     ]
    },
    {
     "cell_type": "code",
     "collapsed": false,
     "input": [
      "def deVauc3 (r):\n",
      "    Ie=3\n",
      "    Re=1\n",
      "    return Ie*e**(-7.669*(((r/Re)**.25)-1))"
     ],
     "language": "python",
     "metadata": {},
     "outputs": []
    },
    {
     "cell_type": "code",
     "collapsed": false,
     "input": [
      "r = sort(np.array([ random.random()*0.2 for i in arange(100) ]))\n",
      "profile = array([ deVauc3(r_i) for r_i in r ])\n",
      "plen=len(profile)\n",
      "gaussNoise = np.random.normal(0, 15, plen)\n",
      "modelData = profile+gaussNoise\n",
      "# model = np.array(profile)*Abar\n",
      "from scipy.optimize import curve_fit\n",
      "# plot(r,p,'o')\n",
      "fitpars, covmat = curve_fit(deVauc2,r,modelData)\n",
      "plot(r, deVauc2(r, fitpars[0]))\n",
      "plot(r,modelData,'o')\n",
      "print(fitpars)\n",
      "print (covmat)"
     ],
     "language": "python",
     "metadata": {},
     "outputs": []
    },
    {
     "cell_type": "markdown",
     "metadata": {},
     "source": [
      "But I think this is a bit weird in general because we are using the same set of data to fit the data and in the model and just adding random noise to it. So obviously this should only work if our linear model is equal to the original model with the coefficient as 1 . \n",
      "We need to use flux data from photo obj or its residual (error image) to test this. "
     ]
    }
   ],
   "metadata": {}
  }
 ]
}