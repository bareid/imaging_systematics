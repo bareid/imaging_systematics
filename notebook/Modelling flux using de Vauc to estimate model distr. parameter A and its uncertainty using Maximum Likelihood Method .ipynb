{
 "metadata": {
  "name": "Modelling flux using de Vauc to estimate model distr. parameter A and its uncertainty using Maximum Likelihood Method ",
  "signature": "sha256:7fe366766336d5d1f465a34857dd27bcabaf14ebac58b28ea83a6886f0921f4f"
 },
 "nbformat": 3,
 "nbformat_minor": 0,
 "worksheets": [
  {
   "cells": [
    {
     "cell_type": "code",
     "collapsed": false,
     "input": [
      "%pylab\n",
      "%matplotlib inline"
     ],
     "language": "python",
     "metadata": {},
     "outputs": [
      {
       "output_type": "stream",
       "stream": "stdout",
       "text": [
        "\n",
        "Welcome to pylab, a matplotlib-based Python environment [backend: module://IPython.zmq.pylab.backend_inline].\n",
        "For more information, type 'help(pylab)'.\n"
       ]
      },
      {
       "output_type": "stream",
       "stream": "stderr",
       "text": [
        "ERROR: Line magic function `%matplotlib` not found."
       ]
      }
     ],
     "prompt_number": 1
    },
    {
     "cell_type": "markdown",
     "metadata": {},
     "source": [
      "The analytical solution in (Trujillo et.al 2001 eq 6) only works along the major axis where $\\theta$ = 0  (elliptical coord), so I am just using the non PSF convolved de Vauc profile for now.\n",
      "$$P(R)= I(R)=I_e * exp[-7.669(R/R_e)^{1/4}-1]$$"
     ]
    },
    {
     "cell_type": "markdown",
     "metadata": {},
     "source": [
      "Sample 2D grid of points with each value in the array reprsenting I(x,y):\n",
      "$$P(R)= I(R)=I_e * exp[-7.669(\\sqrt{x^2+y^2}/R_e)^{1/4}-1]$$"
     ]
    },
    {
     "cell_type": "markdown",
     "metadata": {},
     "source": [
      "- Ie: surface brightness at Re\n",
      "- Re: the radius of the isophote containing half the luminosity \n",
      "- What values to put of Ie and Re(?)"
     ]
    },
    {
     "cell_type": "markdown",
     "metadata": {},
     "source": [
      "Because of te exponential decay in the above equation, the intensity falls off rapidly, so I chose a small radius so that the effect can be seen."
     ]
    },
    {
     "cell_type": "code",
     "collapsed": false,
     "input": [
      "# size of a modelled image \n",
      "h = 50\n",
      "w = 50\n",
      "profile = np.zeros((h,w))"
     ],
     "language": "python",
     "metadata": {},
     "outputs": [],
     "prompt_number": 2
    },
    {
     "cell_type": "markdown",
     "metadata": {},
     "source": [
      "Also need to center it around the center of the image."
     ]
    },
    {
     "cell_type": "code",
     "collapsed": false,
     "input": [
      "def deVauc(x,y):\n",
      "    Ie= 1\n",
      "    Re=1\n",
      "    r = np.sqrt((x-(w/2))**2+(y-(h/2))**2) #note: integer division is intentional\n",
      "#     print \"r: {}\".format(r)\n",
      "    return Ie*e**(-7.669*(((r/Re)**.25)-1))"
     ],
     "language": "python",
     "metadata": {},
     "outputs": [],
     "prompt_number": 3
    },
    {
     "cell_type": "code",
     "collapsed": false,
     "input": [
      "# Filling flux value (fij) of every pixel in image \n",
      "for y in np.arange(h): #loop thru col (y)\n",
      "    for x in np.arange(w): #loop thru col (x)\n",
      "        profile[y,x] = deVauc(x,y)"
     ],
     "language": "python",
     "metadata": {},
     "outputs": [],
     "prompt_number": 4
    },
    {
     "cell_type": "markdown",
     "metadata": {},
     "source": [
      "Verify that this looks like a circular profile when stretched on log-scale."
     ]
    },
    {
     "cell_type": "code",
     "collapsed": false,
     "input": [
      "from pylab import figure, cm\n",
      "from matplotlib.colors import LogNorm\n",
      "f = figure(figsize=(6.2,5.6))\n",
      "ax = f.add_axes([0.17, 0.02, 0.72, 0.79])\n",
      "axcolor = f.add_axes([0.90, 0.02, 0.03, 0.79])\n",
      "im = ax.matshow(profile, cmap=cm.gray_r, norm=LogNorm(vmin=0.01, vmax=1))\n",
      "mx = profile.max()\n",
      "t = [0, mx] #doesnt' display anything above 1.\n",
      "f.colorbar(im, cax=axcolor, ticks=t, format='$%.2f$')\n",
      "f.show()"
     ],
     "language": "python",
     "metadata": {},
     "outputs": [
      {
       "output_type": "stream",
       "stream": "stderr",
       "text": [
        "/home/howdiedoo/Enthought/Canopy_64bit/User/lib/python2.7/site-packages/matplotlib/figure.py:371: UserWarning: matplotlib is currently using a non-GUI backend, so cannot show the figure\n",
        "  \"matplotlib is currently using a non-GUI backend, \"\n"
       ]
      },
      {
       "output_type": "display_data",
       "png": "[encoded data removed]"
      }
     ],
     "prompt_number": 5
    },
    {
     "cell_type": "code",
     "collapsed": false,
     "input": [
      "p = set(profile.flatten())"
     ],
     "language": "python",
     "metadata": {},
     "outputs": [],
     "prompt_number": 6
    },
    {
     "cell_type": "code",
     "collapsed": false,
     "input": [
      "len(list(p))"
     ],
     "language": "python",
     "metadata": {},
     "outputs": [
      {
       "output_type": "pyout",
       "prompt_number": 7,
       "text": [
        "294"
       ]
      }
     ],
     "prompt_number": 7
    },
    {
     "cell_type": "heading",
     "level": 4,
     "metadata": {},
     "source": [
      "Verify that it looks like de Vauc function"
     ]
    },
    {
     "cell_type": "code",
     "collapsed": false,
     "input": [
      "plot(sort(list(p))[:293]) #truncate outlier \n",
      "# plot(sort(list(profile)),'o')"
     ],
     "language": "python",
     "metadata": {},
     "outputs": [
      {
       "output_type": "pyout",
       "prompt_number": 8,
       "text": [
        "[<matplotlib.lines.Line2D at 0x31d2390>]"
       ]
      },
      {
       "output_type": "display_data",
       "png": "[encoded data removed]"
      }
     ],
     "prompt_number": 8
    },
    {
     "cell_type": "heading",
     "level": 4,
     "metadata": {},
     "source": [
      "Generating noise sampled from a Gaussian"
     ]
    },
    {
     "cell_type": "code",
     "collapsed": false,
     "input": [
      "#Scale by max radius ?\n",
      "rad = np.sqrt(h**2+w**2)\n",
      "print(rad)"
     ],
     "language": "python",
     "metadata": {},
     "outputs": [
      {
       "output_type": "stream",
       "stream": "stdout",
       "text": [
        "70.7106781187\n"
       ]
      }
     ],
     "prompt_number": 9
    },
    {
     "cell_type": "code",
     "collapsed": false,
     "input": [
      "plen = len(profile)\n",
      "gaussNoise =  np.random.normal(0, 1, h*w)"
     ],
     "language": "python",
     "metadata": {},
     "outputs": [],
     "prompt_number": 10
    },
    {
     "cell_type": "code",
     "collapsed": false,
     "input": [
      "count, bins, ignored = plt.hist(gaussNoise, 25, normed=True)\n",
      "sigma=1\n",
      "mu=0\n",
      "plt.plot(bins, 1/(sigma * np.sqrt(2 * np.pi)) *np.exp( - (bins - mu)**2 / (2 * sigma**2) ),linewidth=2, color='r')"
     ],
     "language": "python",
     "metadata": {},
     "outputs": [
      {
       "output_type": "pyout",
       "prompt_number": 11,
       "text": [
        "[<matplotlib.lines.Line2D at 0x311a710>]"
       ]
      },
      {
       "output_type": "display_data",
       "png": "[encoded data removed]"
      }
     ],
     "prompt_number": 11
    },
    {
     "cell_type": "code",
     "collapsed": false,
     "input": [
      "gaussNoise = gaussNoise.reshape(profile.shape)"
     ],
     "language": "python",
     "metadata": {},
     "outputs": [],
     "prompt_number": 12
    },
    {
     "cell_type": "code",
     "collapsed": false,
     "input": [
      "gaussNoise"
     ],
     "language": "python",
     "metadata": {},
     "outputs": [
      {
       "output_type": "pyout",
       "prompt_number": 13,
       "text": [
        "array([[ -4.89298858e-01,   1.88609422e+00,   2.14824915e+00, ...,\n",
        "          2.23210787e-01,  -2.19674921e-02,   5.65105886e-01],\n",
        "       [ -5.67998964e-01,  -1.39267839e+00,   4.66172039e-01, ...,\n",
        "         -1.39543671e-01,   3.43491783e-01,  -3.66636215e-01],\n",
        "       [ -9.33597380e-01,   5.82547607e-01,   2.51848032e-01, ...,\n",
        "         -1.23296487e+00,   1.15033075e-01,   5.97008489e-01],\n",
        "       ..., \n",
        "       [ -4.65483726e-01,  -4.07678397e-01,  -6.15724763e-04, ...,\n",
        "         -1.25567067e+00,  -1.36260668e+00,  -2.93390389e+00],\n",
        "       [  3.35583069e-01,   4.47077305e-01,   5.52713409e-01, ...,\n",
        "         -3.35651069e-01,   5.53886230e-01,  -3.95408728e-01],\n",
        "       [ -4.11903157e-01,   2.92289908e+00,   6.88260984e-01, ...,\n",
        "          1.27956542e-01,  -8.57898616e-01,  -1.89255077e+00]])"
       ]
      }
     ],
     "prompt_number": 13
    },
    {
     "cell_type": "code",
     "collapsed": false,
     "input": [
      "profile"
     ],
     "language": "python",
     "metadata": {},
     "outputs": [
      {
       "output_type": "pyout",
       "prompt_number": 15,
       "text": [
        "array([[  1.61843051e-05,   1.77659795e-05,   1.94900682e-05, ...,\n",
        "          2.13644840e-05,   1.94900682e-05,   1.77659795e-05],\n",
        "       [  1.77659795e-05,   1.95684587e-05,   2.15429601e-05, ...,\n",
        "          2.37006334e-05,   2.15429601e-05,   1.95684587e-05],\n",
        "       [  1.94900682e-05,   2.15429601e-05,   2.38033390e-05, ...,\n",
        "          2.62866178e-05,   2.38033390e-05,   2.15429601e-05],\n",
        "       ..., \n",
        "       [  2.13644840e-05,   2.37006334e-05,   2.62866178e-05, ...,\n",
        "          2.91434194e-05,   2.62866178e-05,   2.37006334e-05],\n",
        "       [  1.94900682e-05,   2.15429601e-05,   2.38033390e-05, ...,\n",
        "          2.62866178e-05,   2.38033390e-05,   2.15429601e-05],\n",
        "       [  1.77659795e-05,   1.95684587e-05,   2.15429601e-05, ...,\n",
        "          2.37006334e-05,   2.15429601e-05,   1.95684587e-05]])"
       ]
      }
     ],
     "prompt_number": 15
    },
    {
     "cell_type": "heading",
     "level": 4,
     "metadata": {},
     "source": [
      "Adding noise to profile to create model data and scaling up the noise by a factor so that its effect is present."
     ]
    },
    {
     "cell_type": "code",
     "collapsed": false,
     "input": [
      "p = profile.flatten()\n",
      "# modelData = sort(p)#+2e-100*gaussNoise[:293]\n",
      "# m = set(modelData.flatten())\n",
      "# m = list(set(modelData.flatten()))[:250]\n",
      "\n",
      "# sort(list(p))[:293]\n",
      "modelData = sort(list(p))+2e-2*gaussNoise.flatten()"
     ],
     "language": "python",
     "metadata": {},
     "outputs": [],
     "prompt_number": 16
    },
    {
     "cell_type": "code",
     "collapsed": false,
     "input": [
      "modelData.shape"
     ],
     "language": "python",
     "metadata": {},
     "outputs": [
      {
       "output_type": "pyout",
       "prompt_number": 17,
       "text": [
        "(2500,)"
       ]
      }
     ],
     "prompt_number": 17
    },
    {
     "cell_type": "code",
     "collapsed": false,
     "input": [
      "# plt.plot(sort(modelData)[:293],'o')\n",
      "# plt.plot(linspace(0,rad,len(modelData)),modelData,'o')\n",
      "plt.plot(modelData[:2499],'o')\n",
      "# plt.plot(sort(list(p))[:293],'o')\n",
      "# plot(r,modelData,'o')\n",
      "# # # plotting the old profile shows the deviation due to the added noise\n",
      "# plot(r,profile,'r-')"
     ],
     "language": "python",
     "metadata": {},
     "outputs": [
      {
       "output_type": "pyout",
       "prompt_number": 18,
       "text": [
        "[<matplotlib.lines.Line2D at 0x37ad050>]"
       ]
      },
      {
       "output_type": "display_data",
       "png": "[encoded data removed]"
      }
     ],
     "prompt_number": 18
    },
    {
     "cell_type": "markdown",
     "metadata": {},
     "source": [
      "Note: flattening only to show the exponential de Vauc relation. Should still keep with the 2D grid data. "
     ]
    },
    {
     "cell_type": "code",
     "collapsed": false,
     "input": [
      "modelData = gaussNoise+profile"
     ],
     "language": "python",
     "metadata": {},
     "outputs": [],
     "prompt_number": 19
    },
    {
     "cell_type": "code",
     "collapsed": false,
     "input": [
      "from pylab import figure, cm\n",
      "from matplotlib.colors import LogNorm\n",
      "f = figure(figsize=(6.2,5.6))\n",
      "ax = f.add_axes([0.17, 0.02, 0.72, 0.79])\n",
      "axcolor = f.add_axes([0.90, 0.02, 0.03, 0.79])\n",
      "im = ax.matshow(modelData, cmap=cm.gray_r, norm=LogNorm(vmin=0.01, vmax=1))\n",
      "mx = profile.max()\n",
      "t = [0, mx] #doesnt' display anything above 1.\n",
      "f.colorbar(im, cax=axcolor, ticks=t, format='$%.2f$')\n",
      "f.show()"
     ],
     "language": "python",
     "metadata": {},
     "outputs": [
      {
       "output_type": "display_data",
       "png": "[encoded data removed]"
      }
     ],
     "prompt_number": 20
    },
    {
     "cell_type": "markdown",
     "metadata": {},
     "source": [
      "Again, need to adjust the amount of gaussian noise."
     ]
    },
    {
     "cell_type": "code",
     "collapsed": false,
     "input": [
      "modelData = 2e-2*gaussNoise+profile"
     ],
     "language": "python",
     "metadata": {},
     "outputs": [],
     "prompt_number": 22
    },
    {
     "cell_type": "code",
     "collapsed": false,
     "input": [
      "from pylab import figure, cm\n",
      "from matplotlib.colors import LogNorm\n",
      "f = figure(figsize=(6.2,5.6))\n",
      "ax = f.add_axes([0.17, 0.02, 0.72, 0.79])\n",
      "axcolor = f.add_axes([0.90, 0.02, 0.03, 0.79])\n",
      "im = ax.matshow(modelData, cmap=cm.gray_r, norm=LogNorm(vmin=0.01, vmax=1))\n",
      "mx = profile.max()\n",
      "t = [0, mx] #doesnt' display anything above 1.\n",
      "f.colorbar(im, cax=axcolor, ticks=t, format='$%.2f$')\n",
      "f.show()"
     ],
     "language": "python",
     "metadata": {},
     "outputs": [
      {
       "output_type": "display_data",
       "png": "[encoded data removed]"
      }
     ],
     "prompt_number": 23
    },
    {
     "cell_type": "markdown",
     "metadata": {},
     "source": [
      "Minimize the natural-log of the likelihood function and using a linear model where the y-intercept =0\n",
      "$$ A = \\frac{\\overline{PF}}{\\overline{P^2}}$$\n",
      "After setting 1st derivative with respect to A =0, we get\n",
      "$$A=\\frac{\\frac{1}{n}\\Sigma_{i=0}^N P_i f_i}{\\frac{1}{n}\\Sigma_{i=0}^NP_i^2} = \\frac{\\Sigma_{i=0}^N P_i f_i}{\\Sigma_{i=0}^NP_i^2} $$\n",
      "where x:de Vauc model(Pij) , y: data (fij)"
     ]
    },
    {
     "cell_type": "markdown",
     "metadata": {},
     "source": [
      "Plugging the De Vauc Profile,one of the  I_e cancel out : \n",
      "$$A=\\frac{\\Sigma_{i=1}^N exp[-7.669(R/R_e)^{1/4}-1] f_i}{I_e\\Sigma_{i=1}^N [exp[-7.669(R/R_e)^{1/4}-1]]^2}$$"
     ]
    },
    {
     "cell_type": "markdown",
     "metadata": {},
     "source": [
      "Uncertainty on fitting parameter A (denoted by b)\n",
      "$$\\sigma_b^2 = \\frac{S}{\\triangle}=\\frac{\\Sigma_{i=1}^N \\frac{1}{\\sigma_i^2}}{\\Sigma_{i=1}^N \\frac{1}{\\sigma_i^2}\\Sigma_{i=1}^N \\frac{P_i^2}{\\sigma_i^2}-\\Sigma_{i=1}^N [\\frac{P_i}{\\sigma_i^2}]^2}$$"
     ]
    },
    {
     "cell_type": "markdown",
     "metadata": {},
     "source": [
      "##BR COMMENT\n",
      "\n",
      "The error bar in that expression assumes you are fitting an overall offset (b in A*x + b) as well, but in your minimization function, you are only fitting A.  This will change the error bar from what you got above to \n",
      "\n",
      "$\\sigma_b^{-2} = \\sum_{i=1}^{N} \\frac{m_i^2}{\\sigma_i^2}$\n",
      "\n",
      "Check to see if that value is different from the expression above that you're using for hte error."
     ]
    },
    {
     "cell_type": "code",
     "collapsed": false,
     "input": [
      "## BR: this is the expected error on A if you aren't fitting the overall offset b.\n",
      "((profile*profile).sum()/(2e-2)**2)**-0.5\n",
      "\n",
      "## this value looks quite close to what you got in from your monte-carlo."
     ],
     "language": "python",
     "metadata": {},
     "outputs": [
      {
       "output_type": "pyout",
       "prompt_number": 26,
       "text": [
        "9.3416877084625704e-06"
       ]
      }
     ],
     "prompt_number": 26
    },
    {
     "cell_type": "code",
     "collapsed": false,
     "input": [
      "modelData"
     ],
     "language": "python",
     "metadata": {},
     "outputs": [
      {
       "metadata": {},
       "output_type": "pyout",
       "prompt_number": 23,
       "text": [
        "array([[ -5.35815077e-03,  -1.26804017e-02,   2.49010502e-02, ...,\n",
        "          1.02115603e-02,   1.71985749e-02,  -3.22953932e-02],\n",
        "       [ -1.42524775e-02,   1.11173243e-02,   5.34698075e-05, ...,\n",
        "         -2.25447897e-02,  -3.29261652e-02,   2.82828879e-02],\n",
        "       [  2.26350278e-02,  -1.32198933e-02,  -3.86775601e-02, ...,\n",
        "          8.34910308e-04,   1.51940578e-02,   4.19209571e-02],\n",
        "       ..., \n",
        "       [  1.14419250e-02,   1.10135278e-02,  -1.77034776e-02, ...,\n",
        "          1.23202463e-02,  -3.38306589e-02,  -2.73800509e-02],\n",
        "       [  8.67684387e-03,   3.00536411e-02,   8.11883845e-03, ...,\n",
        "         -1.29668953e-02,  -9.01146907e-03,  -5.58016192e-02],\n",
        "       [ -1.97367586e-02,  -5.30344363e-03,  -2.52481514e-02, ...,\n",
        "         -5.99922627e-03,  -5.68930224e-04,   1.10389796e-02]])"
       ]
      }
     ],
     "prompt_number": 23
    },
    {
     "cell_type": "heading",
     "level": 4,
     "metadata": {},
     "source": [
      "Verify this result with the error A.\n",
      "$$\\sigma_b^2 = \\frac{S}{\\triangle}$$\n",
      "$$ \\sigma_b^2 =\\frac{\\Sigma\\frac{1}{\\sigma_i^2}}{\\Sigma\\frac{x_i^2}{\\sigma_i^2}\\Sigma\\frac{1}{\\sigma_i^2}-(\\Sigma\\frac{x_i}{\\sigma_i^2})^2}$$"
     ]
    },
    {
     "cell_type": "code",
     "collapsed": false,
     "input": [
      "def minimizelnMLE(f,p,n):#(modelled-flux,profile,noise)\n",
      "    # Estimate value of parameter A\n",
      "    # making use of the element-by-element-wise operation\n",
      "    numerator = (sum(p*f))\n",
      "    denominator =(sum(p**2))\n",
      "    A = numerator/denominator\n",
      "    #Find error on estimated parameter \n",
      "    numerator = 1/sum(n**2)\n",
      "    denominator = sum(p**2/n**2)*sum(1/n**2)-(sum(p/n**2))**2\n",
      "    errA = np.sqrt(numerator/denominator)\n",
      "    return (A , errA)"
     ],
     "language": "python",
     "metadata": {},
     "outputs": [],
     "prompt_number": 24
    },
    {
     "cell_type": "markdown",
     "metadata": {},
     "source": [
      "## BR COMMENT\n",
      "\n",
      "In real life you need a model for the error (since you can't decompose your measured profile into signal + noise).  So in your expressions sigma_i^2 should be 1 (what you put in to generate the original Gauss profile) times (2e-2)**2, which you multiplied by later.  So the noise vector has the same value everywhere, just 0.0004.  That's what you should input to minimielnMLE."
     ]
    },
    {
     "cell_type": "code",
     "collapsed": false,
     "input": [
      "minimizelnMLE(modelData,profile,gaussNoise)"
     ],
     "language": "python",
     "metadata": {},
     "outputs": [
      {
       "metadata": {},
       "output_type": "pyout",
       "prompt_number": 25,
       "text": [
        "(1.0000059156857102, 1.6469443960283757e-09)"
       ]
      }
     ],
     "prompt_number": 25
    },
    {
     "cell_type": "heading",
     "level": 4,
     "metadata": {},
     "source": [
      "Monte Carlo: 1000 iterations of this procedure, get A "
     ]
    },
    {
     "cell_type": "code",
     "collapsed": false,
     "input": [
      "Alist=[]\n",
      "Aerrlist=[]\n",
      "def modelFitting():\n",
      "    # Generating 2D grid modelling de Vauc profile\n",
      "    # Should be repeating this procedure on a same-sized grid everytime\n",
      "    h = 50\n",
      "    w = 50\n",
      "    profile = np.zeros((h,w))\n",
      "    for y in np.arange(h): #loop thru col (y)\n",
      "        for x in np.arange(w): #loop thru col (x)\n",
      "            profile[y,x] = deVauc(x,y)\n",
      "    # Generating Gaussian Noise\n",
      "    gaussNoise =  np.random.normal(0, 1, h*w)\n",
      "    gaussNoise = gaussNoise.reshape(profile.shape)\n",
      "    modelData = 2e-2*gaussNoise+profile\n",
      "    A=minimizelnMLE(modelData,profile,gaussNoise)\n",
      "    Alist.append(A[0])\n",
      "    Aerrlist.append(A[1])"
     ],
     "language": "python",
     "metadata": {},
     "outputs": [],
     "prompt_number": 26
    },
    {
     "cell_type": "code",
     "collapsed": false,
     "input": [
      "#Monte Carlo on this 100 times\n",
      "for i in arange(100):\n",
      "    modelFitting()"
     ],
     "language": "python",
     "metadata": {},
     "outputs": [],
     "prompt_number": 27
    },
    {
     "cell_type": "code",
     "collapsed": false,
     "input": [
      "print(Alist)"
     ],
     "language": "python",
     "metadata": {},
     "outputs": [
      {
       "output_type": "stream",
       "stream": "stdout",
       "text": [
        "[1.0000018445492533, 0.99998259139459333, 0.99999455545559401, 1.0000058580963767, 1.0000282674615362, 0.99998616135620633, 0.99999746365067599, 0.99998704677583594, 1.0000164925447543, 1.0000053191243619, 1.0000039325275267, 0.99999177903229675, 0.99998533826799307, 1.0000005163805408, 0.99999002643066848, 1.0000069826752243, 0.99999546567146691, 1.0000118658140678, 1.0000162186550439, 0.99998783206967667, 1.0000027011072676, 0.9999906814336178, 0.999992757806764, 1.0000185412982532, 1.0000168490452392, 0.99999749843778307, 1.0000107810175862, 0.99999057571862648, 1.0000007450312227, 0.99999603774729429, 0.99999083392767063, 1.0000039277251644, 0.99999971176250513, 1.0000171633684738, 1.0000151904213075, 1.0000175451329614, 0.99999367986827536, 0.99999310450214696, 0.99999380973364238, 1.00001381585173, 1.0000002858173243, 0.99999298272852921, 1.0000044645871566, 0.99999787407255514, 1.000000911692835, 0.999998490785728, 1.0000059635594276, 0.99998591292510441, 0.99999333760982012, 1.0000054044646918, 1.0000052769340479, 1.0000016665295781, 1.0000099144584218, 0.99999704819653179, 1.0000139322534665, 0.99998748911986934, 1.0000071596732951, 1.000000579101789, 1.0000049931478499, 0.99999494825386659, 0.99999966380811756, 0.99999395193855545, 0.99999025359625193, 1.000001310504431, 1.000015483170213, 0.99999027296672227, 0.99998436161394855, 1.0000020876598565, 1.0000106171781962, 0.99999727363908686, 0.99999836382674934, 0.9999844351500824, 0.99998742648147865, 0.99999619614804991, 1.0000165707938491, 0.99999158749785932, 1.0000018225981846, 0.99999102327615352, 1.0000026546381808, 1.0000001831451197, 1.0000061142922427, 1.000007142168972, 0.99999513564408504, 1.0000158156614765, 0.99999134691149838, 1.0000154521184914, 0.99999381692278944, 1.0000068846696384, 0.99999735093418063, 0.99998534526934424, 0.99999617252518114, 1.0000041277862901, 0.9999886246169476, 0.99999955132053164, 1.0000057069414261, 1.0000192410432136, 0.99999678815008819, 1.0000097321268187, 1.0000069513337666, 1.0000131400143886]\n"
       ]
      }
     ],
     "prompt_number": 28
    },
    {
     "cell_type": "code",
     "collapsed": false,
     "input": [
      "print(Aerrlist)"
     ],
     "language": "python",
     "metadata": {},
     "outputs": [
      {
       "output_type": "stream",
       "stream": "stdout",
       "text": [
        "[1.2859702093805496e-10, 1.6336965474223724e-09, 1.283024320597676e-09, 1.5396883315716172e-09, 1.0391574030539655e-08, 4.3243947411435737e-09, 9.8454772572512718e-10, 8.0612500576693801e-09, 1.6447852602905141e-09, 2.5793966709555117e-09, 3.0201065009762418e-09, 7.6649812501480127e-10, 2.5065349103151043e-09, 4.469864178639979e-11, 1.3038252491816828e-08, 2.1200165947358553e-09, 7.2694632217712914e-10, 3.2375736111587259e-09, 7.8888796179613552e-09, 9.6360141382645183e-10, 5.4242734665345362e-10, 6.0739576123969377e-09, 5.7963761258705205e-09, 6.791487483650377e-10, 1.6124651653452903e-08, 1.5249192963755526e-11, 3.5304759909245974e-09, 6.0013209457019168e-10, 2.5585760281907819e-11, 1.1825495611179738e-09, 4.457399187270815e-09, 8.0606664945792906e-10, 1.1447796351033068e-10, 7.1376964744739332e-10, 4.3386945105752231e-09, 5.9493751639329977e-09, 1.0896397835099721e-10, 2.7662370916967139e-09, 1.5995550059119987e-09, 5.4536430380851299e-09, 4.5808875473479564e-11, 2.2930970625054643e-09, 1.6734970247228022e-09, 7.9518957802169377e-10, 2.9127670080526698e-10, 6.238563785107537e-10, 4.022652948882752e-09, 1.6214514705333838e-08, 1.4053775006326178e-09, 3.2226612823249468e-10, 8.4128645231605971e-10, 1.8737712075172183e-09, 2.8667536343750131e-11, 3.8230980107207445e-10, 6.9470426409069752e-09, 1.8203788489290233e-09, 9.1149663415062722e-09, 1.5408996051309319e-10, 1.8804950990846555e-09, 4.7687564148213801e-10, 5.4548401706390649e-11, 1.2585923560013976e-09, 7.774817338966528e-09, 7.2411774109803536e-10, 8.2994660227056843e-09, 2.5157495817612548e-09, 1.9037873070986263e-09, 3.6140917391018886e-10, 4.3226876831917758e-09, 1.9215854638310654e-10, 2.6488728260042065e-10, 2.359466341649991e-09, 4.0762444384750816e-10, 3.6605606828544173e-10, 1.213084888581189e-08, 3.9080327965435002e-11, 6.3838608813533354e-10, 5.0505095109440412e-10, 1.4605980785275472e-09, 7.2079999400659203e-11, 1.6122490995011266e-11, 2.3420141115030167e-09, 2.4527803475791021e-09, 6.8159618691217629e-09, 2.8585325927957383e-09, 2.7014435708614674e-09, 9.2812823975777329e-10, 3.6280613042235945e-09, 1.0080388978273874e-09, 1.7311688130891085e-09, 1.2438771356935769e-09, 1.2151729690058557e-09, 2.5837144970851646e-09, 1.6180474346842864e-10, 7.3704371684744408e-10, 9.7957232545763589e-10, 9.7832677060250797e-10, 1.1312020218382473e-09, 3.8622124112010777e-09, 3.648274090376665e-09]\n"
       ]
      }
     ],
     "prompt_number": 29
    },
    {
     "cell_type": "code",
     "collapsed": false,
     "input": [
      "plot(Alist,'o')"
     ],
     "language": "python",
     "metadata": {},
     "outputs": [
      {
       "metadata": {},
       "output_type": "pyout",
       "prompt_number": 30,
       "text": [
        "[<matplotlib.lines.Line2D at 0x109ceb8d0>]"
       ]
      },
      {
       "metadata": {},
       "output_type": "display_data",
       "png": "[encoded data removed]",
       "text": [
        "<matplotlib.figure.Figure at 0x109b99510>"
       ]
      }
     ],
     "prompt_number": 30
    },
    {
     "cell_type": "heading",
     "level": 4,
     "metadata": {},
     "source": [
      "Since values of A are uniformly distributed, calculate the variance (standard dev) and mean directly "
     ]
    },
    {
     "cell_type": "code",
     "collapsed": false,
     "input": [
      "count, bins, ignored = plt.hist(Alist, 30, normed=True)\n",
      "# Eyeball-estimate of mu and sigma for fit\n",
      "sigma=0.02\n",
      "mu=0.00003\n",
      "plt.plot(bins, 1/(sigma * np.sqrt(2 * np.pi)) *np.exp( - (bins - mu)**2 / (2 * sigma**2) ),linewidth=2, color='r')"
     ],
     "language": "python",
     "metadata": {},
     "outputs": [
      {
       "metadata": {},
       "output_type": "pyout",
       "prompt_number": 31,
       "text": [
        "[<matplotlib.lines.Line2D at 0x109c5e650>]"
       ]
      },
      {
       "metadata": {},
       "output_type": "display_data",
       "png": "[encoded data removed]",
       "text": [
        "<matplotlib.figure.Figure at 0x109c5e790>"
       ]
      }
     ],
     "prompt_number": 31
    },
    {
     "cell_type": "code",
     "collapsed": false,
     "input": [
      "Abar = mean(Alist)\n",
      "Asig = std(Alist)\n",
      "print(Abar)\n",
      "print (Asig)\n",
      "# print (Asig**2)"
     ],
     "language": "python",
     "metadata": {},
     "outputs": [
      {
       "output_type": "stream",
       "stream": "stdout",
       "text": [
        "1.00000070125\n",
        "9.7955525157e-06\n"
       ]
      }
     ],
     "prompt_number": 38
    },
    {
     "cell_type": "markdown",
     "metadata": {},
     "source": [
      "Error value obtained by the $\\sigma_b$ calculation (average of all the $\\sigma_b$  values, already square rooted)"
     ]
    },
    {
     "cell_type": "code",
     "collapsed": false,
     "input": [
      "mean(Aerrlist)"
     ],
     "language": "python",
     "metadata": {},
     "outputs": [
      {
       "metadata": {},
       "output_type": "pyout",
       "prompt_number": 33,
       "text": [
        "2.6564508523172387e-09"
       ]
      }
     ],
     "prompt_number": 33
    },
    {
     "cell_type": "heading",
     "level": 1,
     "metadata": {},
     "source": [
      "------------------------------------------------------------------------------------"
     ]
    },
    {
     "cell_type": "heading",
     "level": 2,
     "metadata": {},
     "source": [
      "(Ignore the parts below this)"
     ]
    },
    {
     "cell_type": "heading",
     "level": 5,
     "metadata": {},
     "source": [
      "Given this value of A, this should be the best fitting parameter for the linear model = $AP_i$ where $P_i$ = de Vauc(r)"
     ]
    },
    {
     "cell_type": "code",
     "collapsed": false,
     "input": [
      "def deVauc2 (r,Ie):\n",
      "    Re=1\n",
      "    return Ie*e**(-7.669*(((r/Re)**.25)-1))"
     ],
     "language": "python",
     "metadata": {},
     "outputs": [],
     "prompt_number": 34
    },
    {
     "cell_type": "code",
     "collapsed": false,
     "input": [
      "#Focus on looking at behaviour at small radius since the de Vauc profile flux decay as distance rapidly\n",
      "r = sort(np.array([ random.random()*0.2 for i in arange(100) ]))\n",
      "profile = array([ deVauc(r_i) for r_i in r ])\n",
      "plen=len(profile)\n",
      "gaussNoise = np.random.normal(0, 15, plen)\n",
      "modelData = profile+gaussNoise\n",
      "model = array([ deVauc2(r_i,Abar) for r_i in r ])\n",
      "plot(r,modelData,'o')\n",
      "# model = np.array(profile)*Abar\n",
      "plot (r, model,'r-')"
     ],
     "language": "python",
     "metadata": {},
     "outputs": [
      {
       "ename": "TypeError",
       "evalue": "deVauc() takes exactly 2 arguments (1 given)",
       "output_type": "pyerr",
       "traceback": [
        "\u001b[0;31m---------------------------------------------------------------------------\u001b[0m\n\u001b[0;31mTypeError\u001b[0m                                 Traceback (most recent call last)",
        "\u001b[0;32m<ipython-input-35-dfd5c0a8e79f>\u001b[0m in \u001b[0;36m<module>\u001b[0;34m()\u001b[0m\n\u001b[1;32m      1\u001b[0m \u001b[0;31m#Focus on looking at behaviour at small radius since the de Vauc profile flux decay as distance rapidly\u001b[0m\u001b[0;34m\u001b[0m\u001b[0;34m\u001b[0m\u001b[0m\n\u001b[1;32m      2\u001b[0m \u001b[0mr\u001b[0m \u001b[0;34m=\u001b[0m \u001b[0msort\u001b[0m\u001b[0;34m(\u001b[0m\u001b[0mnp\u001b[0m\u001b[0;34m.\u001b[0m\u001b[0marray\u001b[0m\u001b[0;34m(\u001b[0m\u001b[0;34m[\u001b[0m \u001b[0mrandom\u001b[0m\u001b[0;34m.\u001b[0m\u001b[0mrandom\u001b[0m\u001b[0;34m(\u001b[0m\u001b[0;34m)\u001b[0m\u001b[0;34m*\u001b[0m\u001b[0;36m0.2\u001b[0m \u001b[0;32mfor\u001b[0m \u001b[0mi\u001b[0m \u001b[0;32min\u001b[0m \u001b[0marange\u001b[0m\u001b[0;34m(\u001b[0m\u001b[0;36m100\u001b[0m\u001b[0;34m)\u001b[0m \u001b[0;34m]\u001b[0m\u001b[0;34m)\u001b[0m\u001b[0;34m)\u001b[0m\u001b[0;34m\u001b[0m\u001b[0m\n\u001b[0;32m----> 3\u001b[0;31m \u001b[0mprofile\u001b[0m \u001b[0;34m=\u001b[0m \u001b[0marray\u001b[0m\u001b[0;34m(\u001b[0m\u001b[0;34m[\u001b[0m \u001b[0mdeVauc\u001b[0m\u001b[0;34m(\u001b[0m\u001b[0mr_i\u001b[0m\u001b[0;34m)\u001b[0m \u001b[0;32mfor\u001b[0m \u001b[0mr_i\u001b[0m \u001b[0;32min\u001b[0m \u001b[0mr\u001b[0m \u001b[0;34m]\u001b[0m\u001b[0;34m)\u001b[0m\u001b[0;34m\u001b[0m\u001b[0m\n\u001b[0m\u001b[1;32m      4\u001b[0m \u001b[0mplen\u001b[0m\u001b[0;34m=\u001b[0m\u001b[0mlen\u001b[0m\u001b[0;34m(\u001b[0m\u001b[0mprofile\u001b[0m\u001b[0;34m)\u001b[0m\u001b[0;34m\u001b[0m\u001b[0m\n\u001b[1;32m      5\u001b[0m \u001b[0mgaussNoise\u001b[0m \u001b[0;34m=\u001b[0m \u001b[0mnp\u001b[0m\u001b[0;34m.\u001b[0m\u001b[0mrandom\u001b[0m\u001b[0;34m.\u001b[0m\u001b[0mnormal\u001b[0m\u001b[0;34m(\u001b[0m\u001b[0;36m0\u001b[0m\u001b[0;34m,\u001b[0m \u001b[0;36m15\u001b[0m\u001b[0;34m,\u001b[0m \u001b[0mplen\u001b[0m\u001b[0;34m)\u001b[0m\u001b[0;34m\u001b[0m\u001b[0m\n",
        "\u001b[0;31mTypeError\u001b[0m: deVauc() takes exactly 2 arguments (1 given)"
       ]
      }
     ],
     "prompt_number": 35
    },
    {
     "cell_type": "code",
     "collapsed": false,
     "input": [
      "#Focus on looking at behaviour at small radius since the de Vauc profile flux decay as distance rapidly\n",
      "r = sort(np.array([ random.random()*0.2 for i in arange(100) ]))\n",
      "profile = array([ deVauc(r_i) for r_i in r ])\n",
      "plen=len(profile)\n",
      "gaussNoise = np.random.normal(0, 15, plen)\n",
      "modelData = profile+gaussNoise\n",
      "model = array([ deVauc2(r_i,Abar*10) for r_i in r ])\n",
      "plot(r,modelData,'o')\n",
      "# model = np.array(profile)*Abar\n",
      "plot (r, model,'r-')"
     ],
     "language": "python",
     "metadata": {},
     "outputs": []
    },
    {
     "cell_type": "code",
     "collapsed": false,
     "input": [
      "# # plotting the old profile shows the deviation due to the added noise\n",
      "\n",
      "# print(p)\n",
      "# print(model)\n",
      "# plot(r,model,'r-')\n"
     ],
     "language": "python",
     "metadata": {},
     "outputs": []
    },
    {
     "cell_type": "markdown",
     "metadata": {},
     "source": [
      "It seems like its off by a factor of 10. Not too sure why. "
     ]
    },
    {
     "cell_type": "heading",
     "level": 4,
     "metadata": {},
     "source": [
      "Using Scipy's built in non-linear least squares "
     ]
    },
    {
     "cell_type": "code",
     "collapsed": false,
     "input": [
      "# import lmfit"
     ],
     "language": "python",
     "metadata": {},
     "outputs": []
    },
    {
     "cell_type": "code",
     "collapsed": false,
     "input": [
      "from scipy.optimize import curve_fit"
     ],
     "language": "python",
     "metadata": {},
     "outputs": []
    },
    {
     "cell_type": "code",
     "collapsed": false,
     "input": [
      "scipy.optimize.curve_fit"
     ],
     "language": "python",
     "metadata": {},
     "outputs": []
    },
    {
     "cell_type": "code",
     "collapsed": false,
     "input": [
      "from scipy.optimize import curve_fit\n",
      "# plot(r,p,'o')\n",
      "fitpars, covmat = curve_fit(deVauc2,r,modelData)\n",
      "plot(r, deVauc2(r, fitpars[0]))\n",
      "plot(r,modelData,'o')\n",
      "fitpars"
     ],
     "language": "python",
     "metadata": {},
     "outputs": []
    },
    {
     "cell_type": "markdown",
     "metadata": {},
     "source": [
      "This makes sense that when I'm using the model this value should be close to 1. Since I used I_e as 1 to generate this data.\n",
      "So if I used I_e =4 to generate the data then this would obviously yield something close to 3. "
     ]
    },
    {
     "cell_type": "code",
     "collapsed": false,
     "input": [
      "def deVauc3 (r):\n",
      "    Ie=3\n",
      "    Re=1\n",
      "    return Ie*e**(-7.669*(((r/Re)**.25)-1))"
     ],
     "language": "python",
     "metadata": {},
     "outputs": []
    },
    {
     "cell_type": "code",
     "collapsed": false,
     "input": [
      "r = sort(np.array([ random.random()*0.2 for i in arange(100) ]))\n",
      "profile = array([ deVauc3(r_i) for r_i in r ])\n",
      "plen=len(profile)\n",
      "gaussNoise = np.random.normal(0, 15, plen)\n",
      "modelData = profile+gaussNoise\n",
      "# model = np.array(profile)*Abar\n",
      "from scipy.optimize import curve_fit\n",
      "# plot(r,p,'o')\n",
      "fitpars, covmat = curve_fit(deVauc2,r,modelData)\n",
      "plot(r, deVauc2(r, fitpars[0]))\n",
      "plot(r,modelData,'o')\n",
      "print(fitpars)\n",
      "print (covmat)"
     ],
     "language": "python",
     "metadata": {},
     "outputs": []
    },
    {
     "cell_type": "markdown",
     "metadata": {},
     "source": [
      "But I think this is a bit weird in general because we are using the same set of data to fit the data and in the model and just adding random noise to it. So obviously this should only work if our linear model is equal to the original model with the coefficient as 1 . \n",
      "We need to use flux data from photo obj or its residual (error image) to test this. "
     ]
    }
   ],
   "metadata": {}
  }
 ]
}