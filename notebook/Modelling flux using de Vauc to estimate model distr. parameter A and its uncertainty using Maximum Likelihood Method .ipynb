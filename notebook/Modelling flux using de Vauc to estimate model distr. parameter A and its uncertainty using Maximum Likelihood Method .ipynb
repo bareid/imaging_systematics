{
 "metadata": {
  "name": "",
  "signature": "sha256:f46de51d5785dda8844b097a71a26a41761fb05df673473f07662b1852553389"
 },
 "nbformat": 3,
 "nbformat_minor": 0,
 "worksheets": [
  {
   "cells": [
    {
     "cell_type": "code",
     "collapsed": false,
     "input": [
      "%pylab\n",
      "%matplotlib inline"
     ],
     "language": "python",
     "metadata": {},
     "outputs": [
      {
       "output_type": "stream",
       "stream": "stdout",
       "text": [
        "Using matplotlib backend: MacOSX\n",
        "Populating the interactive namespace from numpy and matplotlib\n"
       ]
      },
      {
       "output_type": "stream",
       "stream": "stderr",
       "text": [
        "WARNING: pylab import has clobbered these variables: ['f']\n",
        "`%matplotlib` prevents importing * from pylab and numpy\n"
       ]
      }
     ],
     "prompt_number": 2
    },
    {
     "cell_type": "markdown",
     "metadata": {},
     "source": [
      "The analytical solution in (Trujillo et.al 2001 eq 6) only works along the major axis where $\\theta$ = 0  (elliptical coord), so I am just using the non PSF convolved de Vauc profile for now.\n",
      "$$P(R)= I(R)=I_e * exp[-7.669(R/R_e)^{1/4}-1]$$"
     ]
    },
    {
     "cell_type": "markdown",
     "metadata": {},
     "source": [
      "Sample 2D grid of points with each value in the array reprsenting I(x,y):\n",
      "$$P(R)= I(R)=I_e * exp[-7.669(\\sqrt{x^2+y^2}/R_e)^{1/4}-1]$$"
     ]
    },
    {
     "cell_type": "markdown",
     "metadata": {},
     "source": [
      "- Ie: surface brightness at Re\n",
      "- Re: the radius of the isophote containing half the luminosity \n",
      "- What values to put of Ie and Re(?)"
     ]
    },
    {
     "cell_type": "markdown",
     "metadata": {},
     "source": [
      "Because of te exponential decay in the above equation, the intensity falls off rapidly, so I chose a small radius so that the effect can be seen."
     ]
    },
    {
     "cell_type": "code",
     "collapsed": false,
     "input": [
      "# size of a modelled image \n",
      "h = 50\n",
      "w = 50\n",
      "profile = np.zeros((h,w))"
     ],
     "language": "python",
     "metadata": {},
     "outputs": [],
     "prompt_number": 3
    },
    {
     "cell_type": "markdown",
     "metadata": {},
     "source": [
      "Also need to center it around the center of the image."
     ]
    },
    {
     "cell_type": "code",
     "collapsed": false,
     "input": [
      "def deVauc(x,y):\n",
      "    Ie= 1\n",
      "    Re=1\n",
      "    r = np.sqrt((x-(w/2))**2+(y-(h/2))**2) #note: integer division is intentional\n",
      "    return Ie*e**(-7.669*(((r/Re)**.25)-1))"
     ],
     "language": "python",
     "metadata": {},
     "outputs": [],
     "prompt_number": 4
    },
    {
     "cell_type": "code",
     "collapsed": false,
     "input": [
      "# Filling flux value (fij) of every pixel in image \n",
      "for y in np.arange(h): #loop thru col (y)\n",
      "    for x in np.arange(w): #loop thru col (x)\n",
      "        profile[y,x] = deVauc(x,y)"
     ],
     "language": "python",
     "metadata": {},
     "outputs": [],
     "prompt_number": 5
    },
    {
     "cell_type": "markdown",
     "metadata": {},
     "source": [
      "Verify that this looks like a circular profile when stretched on log-scale."
     ]
    },
    {
     "cell_type": "code",
     "collapsed": false,
     "input": [
      "from pylab import figure, cm\n",
      "from matplotlib.colors import LogNorm\n",
      "f = figure(figsize=(6.2,5.6))\n",
      "ax = f.add_axes([0.17, 0.02, 0.72, 0.79])\n",
      "axcolor = f.add_axes([0.90, 0.02, 0.03, 0.79])\n",
      "im = ax.matshow(profile, cmap=cm.gray_r, norm=LogNorm(vmin=0.01, vmax=1))\n",
      "mx = profile.max()\n",
      "t = [0, mx] #doesnt' display anything above 1.\n",
      "f.colorbar(im, cax=axcolor, ticks=t, format='$%.2f$')\n",
      "f.show()"
     ],
     "language": "python",
     "metadata": {},
     "outputs": [
      {
       "metadata": {},
       "output_type": "display_data",
       "png": "[encoded data removed]",
       "text": [
        "<matplotlib.figure.Figure at 0x1054a8750>"
       ]
      }
     ],
     "prompt_number": 16
    },
    {
     "cell_type": "code",
     "collapsed": false,
     "input": [
      "p = set(profile.flatten())"
     ],
     "language": "python",
     "metadata": {},
     "outputs": [],
     "prompt_number": 50
    },
    {
     "cell_type": "code",
     "collapsed": false,
     "input": [
      "len(list(p))"
     ],
     "language": "python",
     "metadata": {},
     "outputs": [
      {
       "metadata": {},
       "output_type": "pyout",
       "prompt_number": 51,
       "text": [
        "294"
       ]
      }
     ],
     "prompt_number": 51
    },
    {
     "cell_type": "heading",
     "level": 4,
     "metadata": {},
     "source": [
      "Verify that it looks like de Vauc function"
     ]
    },
    {
     "cell_type": "code",
     "collapsed": false,
     "input": [
      "plot(sort(list(p))[:293]) #truncate outlier \n",
      "# plot(sort(list(profile)),'o')"
     ],
     "language": "python",
     "metadata": {},
     "outputs": [
      {
       "metadata": {},
       "output_type": "pyout",
       "prompt_number": 52,
       "text": [
        "[<matplotlib.lines.Line2D at 0x10cdb7c10>]"
       ]
      },
      {
       "metadata": {},
       "output_type": "display_data",
       "png": "[encoded data removed]",
       "text": [
        "<matplotlib.figure.Figure at 0x10cf21e90>"
       ]
      }
     ],
     "prompt_number": 52
    },
    {
     "cell_type": "heading",
     "level": 4,
     "metadata": {},
     "source": [
      "Generating noise sampled from a Gaussian"
     ]
    },
    {
     "cell_type": "code",
     "collapsed": false,
     "input": [
      "#Scale by max radius ?\n",
      "rad = np.sqrt(h**2+w**2)\n",
      "print(rad)"
     ],
     "language": "python",
     "metadata": {},
     "outputs": [
      {
       "output_type": "stream",
       "stream": "stdout",
       "text": [
        "70.7106781187\n"
       ]
      }
     ],
     "prompt_number": 53
    },
    {
     "cell_type": "code",
     "collapsed": false,
     "input": [
      "plen = len(profile)\n",
      "gaussNoise =  np.random.normal(0, 1, h*w)"
     ],
     "language": "python",
     "metadata": {},
     "outputs": [],
     "prompt_number": 54
    },
    {
     "cell_type": "code",
     "collapsed": false,
     "input": [
      "count, bins, ignored = plt.hist(gaussNoise, 25, normed=True)\n",
      "sigma=1\n",
      "mu=0\n",
      "plt.plot(bins, 1/(sigma * np.sqrt(2 * np.pi)) *np.exp( - (bins - mu)**2 / (2 * sigma**2) ),linewidth=2, color='r')"
     ],
     "language": "python",
     "metadata": {},
     "outputs": [
      {
       "metadata": {},
       "output_type": "pyout",
       "prompt_number": 55,
       "text": [
        "[<matplotlib.lines.Line2D at 0x10cdd6450>]"
       ]
      },
      {
       "metadata": {},
       "output_type": "display_data",
       "png": "[encoded data removed]",
       "text": [
        "<matplotlib.figure.Figure at 0x10cdd64d0>"
       ]
      }
     ],
     "prompt_number": 55
    },
    {
     "cell_type": "code",
     "collapsed": false,
     "input": [
      "gaussNoise = gaussNoise.reshape(profile.shape)"
     ],
     "language": "python",
     "metadata": {},
     "outputs": [],
     "prompt_number": 56
    },
    {
     "cell_type": "code",
     "collapsed": false,
     "input": [
      "gaussNoise"
     ],
     "language": "python",
     "metadata": {},
     "outputs": [
      {
       "metadata": {},
       "output_type": "pyout",
       "prompt_number": 57,
       "text": [
        "array([[ 0.30301377,  1.29803935,  0.34063639, ...,  1.91955311,\n",
        "        -0.24764675,  0.69764285],\n",
        "       [ 1.40681954,  0.56511267,  1.64834057, ..., -0.18694909,\n",
        "        -0.28604866,  1.7858142 ],\n",
        "       [-0.13179867, -0.60480025,  0.44519104, ...,  0.87614707,\n",
        "        -1.04343327,  1.21780558],\n",
        "       ..., \n",
        "       [ 0.44894617, -0.47380822,  0.00807694, ...,  1.21300409,\n",
        "         1.03613634, -0.46345056],\n",
        "       [-1.46103049,  1.08571807,  0.81259748, ..., -0.33293254,\n",
        "        -1.27402802,  1.08526691],\n",
        "       [-0.09339653, -0.43447092, -1.14078134, ..., -1.53747532,\n",
        "        -0.92309883,  1.83263748]])"
       ]
      }
     ],
     "prompt_number": 57
    },
    {
     "cell_type": "code",
     "collapsed": false,
     "input": [
      "profile"
     ],
     "language": "python",
     "metadata": {},
     "outputs": [
      {
       "metadata": {},
       "output_type": "pyout",
       "prompt_number": 58,
       "text": [
        "array([[  1.61843051e-05,   1.77659795e-05,   1.94900682e-05, ...,\n",
        "          2.13644840e-05,   1.94900682e-05,   1.77659795e-05],\n",
        "       [  1.77659795e-05,   1.95684587e-05,   2.15429601e-05, ...,\n",
        "          2.37006334e-05,   2.15429601e-05,   1.95684587e-05],\n",
        "       [  1.94900682e-05,   2.15429601e-05,   2.38033390e-05, ...,\n",
        "          2.62866178e-05,   2.38033390e-05,   2.15429601e-05],\n",
        "       ..., \n",
        "       [  2.13644840e-05,   2.37006334e-05,   2.62866178e-05, ...,\n",
        "          2.91434194e-05,   2.62866178e-05,   2.37006334e-05],\n",
        "       [  1.94900682e-05,   2.15429601e-05,   2.38033390e-05, ...,\n",
        "          2.62866178e-05,   2.38033390e-05,   2.15429601e-05],\n",
        "       [  1.77659795e-05,   1.95684587e-05,   2.15429601e-05, ...,\n",
        "          2.37006334e-05,   2.15429601e-05,   1.95684587e-05]])"
       ]
      }
     ],
     "prompt_number": 58
    },
    {
     "cell_type": "heading",
     "level": 4,
     "metadata": {},
     "source": [
      "Adding noise to profile to create model data and scaling up the noise by a factor so that its effect is present."
     ]
    },
    {
     "cell_type": "code",
     "collapsed": false,
     "input": [
      "p = profile.flatten()\n",
      "# modelData = sort(p)#+2e-100*gaussNoise[:293]\n",
      "# m = set(modelData.flatten())\n",
      "# m = list(set(modelData.flatten()))[:250]\n",
      "\n",
      "# sort(list(p))[:293]\n",
      "modelData = sort(list(p))+2e-2*gaussNoise.flatten()"
     ],
     "language": "python",
     "metadata": {},
     "outputs": [],
     "prompt_number": 100
    },
    {
     "cell_type": "code",
     "collapsed": false,
     "input": [
      "modelData.shape"
     ],
     "language": "python",
     "metadata": {},
     "outputs": [
      {
       "metadata": {},
       "output_type": "pyout",
       "prompt_number": 101,
       "text": [
        "(2500,)"
       ]
      }
     ],
     "prompt_number": 101
    },
    {
     "cell_type": "code",
     "collapsed": false,
     "input": [
      "# plt.plot(sort(modelData)[:293],'o')\n",
      "# plt.plot(linspace(0,rad,len(modelData)),modelData,'o')\n",
      "plt.plot(modelData[:2499],'o')\n",
      "# plt.plot(sort(list(p))[:293],'o')\n",
      "# plot(r,modelData,'o')\n",
      "# # # plotting the old profile shows the deviation due to the added noise\n",
      "# plot(r,profile,'r-')"
     ],
     "language": "python",
     "metadata": {},
     "outputs": [
      {
       "metadata": {},
       "output_type": "pyout",
       "prompt_number": 106,
       "text": [
        "[<matplotlib.lines.Line2D at 0x10ddcd110>]"
       ]
      },
      {
       "metadata": {},
       "output_type": "display_data",
       "png": "[encoded data removed]",
       "text": [
        "<matplotlib.figure.Figure at 0x10dc4f090>"
       ]
      }
     ],
     "prompt_number": 106
    },
    {
     "cell_type": "markdown",
     "metadata": {},
     "source": [
      "Looks kind of weird but this is because of the large array that was passed in. Could also try fitting just unique values as in the first plot."
     ]
    },
    {
     "cell_type": "markdown",
     "metadata": {},
     "source": [
      "Minimize the natural-log of the likelihood function and using a linear model where the y-intercept =0\n",
      "$$ A = \\frac{\\overline{PF}}{\\overline{P^2}}$$\n",
      "After setting 1st derivative with respect to A =0, we get\n",
      "$$A=\\frac{\\frac{1}{n}\\Sigma_{i=0}^N P_i f_i}{\\frac{1}{n}\\Sigma_{i=0}^NP_i^2} = \\frac{\\Sigma_{i=0}^N P_i f_i}{\\Sigma_{i=0}^NP_i^2} $$\n",
      "where x:de Vauc model(Pij) , y: data (fij)"
     ]
    },
    {
     "cell_type": "markdown",
     "metadata": {},
     "source": [
      "Plugging the De Vauc Profile,one of the  I_e cancel out : \n",
      "$$A=\\frac{\\Sigma_{i=1}^N exp[-7.669(R/R_e)^{1/4}-1] f_i}{I_e\\Sigma_{i=1}^N [exp[-7.669(R/R_e)^{1/4}-1]]^2}$$"
     ]
    },
    {
     "cell_type": "markdown",
     "metadata": {},
     "source": [
      "Uncertainty on fitting parameter A (denoted by b)\n",
      "$$\\sigma_b^2 = \\frac{S}{\\triangle}=\\frac{\\Sigma_{i=1}^N \\frac{1}{\\sigma_i^2}}{\\Sigma_{i=1}^N \\frac{1}{\\sigma_i^2}\\Sigma_{i=1}^N \\frac{P_i^2}{\\sigma_i^2}-\\Sigma_{i=1}^N [\\frac{P_i}{\\sigma_i^2}]^2}$$"
     ]
    },
    {
     "cell_type": "code",
     "collapsed": false,
     "input": [
      "def minimizelnMLE(r,flux,profile,noise):\n",
      "    # Estimate value of parameter A\n",
      "    numerator = (sum(deVauc(r)*modelData))\n",
      "    denominator =(sum(deVauc(r))**2)\n",
      "    A =numerator/denominator\n",
      "    #Find error on estimated parameter \n",
      "    numerator = 1/sum(gaussNoise)\n",
      "    denominator = (sum(1/gaussNoise**2)*sum((deVauc(r)**2)/gaussNoise**2))-(sum((deVauc(r)/gaussNoise**2)**2))\n",
      "    errA = numerator/denominator\n",
      "    return (A , errA)"
     ],
     "language": "python",
     "metadata": {},
     "outputs": [],
     "prompt_number": 33
    },
    {
     "cell_type": "code",
     "collapsed": false,
     "input": [
      "minimizelnMLE(r,modelData,p,gaussNoise)"
     ],
     "language": "python",
     "metadata": {},
     "outputs": [],
     "prompt_number": 109
    },
    {
     "cell_type": "heading",
     "level": 4,
     "metadata": {},
     "source": [
      "Monte Carlo: 1000 iterations of this procedure, get A "
     ]
    },
    {
     "cell_type": "code",
     "collapsed": false,
     "input": [
      "Alist=[]\n",
      "Aerrlist=[]\n",
      "def modelFitting():\n",
      "    r = sort(np.array([ random.random()*6 for i in arange(100) ]))\n",
      "    profile = array([ deVauc(r_i) for r_i in r ])\n",
      "    plen=len(profile)\n",
      "    gaussNoise = np.random.normal(0, 0.1, plen)\n",
      "    modelData = p+gaussNoise\n",
      "    A=minimizelnMLE(r,modelData,profile,gaussNoise)\n",
      "    Alist.append(A[0])\n",
      "    Aerrlist.append(A[1])"
     ],
     "language": "python",
     "metadata": {},
     "outputs": []
    },
    {
     "cell_type": "code",
     "collapsed": false,
     "input": [
      "# modelFitting()\n",
      "# print(Alist)\n",
      "# print (Aerrlist)"
     ],
     "language": "python",
     "metadata": {},
     "outputs": []
    },
    {
     "cell_type": "code",
     "collapsed": false,
     "input": [
      "#Monte Carlo on this 100 times\n",
      "for i in arange(100):\n",
      "    modelFitting()"
     ],
     "language": "python",
     "metadata": {},
     "outputs": []
    },
    {
     "cell_type": "code",
     "collapsed": false,
     "input": [
      "print(Alist)\n",
      "# print(Aerrlist)"
     ],
     "language": "python",
     "metadata": {},
     "outputs": []
    },
    {
     "cell_type": "code",
     "collapsed": false,
     "input": [
      "# Aerrlist"
     ],
     "language": "python",
     "metadata": {},
     "outputs": []
    },
    {
     "cell_type": "code",
     "collapsed": false,
     "input": [
      "# plot(Alist,'o')"
     ],
     "language": "python",
     "metadata": {},
     "outputs": []
    },
    {
     "cell_type": "heading",
     "level": 4,
     "metadata": {},
     "source": [
      "~~Plot Histogram of value of A. Fit a Gaussian to get variance parameter~~"
     ]
    },
    {
     "cell_type": "code",
     "collapsed": false,
     "input": [
      "# import numpy\n",
      "# from scipy.optimize import curve_fit\n",
      "# import matplotlib.pyplot as plt\n",
      "\n",
      "# data = Alist\n",
      "# hist, bin_edges = numpy.histogram(Alist, 25,density=True)\n",
      "# bin_centres = (bin_edges[:-1] + bin_edges[1:])/2\n",
      "\n",
      "# def gauss(x, *p):\n",
      "#     A, mu, sigma = p\n",
      "#     return A*numpy.exp(-(x-mu)**2/(2.*sigma**2))\n",
      "\n",
      "# # p0 is the initial guess for the fitting coefficients (A, mu and sigma above)\n",
      "# p0 = [1., 0., 1.]\n",
      "\n",
      "# coeff, var_matrix = curve_fit(gauss, bin_centres, hist, p0=p0)\n",
      "\n",
      "# # fitted curve\n",
      "# hist_fit = gauss(bin_centres, *coeff)\n",
      "# print 'Fitted mean = ', coeff[1]\n",
      "# print 'Fitted sigma = ', coeff[2]\n",
      "# count, bins, ignored = plt.hist(Alist, 25, normed=True)\n",
      "# # Eyeball-estimate of mu and sigma for fit\n",
      "# # sigma=0.05\n",
      "# # mu=0.1\n",
      "# # plt.plot(bins, 1/(sigma * np.sqrt(2 * np.pi)) *np.exp( - (bins - mu)**2 / (2 * sigma**2) ),linewidth=2, color='r')\n",
      "# plt.plot(bin_centres, hist_fit,color='red')\n",
      "# plt.plot(bin_centres, hist_fit,color='red')"
     ],
     "language": "python",
     "metadata": {},
     "outputs": []
    },
    {
     "cell_type": "heading",
     "level": 4,
     "metadata": {},
     "source": [
      "Calculating the Variance (standard dev) and mean directly "
     ]
    },
    {
     "cell_type": "code",
     "collapsed": false,
     "input": [
      "Abar = mean(Alist)\n",
      "Asig = std(Alist)\n",
      "print(Abar)\n",
      "print (Asig)"
     ],
     "language": "python",
     "metadata": {},
     "outputs": []
    },
    {
     "cell_type": "code",
     "collapsed": false,
     "input": [
      "# count, bins, ignored = plt.hist(Alist, 30, normed=True)\n",
      "# # Eyeball-estimate of mu and sigma for fit\n",
      "# # sigma=0.05\n",
      "# # mu=0.1\n",
      "# # plt.plot(bins, 1/(sigma * np.sqrt(2 * np.pi)) *np.exp( - (bins - mu)**2 / (2 * sigma**2) ),linewidth=2, color='r')\n",
      "# plt.plot(bin_centres, hist_fit,color='red')"
     ],
     "language": "python",
     "metadata": {},
     "outputs": []
    },
    {
     "cell_type": "code",
     "collapsed": false,
     "input": [
      "# from scipy.optimize import curve_fit\n",
      "# # plot(r,p,'o')\n",
      "# def gauss (x,mu,sigma):\n",
      "#     return 1/(sigma * np.sqrt(2 * np.pi)) *np.exp( - (x- mu)**2 / (2 * sigma**2) )\n",
      "# fitpars, covmat = curve_fit(gauss,np.linspace(0,0.3,100),Alist)\n",
      "# plot(r, gauss(r, fitpars[0], fitpars[1]))\n",
      "# fitpars[1]"
     ],
     "language": "python",
     "metadata": {},
     "outputs": []
    },
    {
     "cell_type": "code",
     "collapsed": false,
     "input": [
      "# plot(r, gauss(r, fitpars[0], fitpars[1]))"
     ],
     "language": "python",
     "metadata": {},
     "outputs": []
    },
    {
     "cell_type": "heading",
     "level": 4,
     "metadata": {},
     "source": [
      "Verify this result with the error A."
     ]
    },
    {
     "cell_type": "markdown",
     "metadata": {},
     "source": [
      "$$\\sigma_b^2 = \\frac{S}{\\triangle}$$\n",
      "After factoring out and eliminating the common factor $\\Sigma \\frac{1}{\\sigma_i^2}$,\n",
      "$$\\sigma_b^2 = \\frac{\\Sigma\\frac{1}{\\sigma_i^2}}{\\Sigma\\frac{x_i^2}{\\sigma_i^2}-\\Sigma\\frac{x_i}{\\sigma_i^2}}$$"
     ]
    },
    {
     "cell_type": "code",
     "collapsed": false,
     "input": [
      "# AsigmaSqred_predicted = 1/(sum(p**2/gaussNoise**2)-sum(p/gaussNoise**2))\n",
      "AsigmaSqred_predicted = (sum(1/gaussNoise**2))/(sum(deVauc(r)**2/gaussNoise**2)-sum(deVauc(r)/gaussNoise**2))"
     ],
     "language": "python",
     "metadata": {},
     "outputs": []
    },
    {
     "cell_type": "code",
     "collapsed": false,
     "input": [
      "AsigmaSqred_predicted"
     ],
     "language": "python",
     "metadata": {},
     "outputs": []
    },
    {
     "cell_type": "heading",
     "level": 5,
     "metadata": {},
     "source": [
      "Given this value of A, this should be the best fitting parameter for the linear model = $AP_i$ where $P_i$ = de Vauc(r)"
     ]
    },
    {
     "cell_type": "code",
     "collapsed": false,
     "input": [
      "def deVauc2 (r,Ie):\n",
      "    Re=1\n",
      "    return Ie*e**(-7.669*(((r/Re)**.25)-1))"
     ],
     "language": "python",
     "metadata": {},
     "outputs": []
    },
    {
     "cell_type": "code",
     "collapsed": false,
     "input": [
      "#Focus on looking at behaviour at small radius since the de Vauc profile flux decay as distance rapidly\n",
      "r = sort(np.array([ random.random()*0.2 for i in arange(100) ]))\n",
      "profile = array([ deVauc(r_i) for r_i in r ])\n",
      "plen=len(profile)\n",
      "gaussNoise = np.random.normal(0, 15, plen)\n",
      "modelData = profile+gaussNoise\n",
      "model = array([ deVauc2(r_i,Abar) for r_i in r ])\n",
      "plot(r,modelData,'o')\n",
      "# model = np.array(profile)*Abar\n",
      "plot (r, model,'r-')"
     ],
     "language": "python",
     "metadata": {},
     "outputs": []
    },
    {
     "cell_type": "code",
     "collapsed": false,
     "input": [
      "#Focus on looking at behaviour at small radius since the de Vauc profile flux decay as distance rapidly\n",
      "r = sort(np.array([ random.random()*0.2 for i in arange(100) ]))\n",
      "profile = array([ deVauc(r_i) for r_i in r ])\n",
      "plen=len(profile)\n",
      "gaussNoise = np.random.normal(0, 15, plen)\n",
      "modelData = profile+gaussNoise\n",
      "model = array([ deVauc2(r_i,Abar*10) for r_i in r ])\n",
      "plot(r,modelData,'o')\n",
      "# model = np.array(profile)*Abar\n",
      "plot (r, model,'r-')"
     ],
     "language": "python",
     "metadata": {},
     "outputs": []
    },
    {
     "cell_type": "code",
     "collapsed": false,
     "input": [
      "# # plotting the old profile shows the deviation due to the added noise\n",
      "\n",
      "# print(p)\n",
      "# print(model)\n",
      "# plot(r,model,'r-')\n"
     ],
     "language": "python",
     "metadata": {},
     "outputs": []
    },
    {
     "cell_type": "markdown",
     "metadata": {},
     "source": [
      "It seems like its off by a factor of 10. Not too sure why. "
     ]
    },
    {
     "cell_type": "heading",
     "level": 4,
     "metadata": {},
     "source": [
      "Using Scipy's built in non-linear least squares "
     ]
    },
    {
     "cell_type": "code",
     "collapsed": false,
     "input": [
      "# import lmfit"
     ],
     "language": "python",
     "metadata": {},
     "outputs": []
    },
    {
     "cell_type": "code",
     "collapsed": false,
     "input": [
      "from scipy.optimize import curve_fit"
     ],
     "language": "python",
     "metadata": {},
     "outputs": []
    },
    {
     "cell_type": "code",
     "collapsed": false,
     "input": [
      "scipy.optimize.curve_fit"
     ],
     "language": "python",
     "metadata": {},
     "outputs": []
    },
    {
     "cell_type": "code",
     "collapsed": false,
     "input": [
      "from scipy.optimize import curve_fit\n",
      "# plot(r,p,'o')\n",
      "fitpars, covmat = curve_fit(deVauc2,r,modelData)\n",
      "plot(r, deVauc2(r, fitpars[0]))\n",
      "plot(r,modelData,'o')\n",
      "fitpars"
     ],
     "language": "python",
     "metadata": {},
     "outputs": []
    },
    {
     "cell_type": "markdown",
     "metadata": {},
     "source": [
      "This makes sense that when I'm using the model this value should be close to 1. Since I used I_e as 1 to generate this data.\n",
      "So if I used I_e =4 to generate the data then this would obviously yield something close to 3. "
     ]
    },
    {
     "cell_type": "code",
     "collapsed": false,
     "input": [
      "def deVauc3 (r):\n",
      "    Ie=3\n",
      "    Re=1\n",
      "    return Ie*e**(-7.669*(((r/Re)**.25)-1))"
     ],
     "language": "python",
     "metadata": {},
     "outputs": []
    },
    {
     "cell_type": "code",
     "collapsed": false,
     "input": [
      "r = sort(np.array([ random.random()*0.2 for i in arange(100) ]))\n",
      "profile = array([ deVauc3(r_i) for r_i in r ])\n",
      "plen=len(profile)\n",
      "gaussNoise = np.random.normal(0, 15, plen)\n",
      "modelData = profile+gaussNoise\n",
      "# model = np.array(profile)*Abar\n",
      "from scipy.optimize import curve_fit\n",
      "# plot(r,p,'o')\n",
      "fitpars, covmat = curve_fit(deVauc2,r,modelData)\n",
      "plot(r, deVauc2(r, fitpars[0]))\n",
      "plot(r,modelData,'o')\n",
      "print(fitpars)\n",
      "print (covmat)"
     ],
     "language": "python",
     "metadata": {},
     "outputs": []
    },
    {
     "cell_type": "markdown",
     "metadata": {},
     "source": [
      "But I think this is a bit weird in general because we are using the same set of data to fit the data and in the model and just adding random noise to it. So obviously this should only work if our linear model is equal to the original model with the coefficient as 1 . \n",
      "We need to use flux data from photo obj or its residual (error image) to test this. "
     ]
    }
   ],
   "metadata": {}
  }
 ]
}